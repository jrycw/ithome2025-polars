{
 "cells": [
  {
   "cell_type": "code",
   "execution_count": 1,
   "id": "56549668",
   "metadata": {},
   "outputs": [],
   "source": [
    "from datetime import date\n",
    "\n",
    "import polars as pl"
   ]
  },
  {
   "cell_type": "code",
   "execution_count": 2,
   "id": "3551c8f4",
   "metadata": {},
   "outputs": [
    {
     "name": "stdout",
     "output_type": "stream",
     "text": [
      "shape: (3, 2)\n",
      "┌──────┬─────────┐\n",
      "│ name ┆ has_pet │\n",
      "│ ---  ┆ ---     │\n",
      "│ str  ┆ str     │\n",
      "╞══════╪═════════╡\n",
      "│ Tom  ┆ Y       │\n",
      "│ Lisa ┆ N       │\n",
      "│ John ┆ Y       │\n",
      "└──────┴─────────┘\n"
     ]
    }
   ],
   "source": [
    "df1 = pl.DataFrame(\n",
    "    {\"name\": [\"Tom\", \"Lisa\", \"John\"], \"has_pet\": [\"Y\", \"N\", \"Y\"]}\n",
    ")\n",
    "print(df1)"
   ]
  },
  {
   "cell_type": "code",
   "execution_count": 3,
   "id": "7ac09d8f",
   "metadata": {},
   "outputs": [
    {
     "name": "stdout",
     "output_type": "stream",
     "text": [
      "shape: (4, 2)\n",
      "┌─────────┬──────────────┐\n",
      "│ name    ┆ lucky_number │\n",
      "│ ---     ┆ ---          │\n",
      "│ str     ┆ i64          │\n",
      "╞═════════╪══════════════╡\n",
      "│ Lisa    ┆ 25           │\n",
      "│ John    ┆ 36           │\n",
      "│ Vincent ┆ 7            │\n",
      "│ Mary    ┆ 2            │\n",
      "└─────────┴──────────────┘\n"
     ]
    }
   ],
   "source": [
    "df2 = pl.DataFrame(\n",
    "    {\n",
    "        \"name\": [\"Lisa\", \"John\", \"Vincent\", \"Mary\"],\n",
    "        \"lucky_number\": [25, 36, 7, 2],\n",
    "    }\n",
    ")\n",
    "print(df2)"
   ]
  },
  {
   "cell_type": "markdown",
   "id": "d57b85af",
   "metadata": {},
   "source": [
    "## equi joins"
   ]
  },
  {
   "cell_type": "code",
   "execution_count": 4,
   "id": "b5e49d74",
   "metadata": {},
   "outputs": [
    {
     "name": "stdout",
     "output_type": "stream",
     "text": [
      "shape: (2, 3)\n",
      "┌──────┬─────────┬──────────────┐\n",
      "│ name ┆ has_pet ┆ lucky_number │\n",
      "│ ---  ┆ ---     ┆ ---          │\n",
      "│ str  ┆ str     ┆ i64          │\n",
      "╞══════╪═════════╪══════════════╡\n",
      "│ Lisa ┆ N       ┆ 25           │\n",
      "│ John ┆ Y       ┆ 36           │\n",
      "└──────┴─────────┴──────────────┘\n"
     ]
    }
   ],
   "source": [
    "print(df1.join(df2, on=\"name\"))\n",
    "# equivalent to\n",
    "# df1.join(df2, on=\"name\", how=\"inner\")"
   ]
  },
  {
   "cell_type": "code",
   "execution_count": 5,
   "id": "2666ba1c",
   "metadata": {},
   "outputs": [
    {
     "name": "stdout",
     "output_type": "stream",
     "text": [
      "shape: (2, 3)\n",
      "┌──────┬─────────┬──────────────┐\n",
      "│ name ┆ has_pet ┆ lucky_number │\n",
      "│ ---  ┆ ---     ┆ ---          │\n",
      "│ str  ┆ str     ┆ i64          │\n",
      "╞══════╪═════════╪══════════════╡\n",
      "│ Lisa ┆ N       ┆ 25           │\n",
      "│ John ┆ Y       ┆ 36           │\n",
      "└──────┴─────────┴──────────────┘\n"
     ]
    }
   ],
   "source": [
    "print(df1.join(df2, on=\"name\", how=\"inner\"))"
   ]
  },
  {
   "cell_type": "code",
   "execution_count": 6,
   "id": "139fd359",
   "metadata": {},
   "outputs": [
    {
     "name": "stdout",
     "output_type": "stream",
     "text": [
      "shape: (3, 3)\n",
      "┌──────┬─────────┬──────────────┐\n",
      "│ name ┆ has_pet ┆ lucky_number │\n",
      "│ ---  ┆ ---     ┆ ---          │\n",
      "│ str  ┆ str     ┆ i64          │\n",
      "╞══════╪═════════╪══════════════╡\n",
      "│ Tom  ┆ Y       ┆ null         │\n",
      "│ Lisa ┆ N       ┆ 25           │\n",
      "│ John ┆ Y       ┆ 36           │\n",
      "└──────┴─────────┴──────────────┘\n"
     ]
    }
   ],
   "source": [
    "print(df1.join(df2, on=\"name\", how=\"left\"))"
   ]
  },
  {
   "cell_type": "code",
   "execution_count": 7,
   "id": "6fbac6ad",
   "metadata": {},
   "outputs": [],
   "source": [
    "# print(df1.join(df2, on=\"name\", how=\"right\"))"
   ]
  },
  {
   "cell_type": "code",
   "execution_count": 8,
   "id": "4e6c2ace",
   "metadata": {},
   "outputs": [],
   "source": [
    "# print(df1.join(df2, on=\"name\", how=\"full\"))"
   ]
  },
  {
   "cell_type": "code",
   "execution_count": 9,
   "id": "acf002e8",
   "metadata": {},
   "outputs": [
    {
     "name": "stdout",
     "output_type": "stream",
     "text": [
      "shape: (2, 2)\n",
      "┌──────┬─────────┐\n",
      "│ name ┆ has_pet │\n",
      "│ ---  ┆ ---     │\n",
      "│ str  ┆ str     │\n",
      "╞══════╪═════════╡\n",
      "│ Lisa ┆ N       │\n",
      "│ John ┆ Y       │\n",
      "└──────┴─────────┘\n"
     ]
    }
   ],
   "source": [
    "print(df1.join(df2, on=\"name\", how=\"semi\"))"
   ]
  },
  {
   "cell_type": "code",
   "execution_count": 10,
   "id": "af52f0c3",
   "metadata": {},
   "outputs": [],
   "source": [
    "# print(df1.join(df2, on=\"name\", how=\"anti\"))"
   ]
  },
  {
   "cell_type": "code",
   "execution_count": 11,
   "id": "499369a6",
   "metadata": {},
   "outputs": [
    {
     "name": "stdout",
     "output_type": "stream",
     "text": [
      "shape: (4, 2)\n",
      "┌─────────┬──────────────┐\n",
      "│ uname   ┆ lucky_number │\n",
      "│ ---     ┆ ---          │\n",
      "│ str     ┆ i64          │\n",
      "╞═════════╪══════════════╡\n",
      "│ lisa    ┆ 25           │\n",
      "│ john    ┆ 36           │\n",
      "│ vincent ┆ 7            │\n",
      "│ mary    ┆ 2            │\n",
      "└─────────┴──────────────┘\n"
     ]
    }
   ],
   "source": [
    "df3 = df2.select(\n",
    "    pl.col(\"name\").str.to_lowercase().alias(\"uname\"), \"lucky_number\"\n",
    ")\n",
    "print(df3)"
   ]
  },
  {
   "cell_type": "code",
   "execution_count": 12,
   "id": "4930e907",
   "metadata": {},
   "outputs": [],
   "source": [
    "# print(df1.join(df3, left_on=\"name\", right_on=\"uname\"))"
   ]
  },
  {
   "cell_type": "code",
   "execution_count": 13,
   "id": "221620ba",
   "metadata": {},
   "outputs": [
    {
     "name": "stdout",
     "output_type": "stream",
     "text": [
      "shape: (2, 4)\n",
      "┌──────┬─────────┬───────┬──────────────┐\n",
      "│ name ┆ has_pet ┆ uname ┆ lucky_number │\n",
      "│ ---  ┆ ---     ┆ ---   ┆ ---          │\n",
      "│ str  ┆ str     ┆ str   ┆ i64          │\n",
      "╞══════╪═════════╪═══════╪══════════════╡\n",
      "│ Lisa ┆ N       ┆ lisa  ┆ 25           │\n",
      "│ John ┆ Y       ┆ john  ┆ 36           │\n",
      "└──────┴─────────┴───────┴──────────────┘\n"
     ]
    }
   ],
   "source": [
    "print(\n",
    "    df1.join(\n",
    "        df3, left_on=\"name\", right_on=pl.col(\"uname\").str.to_titlecase()\n",
    "    )\n",
    ")"
   ]
  },
  {
   "cell_type": "code",
   "execution_count": 14,
   "id": "b2d573d5",
   "metadata": {},
   "outputs": [
    {
     "name": "stdout",
     "output_type": "stream",
     "text": [
      "shape: (2, 4)\n",
      "┌──────┬─────────┬───────┬──────────────┐\n",
      "│ name ┆ has_pet ┆ uname ┆ lucky_number │\n",
      "│ ---  ┆ ---     ┆ ---   ┆ ---          │\n",
      "│ str  ┆ str     ┆ str   ┆ i64          │\n",
      "╞══════╪═════════╪═══════╪══════════════╡\n",
      "│ Lisa ┆ N       ┆ lisa  ┆ 25           │\n",
      "│ John ┆ Y       ┆ john  ┆ 36           │\n",
      "└──────┴─────────┴───────┴──────────────┘\n"
     ]
    }
   ],
   "source": [
    "print(\n",
    "    df1.join(\n",
    "        df3, left_on=pl.col(\"name\").str.to_lowercase(), right_on=\"uname\"\n",
    "    )\n",
    ")"
   ]
  },
  {
   "cell_type": "markdown",
   "id": "ce774fba",
   "metadata": {},
   "source": [
    "### cartesian product"
   ]
  },
  {
   "cell_type": "code",
   "execution_count": 15,
   "id": "363f620a",
   "metadata": {},
   "outputs": [],
   "source": [
    "# print(df1.join(df2, how=\"cross\"))"
   ]
  },
  {
   "cell_type": "markdown",
   "id": "2e5e997c",
   "metadata": {},
   "source": [
    "## non-equi joins"
   ]
  },
  {
   "cell_type": "code",
   "execution_count": 16,
   "id": "8289f544",
   "metadata": {},
   "outputs": [
    {
     "name": "stdout",
     "output_type": "stream",
     "text": [
      "shape: (2, 2)\n",
      "┌──────────┬───────────────┐\n",
      "│ name     ┆ lucky_number2 │\n",
      "│ ---      ┆ ---           │\n",
      "│ str      ┆ i64           │\n",
      "╞══════════╪═══════════════╡\n",
      "│ Caroline ┆ 3             │\n",
      "│ Bob      ┆ 40            │\n",
      "└──────────┴───────────────┘\n"
     ]
    }
   ],
   "source": [
    "df4 = pl.DataFrame({\"name\": [\"Caroline\", \"Bob\"], \"lucky_number2\": [3, 40]})\n",
    "print(df4)"
   ]
  },
  {
   "cell_type": "code",
   "execution_count": 17,
   "id": "9abd4198",
   "metadata": {},
   "outputs": [
    {
     "name": "stdout",
     "output_type": "stream",
     "text": [
      "shape: (4, 2)\n",
      "┌─────────┬──────────────┐\n",
      "│ name    ┆ lucky_number │\n",
      "│ ---     ┆ ---          │\n",
      "│ str     ┆ i64          │\n",
      "╞═════════╪══════════════╡\n",
      "│ Lisa    ┆ 25           │\n",
      "│ John    ┆ 36           │\n",
      "│ Vincent ┆ 7            │\n",
      "│ Mary    ┆ 2            │\n",
      "└─────────┴──────────────┘\n"
     ]
    }
   ],
   "source": [
    "print(df2)"
   ]
  },
  {
   "cell_type": "code",
   "execution_count": 18,
   "id": "79319a32",
   "metadata": {},
   "outputs": [
    {
     "name": "stdout",
     "output_type": "stream",
     "text": [
      "shape: (5, 4)\n",
      "┌─────────┬──────────────┬────────────┬───────────────┐\n",
      "│ name    ┆ lucky_number ┆ name_right ┆ lucky_number2 │\n",
      "│ ---     ┆ ---          ┆ ---        ┆ ---           │\n",
      "│ str     ┆ i64          ┆ str        ┆ i64           │\n",
      "╞═════════╪══════════════╪════════════╪═══════════════╡\n",
      "│ Mary    ┆ 2            ┆ Caroline   ┆ 3             │\n",
      "│ Mary    ┆ 2            ┆ Bob        ┆ 40            │\n",
      "│ Vincent ┆ 7            ┆ Bob        ┆ 40            │\n",
      "│ Lisa    ┆ 25           ┆ Bob        ┆ 40            │\n",
      "│ John    ┆ 36           ┆ Bob        ┆ 40            │\n",
      "└─────────┴──────────────┴────────────┴───────────────┘\n"
     ]
    }
   ],
   "source": [
    "print(\n",
    "    df2.join_where(df4, pl.col(\"lucky_number\").lt(pl.col(\"lucky_number2\")))\n",
    ")"
   ]
  },
  {
   "cell_type": "code",
   "execution_count": 19,
   "id": "3c930bcb",
   "metadata": {},
   "outputs": [
    {
     "name": "stdout",
     "output_type": "stream",
     "text": [
      "shape: (5, 4)\n",
      "┌──────────┬───────────────┬────────────┬──────────────┐\n",
      "│ name     ┆ lucky_number2 ┆ name_right ┆ lucky_number │\n",
      "│ ---      ┆ ---           ┆ ---        ┆ ---          │\n",
      "│ str      ┆ i64           ┆ str        ┆ i64          │\n",
      "╞══════════╪═══════════════╪════════════╪══════════════╡\n",
      "│ Bob      ┆ 40            ┆ John       ┆ 36           │\n",
      "│ Bob      ┆ 40            ┆ Lisa       ┆ 25           │\n",
      "│ Bob      ┆ 40            ┆ Vincent    ┆ 7            │\n",
      "│ Bob      ┆ 40            ┆ Mary       ┆ 2            │\n",
      "│ Caroline ┆ 3             ┆ Mary       ┆ 2            │\n",
      "└──────────┴───────────────┴────────────┴──────────────┘\n"
     ]
    }
   ],
   "source": [
    "print(\n",
    "    df4.join_where(df2, pl.col(\"lucky_number\").lt(pl.col(\"lucky_number2\")))\n",
    ")"
   ]
  },
  {
   "cell_type": "markdown",
   "id": "8e3e4a0e",
   "metadata": {},
   "source": [
    "## asof join"
   ]
  },
  {
   "cell_type": "code",
   "execution_count": 20,
   "id": "bb320258",
   "metadata": {},
   "outputs": [
    {
     "name": "stdout",
     "output_type": "stream",
     "text": [
      "shape: (5, 2)\n",
      "┌────────────┬─────────┐\n",
      "│ date       ┆ version │\n",
      "│ ---        ┆ ---     │\n",
      "│ date       ┆ str     │\n",
      "╞════════════╪═════════╡\n",
      "│ 2025-05-14 ┆ v1.1.2  │\n",
      "│ 2025-06-16 ┆ v1.2.1  │\n",
      "│ 2025-07-29 ┆ v1.2.2  │\n",
      "│ 2025-08-16 ┆ v1.3.1  │\n",
      "│ 2025-09-02 ┆ v1.4.5  │\n",
      "└────────────┴─────────┘\n"
     ]
    }
   ],
   "source": [
    "package_a = pl.DataFrame(\n",
    "    {\n",
    "        \"date\": [\n",
    "            date(2025, 5, 14),\n",
    "            date(2025, 6, 16),\n",
    "            date(2025, 7, 29),\n",
    "            date(2025, 8, 16),\n",
    "            date(2025, 9, 2),\n",
    "        ],\n",
    "        \"version\": [\"v1.1.2\", \"v1.2.1\", \"v1.2.2\", \"v1.3.1\", \"v1.4.5\"],\n",
    "    }\n",
    ")\n",
    "print(package_a)"
   ]
  },
  {
   "cell_type": "code",
   "execution_count": 21,
   "id": "824885e4",
   "metadata": {},
   "outputs": [
    {
     "name": "stdout",
     "output_type": "stream",
     "text": [
      "shape: (3, 2)\n",
      "┌────────────┬─────────┐\n",
      "│ date       ┆ version │\n",
      "│ ---        ┆ ---     │\n",
      "│ date       ┆ str     │\n",
      "╞════════════╪═════════╡\n",
      "│ 2025-06-01 ┆ v2.0.1  │\n",
      "│ 2025-07-05 ┆ v2.0.2  │\n",
      "│ 2025-08-19 ┆ v2.0.3  │\n",
      "└────────────┴─────────┘\n"
     ]
    }
   ],
   "source": [
    "package_b = pl.DataFrame(\n",
    "    {\n",
    "        \"date\": [date(2025, 6, 1), date(2025, 7, 5), date(2025, 8, 19)],\n",
    "        \"version\": [\"v2.0.1\", \"v2.0.2\", \"v2.0.3\"],\n",
    "    }\n",
    ")\n",
    "print(package_b)"
   ]
  },
  {
   "cell_type": "code",
   "execution_count": 22,
   "id": "2a6707ab",
   "metadata": {},
   "outputs": [
    {
     "name": "stdout",
     "output_type": "stream",
     "text": [
      "shape: (3, 3)\n",
      "┌────────────┬─────────┬───────────────┐\n",
      "│ date       ┆ version ┆ version_right │\n",
      "│ ---        ┆ ---     ┆ ---           │\n",
      "│ date       ┆ str     ┆ str           │\n",
      "╞════════════╪═════════╪═══════════════╡\n",
      "│ 2025-06-01 ┆ v2.0.1  ┆ v1.1.2        │\n",
      "│ 2025-07-05 ┆ v2.0.2  ┆ v1.2.1        │\n",
      "│ 2025-08-19 ┆ v2.0.3  ┆ v1.3.1        │\n",
      "└────────────┴─────────┴───────────────┘\n"
     ]
    }
   ],
   "source": [
    "print(package_b.join_asof(package_a, on=\"date\", strategy=\"backward\"))"
   ]
  },
  {
   "cell_type": "code",
   "execution_count": 23,
   "id": "57c5c121",
   "metadata": {},
   "outputs": [
    {
     "name": "stdout",
     "output_type": "stream",
     "text": [
      "shape: (3, 4)\n",
      "┌────────────┬─────────┬────────────┬───────────────┐\n",
      "│ date       ┆ version ┆ date_right ┆ version_right │\n",
      "│ ---        ┆ ---     ┆ ---        ┆ ---           │\n",
      "│ date       ┆ str     ┆ date       ┆ str           │\n",
      "╞════════════╪═════════╪════════════╪═══════════════╡\n",
      "│ 2025-06-01 ┆ v2.0.1  ┆ 2025-05-14 ┆ v1.1.2        │\n",
      "│ 2025-07-05 ┆ v2.0.2  ┆ 2025-06-16 ┆ v1.2.1        │\n",
      "│ 2025-08-19 ┆ v2.0.3  ┆ 2025-08-16 ┆ v1.3.1        │\n",
      "└────────────┴─────────┴────────────┴───────────────┘\n"
     ]
    }
   ],
   "source": [
    "print(\n",
    "    package_b.join_asof(\n",
    "        package_a, on=\"date\", strategy=\"backward\", coalesce=False\n",
    "    )\n",
    ")"
   ]
  }
 ],
 "metadata": {
  "kernelspec": {
   "display_name": "venv",
   "language": "python",
   "name": "python3"
  },
  "language_info": {
   "codemirror_mode": {
    "name": "ipython",
    "version": 3
   },
   "file_extension": ".py",
   "mimetype": "text/x-python",
   "name": "python",
   "nbconvert_exporter": "python",
   "pygments_lexer": "ipython3",
   "version": "3.13.7"
  }
 },
 "nbformat": 4,
 "nbformat_minor": 5
}
