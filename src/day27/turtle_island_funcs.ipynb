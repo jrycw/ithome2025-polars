{
 "cells": [
  {
   "cell_type": "code",
   "execution_count": 1,
   "id": "a80928ec",
   "metadata": {},
   "outputs": [],
   "source": [
    "import polars as pl\n",
    "import turtle_island as ti\n",
    "\n",
    "from great_tables import GT, style, loc"
   ]
  },
  {
   "cell_type": "markdown",
   "id": "10c8a1dd",
   "metadata": {},
   "source": [
    "## ti.make_index()"
   ]
  },
  {
   "cell_type": "code",
   "execution_count": 2,
   "id": "b2437bf2",
   "metadata": {},
   "outputs": [
    {
     "name": "stdout",
     "output_type": "stream",
     "text": [
      "shape: (3, 2)\n",
      "┌─────┬─────┐\n",
      "│ a   ┆ b   │\n",
      "│ --- ┆ --- │\n",
      "│ i64 ┆ i64 │\n",
      "╞═════╪═════╡\n",
      "│ 1   ┆ 2   │\n",
      "│ 3   ┆ 4   │\n",
      "│ 5   ┆ 6   │\n",
      "└─────┴─────┘\n"
     ]
    }
   ],
   "source": [
    "df1 = pl.DataFrame({\"a\": [1, 3, 5], \"b\": [2, 4, 6]})\n",
    "print(df1)"
   ]
  },
  {
   "cell_type": "code",
   "execution_count": 3,
   "id": "c36d4b0d",
   "metadata": {},
   "outputs": [
    {
     "name": "stdout",
     "output_type": "stream",
     "text": [
      "shape: (3, 3)\n",
      "┌───────┬─────┬─────┐\n",
      "│ index ┆ a   ┆ b   │\n",
      "│ ---   ┆ --- ┆ --- │\n",
      "│ u32   ┆ i64 ┆ i64 │\n",
      "╞═══════╪═════╪═════╡\n",
      "│ 0     ┆ 1   ┆ 2   │\n",
      "│ 1     ┆ 3   ┆ 4   │\n",
      "│ 2     ┆ 5   ┆ 6   │\n",
      "└───────┴─────┴─────┘\n"
     ]
    }
   ],
   "source": [
    "print(df1.select(ti.make_index(), pl.all()))"
   ]
  },
  {
   "cell_type": "markdown",
   "id": "cf7a6557",
   "metadata": {},
   "source": [
    "## ti.case_when()"
   ]
  },
  {
   "cell_type": "code",
   "execution_count": 4,
   "id": "bb7d2bd4",
   "metadata": {},
   "outputs": [
    {
     "name": "stdout",
     "output_type": "stream",
     "text": [
      "shape: (3, 1)\n",
      "┌─────┐\n",
      "│ x   │\n",
      "│ --- │\n",
      "│ i64 │\n",
      "╞═════╡\n",
      "│ 1   │\n",
      "│ 2   │\n",
      "│ 3   │\n",
      "└─────┘\n"
     ]
    }
   ],
   "source": [
    "df2 = pl.DataFrame({\"x\": [1, 2, 3]})\n",
    "print(df2)"
   ]
  },
  {
   "cell_type": "code",
   "execution_count": 5,
   "id": "2f4243d2",
   "metadata": {},
   "outputs": [
    {
     "name": "stdout",
     "output_type": "stream",
     "text": [
      "shape: (3, 2)\n",
      "┌─────┬────────┐\n",
      "│ x   ┆ y      │\n",
      "│ --- ┆ ---    │\n",
      "│ i64 ┆ str    │\n",
      "╞═════╪════════╡\n",
      "│ 1   ┆ small  │\n",
      "│ 2   ┆ medium │\n",
      "│ 3   ┆ large  │\n",
      "└─────┴────────┘\n"
     ]
    }
   ],
   "source": [
    "print(\n",
    "    df2.with_columns(\n",
    "        pl.when(pl.col(\"x\").le(1))\n",
    "        .then(pl.lit(\"small\"))\n",
    "        .when(pl.col(\"x\").ge(3))\n",
    "        .then(pl.lit(\"large\"))\n",
    "        .otherwise(pl.lit(\"medium\"))\n",
    "        .alias(\"y\")\n",
    "    )\n",
    ")"
   ]
  },
  {
   "cell_type": "code",
   "execution_count": 6,
   "id": "26e799f1",
   "metadata": {},
   "outputs": [
    {
     "name": "stdout",
     "output_type": "stream",
     "text": [
      "shape: (3, 2)\n",
      "┌─────┬────────┐\n",
      "│ x   ┆ y      │\n",
      "│ --- ┆ ---    │\n",
      "│ i64 ┆ str    │\n",
      "╞═════╪════════╡\n",
      "│ 1   ┆ small  │\n",
      "│ 2   ┆ medium │\n",
      "│ 3   ┆ large  │\n",
      "└─────┴────────┘\n"
     ]
    }
   ],
   "source": [
    "print(\n",
    "    df2.with_columns(\n",
    "        ti.case_when(\n",
    "            case_list=[\n",
    "                (pl.col(\"x\").le(1), pl.lit(\"small\")),\n",
    "                (pl.col(\"x\").ge(3), pl.lit(\"large\")),\n",
    "            ],\n",
    "            otherwise=pl.lit(\"medium\"),\n",
    "        ).alias(\"y\")\n",
    "    )\n",
    ")"
   ]
  },
  {
   "cell_type": "markdown",
   "id": "2241dfbc",
   "metadata": {},
   "source": [
    "## ti.bucketize()"
   ]
  },
  {
   "cell_type": "code",
   "execution_count": 7,
   "id": "c05fcea3",
   "metadata": {},
   "outputs": [
    {
     "name": "stdout",
     "output_type": "stream",
     "text": [
      "shape: (5, 1)\n",
      "┌─────┐\n",
      "│ x   │\n",
      "│ --- │\n",
      "│ i64 │\n",
      "╞═════╡\n",
      "│ 1   │\n",
      "│ 2   │\n",
      "│ 3   │\n",
      "│ 4   │\n",
      "│ 5   │\n",
      "└─────┘\n"
     ]
    }
   ],
   "source": [
    "df3 = pl.DataFrame({\"x\": [1, 2, 3, 4, 5]})\n",
    "print(df3)"
   ]
  },
  {
   "cell_type": "code",
   "execution_count": 8,
   "id": "b0c98c7e",
   "metadata": {},
   "outputs": [
    {
     "name": "stdout",
     "output_type": "stream",
     "text": [
      "shape: (5, 2)\n",
      "┌─────┬────────────┐\n",
      "│ x   ┆ bucketized │\n",
      "│ --- ┆ ---        │\n",
      "│ i64 ┆ i64        │\n",
      "╞═════╪════════════╡\n",
      "│ 1   ┆ 11         │\n",
      "│ 2   ┆ 100        │\n",
      "│ 3   ┆ 13         │\n",
      "│ 4   ┆ 100        │\n",
      "│ 5   ┆ 15         │\n",
      "└─────┴────────────┘\n"
     ]
    }
   ],
   "source": [
    "print(\n",
    "    df3.with_columns(\n",
    "        ti.bucketize(pl.col(\"x\").add(10), pl.lit(100)).alias(\"bucketized\")\n",
    "    )\n",
    ")"
   ]
  },
  {
   "cell_type": "markdown",
   "id": "c97b6124",
   "metadata": {},
   "source": [
    "## ti.is_every_nth_row()"
   ]
  },
  {
   "cell_type": "code",
   "execution_count": 9,
   "id": "7b8f3ca8",
   "metadata": {},
   "outputs": [
    {
     "name": "stdout",
     "output_type": "stream",
     "text": [
      "shape: (7, 1)\n",
      "┌─────┐\n",
      "│ x   │\n",
      "│ --- │\n",
      "│ i64 │\n",
      "╞═════╡\n",
      "│ 1   │\n",
      "│ 2   │\n",
      "│ 3   │\n",
      "│ 4   │\n",
      "│ 5   │\n",
      "│ 6   │\n",
      "│ 7   │\n",
      "└─────┘\n"
     ]
    }
   ],
   "source": [
    "df4 = pl.DataFrame({\"x\": [1, 2, 3, 4, 5, 6, 7]})\n",
    "print(df4)"
   ]
  },
  {
   "cell_type": "code",
   "execution_count": 10,
   "id": "e4e114c7",
   "metadata": {},
   "outputs": [
    {
     "name": "stdout",
     "output_type": "stream",
     "text": [
      "shape: (7, 2)\n",
      "┌─────┬──────────────┐\n",
      "│ x   ┆ bool_nth_row │\n",
      "│ --- ┆ ---          │\n",
      "│ i64 ┆ bool         │\n",
      "╞═════╪══════════════╡\n",
      "│ 1   ┆ true         │\n",
      "│ 2   ┆ false        │\n",
      "│ 3   ┆ true         │\n",
      "│ 4   ┆ false        │\n",
      "│ 5   ┆ true         │\n",
      "│ 6   ┆ false        │\n",
      "│ 7   ┆ true         │\n",
      "└─────┴──────────────┘\n"
     ]
    }
   ],
   "source": [
    "print(df4.with_columns(ti.is_every_nth_row(2)))"
   ]
  },
  {
   "cell_type": "markdown",
   "id": "535c47a1",
   "metadata": {},
   "source": [
    "### Great Tables"
   ]
  },
  {
   "cell_type": "code",
   "execution_count": 11,
   "id": "25594a54",
   "metadata": {},
   "outputs": [
    {
     "name": "stdout",
     "output_type": "stream",
     "text": [
      "shape: (9, 3)\n",
      "┌────────┬───────────────────────────┬───────────────────────────┐\n",
      "│ Type 1 ┆ fastest/group             ┆ strongest/group           │\n",
      "│ ---    ┆ ---                       ┆ ---                       │\n",
      "│ enum   ┆ str                       ┆ str                       │\n",
      "╞════════╪═══════════════════════════╪═══════════════════════════╡\n",
      "│ Grass  ┆ Venusaur                  ┆ Victreebel                │\n",
      "│ Grass  ┆ VenusaurMega Venusaur     ┆ VenusaurMega Venusaur     │\n",
      "│ Grass  ┆ Victreebel                ┆ Exeggutor                 │\n",
      "│ Water  ┆ Starmie                   ┆ GyaradosMega Gyarados     │\n",
      "│ Water  ┆ Tentacruel                ┆ Kingler                   │\n",
      "│ Water  ┆ Poliwag                   ┆ Gyarados                  │\n",
      "│ Fire   ┆ Rapidash                  ┆ CharizardMega Charizard X │\n",
      "│ Fire   ┆ Charizard                 ┆ Flareon                   │\n",
      "│ Fire   ┆ CharizardMega Charizard X ┆ Arcanine                  │\n",
      "└────────┴───────────────────────────┴───────────────────────────┘\n"
     ]
    }
   ],
   "source": [
    "# https://docs.pola.rs/user-guide/expressions/window-functions/\n",
    "types = (\n",
    "    \"Grass Water Fire Normal Ground Electric Psychic Fighting Bug Steel \"\n",
    "    \"Flying Dragon Dark Ghost Poison Rock Ice Fairy\".split()\n",
    ")\n",
    "\n",
    "url = (\n",
    "    \"https://gist.githubusercontent.com/ritchie46/\"\n",
    "    \"cac6b337ea52281aa23c049250a4ff03/\"\n",
    "    \"raw/89a957ff3919d90e6ef2d34235e6bf22304f3366/\"\n",
    "    \"pokemon.csv\"\n",
    ")\n",
    "\n",
    "type_enum = pl.Enum(types)\n",
    "\n",
    "pokemon = (\n",
    "    pl.read_csv(url)\n",
    "    .cast({\"Type 1\": type_enum})\n",
    "    .sort(\"Type 1\")\n",
    "    .select(\n",
    "        pl.col(\"Type 1\")\n",
    "        .head(3)\n",
    "        .over(\"Type 1\", mapping_strategy=\"explode\"),\n",
    "        pl.col(\"Name\")\n",
    "        .sort_by(pl.col(\"Speed\"), descending=True)\n",
    "        .head(3)\n",
    "        .over(\"Type 1\", mapping_strategy=\"explode\")\n",
    "        .alias(\"fastest/group\"),\n",
    "        pl.col(\"Name\")\n",
    "        .sort_by(pl.col(\"Attack\"), descending=True)\n",
    "        .head(3)\n",
    "        .over(\"Type 1\", mapping_strategy=\"explode\")\n",
    "        .alias(\"strongest/group\"),\n",
    "    )\n",
    "    .head(9)\n",
    ")\n",
    "print(pokemon)"
   ]
  },
  {
   "cell_type": "code",
   "execution_count": 12,
   "id": "a1c49f0a",
   "metadata": {},
   "outputs": [
    {
     "data": {
      "text/html": [
       "<div id=\"onvqytoqtr\" style=\"padding-left:0px;padding-right:0px;padding-top:10px;padding-bottom:10px;overflow-x:auto;overflow-y:auto;width:auto;height:auto;\">\n",
       "<style>\n",
       "#onvqytoqtr table {\n",
       "          font-family: -apple-system, BlinkMacSystemFont, 'Segoe UI', Roboto, Oxygen, Ubuntu, Cantarell, 'Helvetica Neue', 'Fira Sans', 'Droid Sans', Arial, sans-serif;\n",
       "          -webkit-font-smoothing: antialiased;\n",
       "          -moz-osx-font-smoothing: grayscale;\n",
       "        }\n",
       "\n",
       "#onvqytoqtr thead, tbody, tfoot, tr, td, th { border-style: none; }\n",
       " tr { background-color: transparent; }\n",
       "#onvqytoqtr p { margin: 0; padding: 0; }\n",
       " #onvqytoqtr .gt_table { display: table; border-collapse: collapse; line-height: normal; margin-left: auto; margin-right: auto; color: #333333; font-size: 16px; font-weight: normal; font-style: normal; background-color: #FFFFFF; width: auto; border-top-style: solid; border-top-width: 2px; border-top-color: #929292; border-right-style: none; border-right-width: 2px; border-right-color: #D3D3D3; border-bottom-style: solid; border-bottom-width: 2px; border-bottom-color: #929292; border-left-style: none; border-left-width: 2px; border-left-color: #D3D3D3; }\n",
       " #onvqytoqtr .gt_caption { padding-top: 4px; padding-bottom: 4px; }\n",
       " #onvqytoqtr .gt_title { color: #333333; font-size: 125%; font-weight: initial; padding-top: 4px; padding-bottom: 4px; padding-left: 5px; padding-right: 5px; border-bottom-color: #FFFFFF; border-bottom-width: 0; }\n",
       " #onvqytoqtr .gt_subtitle { color: #333333; font-size: 85%; font-weight: initial; padding-top: 3px; padding-bottom: 5px; padding-left: 5px; padding-right: 5px; border-top-color: #FFFFFF; border-top-width: 0; }\n",
       " #onvqytoqtr .gt_heading { background-color: #FFFFFF; text-align: center; border-bottom-color: #FFFFFF; border-left-style: none; border-left-width: 1px; border-left-color: #D3D3D3; border-right-style: none; border-right-width: 1px; border-right-color: #D3D3D3; }\n",
       " #onvqytoqtr .gt_bottom_border { border-bottom-style: solid; border-bottom-width: 2px; border-bottom-color: #929292; }\n",
       " #onvqytoqtr .gt_col_headings { border-top-style: solid; border-top-width: 2px; border-top-color: #929292; border-bottom-style: solid; border-bottom-width: 2px; border-bottom-color: #929292; border-left-style: none; border-left-width: 1px; border-left-color: #D3D3D3; border-right-style: none; border-right-width: 1px; border-right-color: #D3D3D3; }\n",
       " #onvqytoqtr .gt_col_heading { color: #FFFFFF; background-color: #99195F; font-size: 100%; font-weight: normal; text-transform: inherit; border-left-style: none; border-left-width: 1px; border-left-color: #D3D3D3; border-right-style: none; border-right-width: 1px; border-right-color: #D3D3D3; vertical-align: bottom; padding-top: 5px; padding-bottom: 5px; padding-left: 5px; padding-right: 5px; overflow-x: hidden; }\n",
       " #onvqytoqtr .gt_column_spanner_outer { color: #FFFFFF; background-color: #99195F; font-size: 100%; font-weight: normal; text-transform: inherit; padding-top: 0; padding-bottom: 0; padding-left: 4px; padding-right: 4px; }\n",
       " #onvqytoqtr .gt_column_spanner_outer:first-child { padding-left: 0; }\n",
       " #onvqytoqtr .gt_column_spanner_outer:last-child { padding-right: 0; }\n",
       " #onvqytoqtr .gt_column_spanner { border-bottom-style: solid; border-bottom-width: 2px; border-bottom-color: #929292; vertical-align: bottom; padding-top: 5px; padding-bottom: 5px; overflow-x: hidden; display: inline-block; width: 100%; }\n",
       " #onvqytoqtr .gt_spanner_row { border-bottom-style: hidden; }\n",
       " #onvqytoqtr .gt_group_heading { padding-top: 8px; padding-bottom: 8px; padding-left: 5px; padding-right: 5px; color: #333333; background-color: #FFFFFF; font-size: 100%; font-weight: initial; text-transform: inherit; border-top-style: solid; border-top-width: 2px; border-top-color: #929292; border-bottom-style: solid; border-bottom-width: 2px; border-bottom-color: #929292; border-left-style: none; border-left-width: 1px; border-left-color: #D3D3D3; border-right-style: none; border-right-width: 1px; border-right-color: #D3D3D3; vertical-align: middle; text-align: left; }\n",
       " #onvqytoqtr .gt_empty_group_heading { padding: 0.5px; color: #333333; background-color: #FFFFFF; font-size: 100%; font-weight: initial; border-top-style: solid; border-top-width: 2px; border-top-color: #929292; border-bottom-style: solid; border-bottom-width: 2px; border-bottom-color: #929292; vertical-align: middle; }\n",
       " #onvqytoqtr .gt_from_md> :first-child { margin-top: 0; }\n",
       " #onvqytoqtr .gt_from_md> :last-child { margin-bottom: 0; }\n",
       " #onvqytoqtr .gt_row { padding-top: 8px; padding-bottom: 8px; padding-left: 5px; padding-right: 5px; margin: 10px; border-top-style: dashed; border-top-width: 1px; border-top-color: #929292; border-left-style: none; border-left-width: 1px; border-left-color: #929292; border-right-style: none; border-right-width: 1px; border-right-color: #929292; vertical-align: middle; overflow-x: hidden; }\n",
       " #onvqytoqtr .gt_stub { color: #333333; background-color: #D5D5D5; font-size: 100%; font-weight: initial; text-transform: inherit; border-right-style: none; border-right-width: 2px; border-right-color: #FFFFFF; padding-left: 5px; padding-right: 5px; }\n",
       " #onvqytoqtr .gt_stub_row_group { color: #333333; background-color: #FFFFFF; font-size: 100%; font-weight: initial; text-transform: inherit; border-right-style: solid; border-right-width: 2px; border-right-color: #D3D3D3; padding-left: 5px; padding-right: 5px; vertical-align: top; }\n",
       " #onvqytoqtr .gt_row_group_first td { border-top-width: 2px; }\n",
       " #onvqytoqtr .gt_row_group_first th { border-top-width: 2px; }\n",
       " #onvqytoqtr .gt_striped { background-color: #F4F4F4; }\n",
       " #onvqytoqtr .gt_table_body { border-top-style: solid; border-top-width: 2px; border-top-color: #929292; border-bottom-style: solid; border-bottom-width: 2px; border-bottom-color: #929292; }\n",
       " #onvqytoqtr .gt_sourcenotes { color: #333333; background-color: #FFFFFF; border-bottom-style: none; border-bottom-width: 2px; border-bottom-color: #D3D3D3; border-left-style: none; border-left-width: 2px; border-left-color: #D3D3D3; border-right-style: none; border-right-width: 2px; border-right-color: #D3D3D3; }\n",
       " #onvqytoqtr .gt_sourcenote { font-size: 90%; padding-top: 4px; padding-bottom: 4px; padding-left: 5px; padding-right: 5px; text-align: left; }\n",
       " #onvqytoqtr .gt_left { text-align: left; }\n",
       " #onvqytoqtr .gt_center { text-align: center; }\n",
       " #onvqytoqtr .gt_right { text-align: right; font-variant-numeric: tabular-nums; }\n",
       " #onvqytoqtr .gt_font_normal { font-weight: normal; }\n",
       " #onvqytoqtr .gt_font_bold { font-weight: bold; }\n",
       " #onvqytoqtr .gt_font_italic { font-style: italic; }\n",
       " #onvqytoqtr .gt_super { font-size: 65%; }\n",
       " #onvqytoqtr .gt_footnote_marks { font-size: 75%; vertical-align: 0.4em; position: initial; }\n",
       " #onvqytoqtr .gt_asterisk { font-size: 100%; vertical-align: 0; }\n",
       " \n",
       "</style>\n",
       "<table class=\"gt_table\" data-quarto-disable-processing=\"false\" data-quarto-bootstrap=\"false\">\n",
       "<thead>\n",
       "\n",
       "<tr class=\"gt_col_headings\">\n",
       "  <th class=\"gt_col_heading gt_columns_bottom_border gt_center\" rowspan=\"1\" colspan=\"1\" scope=\"col\" id=\"Type-1\">Type 1</th>\n",
       "  <th class=\"gt_col_heading gt_columns_bottom_border gt_left\" rowspan=\"1\" colspan=\"1\" scope=\"col\" id=\"fastest/group\">fastest/group</th>\n",
       "  <th class=\"gt_col_heading gt_columns_bottom_border gt_left\" rowspan=\"1\" colspan=\"1\" scope=\"col\" id=\"strongest/group\">strongest/group</th>\n",
       "</tr>\n",
       "</thead>\n",
       "<tbody class=\"gt_table_body\">\n",
       "  <tr>\n",
       "    <td style=\"background-color: lightblue;\" class=\"gt_row gt_center\">Grass</td>\n",
       "    <td style=\"background-color: lightblue;\" class=\"gt_row gt_left\">Venusaur</td>\n",
       "    <td style=\"background-color: lightblue;\" class=\"gt_row gt_left\">Victreebel</td>\n",
       "  </tr>\n",
       "  <tr>\n",
       "    <td style=\"background-color: papayawhip;\" class=\"gt_row gt_center gt_striped\">Grass</td>\n",
       "    <td style=\"background-color: papayawhip;\" class=\"gt_row gt_left gt_striped\">VenusaurMega Venusaur</td>\n",
       "    <td style=\"background-color: papayawhip;\" class=\"gt_row gt_left gt_striped\">VenusaurMega Venusaur</td>\n",
       "  </tr>\n",
       "  <tr>\n",
       "    <td style=\"background-color: papayawhip;\" class=\"gt_row gt_center\">Grass</td>\n",
       "    <td style=\"background-color: papayawhip;\" class=\"gt_row gt_left\">Victreebel</td>\n",
       "    <td style=\"background-color: papayawhip;\" class=\"gt_row gt_left\">Exeggutor</td>\n",
       "  </tr>\n",
       "  <tr>\n",
       "    <td style=\"background-color: lightblue;\" class=\"gt_row gt_center gt_striped\">Water</td>\n",
       "    <td style=\"background-color: lightblue;\" class=\"gt_row gt_left gt_striped\">Starmie</td>\n",
       "    <td style=\"background-color: lightblue;\" class=\"gt_row gt_left gt_striped\">GyaradosMega Gyarados</td>\n",
       "  </tr>\n",
       "  <tr>\n",
       "    <td style=\"background-color: papayawhip;\" class=\"gt_row gt_center\">Water</td>\n",
       "    <td style=\"background-color: papayawhip;\" class=\"gt_row gt_left\">Tentacruel</td>\n",
       "    <td style=\"background-color: papayawhip;\" class=\"gt_row gt_left\">Kingler</td>\n",
       "  </tr>\n",
       "  <tr>\n",
       "    <td style=\"background-color: papayawhip;\" class=\"gt_row gt_center gt_striped\">Water</td>\n",
       "    <td style=\"background-color: papayawhip;\" class=\"gt_row gt_left gt_striped\">Poliwag</td>\n",
       "    <td style=\"background-color: papayawhip;\" class=\"gt_row gt_left gt_striped\">Gyarados</td>\n",
       "  </tr>\n",
       "  <tr>\n",
       "    <td style=\"background-color: lightblue;\" class=\"gt_row gt_center\">Fire</td>\n",
       "    <td style=\"background-color: lightblue;\" class=\"gt_row gt_left\">Rapidash</td>\n",
       "    <td style=\"background-color: lightblue;\" class=\"gt_row gt_left\">CharizardMega Charizard X</td>\n",
       "  </tr>\n",
       "  <tr>\n",
       "    <td style=\"background-color: papayawhip;\" class=\"gt_row gt_center gt_striped\">Fire</td>\n",
       "    <td style=\"background-color: papayawhip;\" class=\"gt_row gt_left gt_striped\">Charizard</td>\n",
       "    <td style=\"background-color: papayawhip;\" class=\"gt_row gt_left gt_striped\">Flareon</td>\n",
       "  </tr>\n",
       "  <tr>\n",
       "    <td style=\"background-color: papayawhip;\" class=\"gt_row gt_center\">Fire</td>\n",
       "    <td style=\"background-color: papayawhip;\" class=\"gt_row gt_left\">CharizardMega Charizard X</td>\n",
       "    <td style=\"background-color: papayawhip;\" class=\"gt_row gt_left\">Arcanine</td>\n",
       "  </tr>\n",
       "</tbody>\n",
       "\n",
       "\n",
       "</table>\n",
       "\n",
       "</div>\n",
       "        "
      ],
      "text/plain": [
       "GT(_tbl_data=shape: (9, 3)\n",
       "┌────────┬───────────────────────────┬───────────────────────────┐\n",
       "│ Type 1 ┆ fastest/group             ┆ strongest/group           │\n",
       "│ ---    ┆ ---                       ┆ ---                       │\n",
       "│ enum   ┆ str                       ┆ str                       │\n",
       "╞════════╪═══════════════════════════╪═══════════════════════════╡\n",
       "│ Grass  ┆ Venusaur                  ┆ Victreebel                │\n",
       "│ Grass  ┆ VenusaurMega Venusaur     ┆ VenusaurMega Venusaur     │\n",
       "│ Grass  ┆ Victreebel                ┆ Exeggutor                 │\n",
       "│ Water  ┆ Starmie                   ┆ GyaradosMega Gyarados     │\n",
       "│ Water  ┆ Tentacruel                ┆ Kingler                   │\n",
       "│ Water  ┆ Poliwag                   ┆ Gyarados                  │\n",
       "│ Fire   ┆ Rapidash                  ┆ CharizardMega Charizard X │\n",
       "│ Fire   ┆ Charizard                 ┆ Flareon                   │\n",
       "│ Fire   ┆ CharizardMega Charizard X ┆ Arcanine                  │\n",
       "└────────┴───────────────────────────┴───────────────────────────┘, _body=<great_tables._gt_data.Body object at 0x000001A86AE34050>, _boxhead=Boxhead([ColInfo(var='Type 1', type=<ColInfoTypeEnum.default: 1>, column_label='Type 1', column_align='center', column_width=None), ColInfo(var='fastest/group', type=<ColInfoTypeEnum.default: 1>, column_label='fastest/group', column_align='left', column_width=None), ColInfo(var='strongest/group', type=<ColInfoTypeEnum.default: 1>, column_label='strongest/group', column_align='left', column_width=None)]), _stub=<great_tables._gt_data.Stub object at 0x000001A86C107CB0>, _spanners=Spanners([]), _heading=Heading(title=None, subtitle=None, preheader=None), _stubhead=None, _source_notes=[], _footnotes=[], _styles=[StyleInfo(locname=LocBody(columns=None, rows=<Expr ['[([([(dyn int: 0.int_range([le…'] at 0x1A86C12F750>, mask=None), grpname=None, colname='Type 1', rownum=0, colnum=None, styles=[CellStyleFill(color='lightblue')]), StyleInfo(locname=LocBody(columns=None, rows=<Expr ['[([([(dyn int: 0.int_range([le…'] at 0x1A86C12F750>, mask=None), grpname=None, colname='Type 1', rownum=3, colnum=None, styles=[CellStyleFill(color='lightblue')]), StyleInfo(locname=LocBody(columns=None, rows=<Expr ['[([([(dyn int: 0.int_range([le…'] at 0x1A86C12F750>, mask=None), grpname=None, colname='Type 1', rownum=6, colnum=None, styles=[CellStyleFill(color='lightblue')]), StyleInfo(locname=LocBody(columns=None, rows=<Expr ['[([([(dyn int: 0.int_range([le…'] at 0x1A86C12F750>, mask=None), grpname=None, colname='fastest/group', rownum=0, colnum=None, styles=[CellStyleFill(color='lightblue')]), StyleInfo(locname=LocBody(columns=None, rows=<Expr ['[([([(dyn int: 0.int_range([le…'] at 0x1A86C12F750>, mask=None), grpname=None, colname='fastest/group', rownum=3, colnum=None, styles=[CellStyleFill(color='lightblue')]), StyleInfo(locname=LocBody(columns=None, rows=<Expr ['[([([(dyn int: 0.int_range([le…'] at 0x1A86C12F750>, mask=None), grpname=None, colname='fastest/group', rownum=6, colnum=None, styles=[CellStyleFill(color='lightblue')]), StyleInfo(locname=LocBody(columns=None, rows=<Expr ['[([([(dyn int: 0.int_range([le…'] at 0x1A86C12F750>, mask=None), grpname=None, colname='strongest/group', rownum=0, colnum=None, styles=[CellStyleFill(color='lightblue')]), StyleInfo(locname=LocBody(columns=None, rows=<Expr ['[([([(dyn int: 0.int_range([le…'] at 0x1A86C12F750>, mask=None), grpname=None, colname='strongest/group', rownum=3, colnum=None, styles=[CellStyleFill(color='lightblue')]), StyleInfo(locname=LocBody(columns=None, rows=<Expr ['[([([(dyn int: 0.int_range([le…'] at 0x1A86C12F750>, mask=None), grpname=None, colname='strongest/group', rownum=6, colnum=None, styles=[CellStyleFill(color='lightblue')]), StyleInfo(locname=LocBody(columns=None, rows=<Expr ['[([([(dyn int: 0.int_range([le…'] at 0x1A86AE1C350>, mask=None), grpname=None, colname='Type 1', rownum=1, colnum=None, styles=[CellStyleFill(color='papayawhip')]), StyleInfo(locname=LocBody(columns=None, rows=<Expr ['[([([(dyn int: 0.int_range([le…'] at 0x1A86AE1C350>, mask=None), grpname=None, colname='Type 1', rownum=2, colnum=None, styles=[CellStyleFill(color='papayawhip')]), StyleInfo(locname=LocBody(columns=None, rows=<Expr ['[([([(dyn int: 0.int_range([le…'] at 0x1A86AE1C350>, mask=None), grpname=None, colname='Type 1', rownum=4, colnum=None, styles=[CellStyleFill(color='papayawhip')]), StyleInfo(locname=LocBody(columns=None, rows=<Expr ['[([([(dyn int: 0.int_range([le…'] at 0x1A86AE1C350>, mask=None), grpname=None, colname='Type 1', rownum=5, colnum=None, styles=[CellStyleFill(color='papayawhip')]), StyleInfo(locname=LocBody(columns=None, rows=<Expr ['[([([(dyn int: 0.int_range([le…'] at 0x1A86AE1C350>, mask=None), grpname=None, colname='Type 1', rownum=7, colnum=None, styles=[CellStyleFill(color='papayawhip')]), StyleInfo(locname=LocBody(columns=None, rows=<Expr ['[([([(dyn int: 0.int_range([le…'] at 0x1A86AE1C350>, mask=None), grpname=None, colname='Type 1', rownum=8, colnum=None, styles=[CellStyleFill(color='papayawhip')]), StyleInfo(locname=LocBody(columns=None, rows=<Expr ['[([([(dyn int: 0.int_range([le…'] at 0x1A86AE1C350>, mask=None), grpname=None, colname='fastest/group', rownum=1, colnum=None, styles=[CellStyleFill(color='papayawhip')]), StyleInfo(locname=LocBody(columns=None, rows=<Expr ['[([([(dyn int: 0.int_range([le…'] at 0x1A86AE1C350>, mask=None), grpname=None, colname='fastest/group', rownum=2, colnum=None, styles=[CellStyleFill(color='papayawhip')]), StyleInfo(locname=LocBody(columns=None, rows=<Expr ['[([([(dyn int: 0.int_range([le…'] at 0x1A86AE1C350>, mask=None), grpname=None, colname='fastest/group', rownum=4, colnum=None, styles=[CellStyleFill(color='papayawhip')]), StyleInfo(locname=LocBody(columns=None, rows=<Expr ['[([([(dyn int: 0.int_range([le…'] at 0x1A86AE1C350>, mask=None), grpname=None, colname='fastest/group', rownum=5, colnum=None, styles=[CellStyleFill(color='papayawhip')]), StyleInfo(locname=LocBody(columns=None, rows=<Expr ['[([([(dyn int: 0.int_range([le…'] at 0x1A86AE1C350>, mask=None), grpname=None, colname='fastest/group', rownum=7, colnum=None, styles=[CellStyleFill(color='papayawhip')]), StyleInfo(locname=LocBody(columns=None, rows=<Expr ['[([([(dyn int: 0.int_range([le…'] at 0x1A86AE1C350>, mask=None), grpname=None, colname='fastest/group', rownum=8, colnum=None, styles=[CellStyleFill(color='papayawhip')]), StyleInfo(locname=LocBody(columns=None, rows=<Expr ['[([([(dyn int: 0.int_range([le…'] at 0x1A86AE1C350>, mask=None), grpname=None, colname='strongest/group', rownum=1, colnum=None, styles=[CellStyleFill(color='papayawhip')]), StyleInfo(locname=LocBody(columns=None, rows=<Expr ['[([([(dyn int: 0.int_range([le…'] at 0x1A86AE1C350>, mask=None), grpname=None, colname='strongest/group', rownum=2, colnum=None, styles=[CellStyleFill(color='papayawhip')]), StyleInfo(locname=LocBody(columns=None, rows=<Expr ['[([([(dyn int: 0.int_range([le…'] at 0x1A86AE1C350>, mask=None), grpname=None, colname='strongest/group', rownum=4, colnum=None, styles=[CellStyleFill(color='papayawhip')]), StyleInfo(locname=LocBody(columns=None, rows=<Expr ['[([([(dyn int: 0.int_range([le…'] at 0x1A86AE1C350>, mask=None), grpname=None, colname='strongest/group', rownum=5, colnum=None, styles=[CellStyleFill(color='papayawhip')]), StyleInfo(locname=LocBody(columns=None, rows=<Expr ['[([([(dyn int: 0.int_range([le…'] at 0x1A86AE1C350>, mask=None), grpname=None, colname='strongest/group', rownum=7, colnum=None, styles=[CellStyleFill(color='papayawhip')]), StyleInfo(locname=LocBody(columns=None, rows=<Expr ['[([([(dyn int: 0.int_range([le…'] at 0x1A86AE1C350>, mask=None), grpname=None, colname='strongest/group', rownum=8, colnum=None, styles=[CellStyleFill(color='papayawhip')])], _locale=<great_tables._gt_data.Locale object at 0x000001A86AE34440>, _formats=[], _substitutions=[], _options=Options(table_id=OptionsInfo(scss=False, category='table', type='value', value=None), table_caption=OptionsInfo(scss=False, category='table', type='value', value=None), table_width=OptionsInfo(scss=True, category='table', type='px', value='auto'), table_layout=OptionsInfo(scss=True, category='table', type='value', value='fixed'), table_margin_left=OptionsInfo(scss=True, category='table', type='px', value='auto'), table_margin_right=OptionsInfo(scss=True, category='table', type='px', value='auto'), table_background_color=OptionsInfo(scss=True, category='table', type='value', value='#FFFFFF'), table_additional_css=OptionsInfo(scss=False, category='table', type='values', value=[]), table_font_names=OptionsInfo(scss=False, category='table', type='values', value=['-apple-system', 'BlinkMacSystemFont', 'Segoe UI', 'Roboto', 'Oxygen', 'Ubuntu', 'Cantarell', 'Helvetica Neue', 'Fira Sans', 'Droid Sans', 'Arial', 'sans-serif']), table_font_size=OptionsInfo(scss=True, category='table', type='px', value='16px'), table_font_weight=OptionsInfo(scss=True, category='table', type='value', value='normal'), table_font_style=OptionsInfo(scss=True, category='table', type='value', value='normal'), table_font_color=OptionsInfo(scss=True, category='table', type='value', value='#333333'), table_font_color_light=OptionsInfo(scss=True, category='table', type='value', value='#FFFFFF'), table_border_top_include=OptionsInfo(scss=False, category='table', type='boolean', value=True), table_border_top_style=OptionsInfo(scss=True, category='table', type='value', value='solid'), table_border_top_width=OptionsInfo(scss=True, category='table', type='px', value='2px'), table_border_top_color=OptionsInfo(scss=True, category='table', type='value', value='#929292'), table_border_right_style=OptionsInfo(scss=True, category='table', type='value', value='none'), table_border_right_width=OptionsInfo(scss=True, category='table', type='px', value='2px'), table_border_right_color=OptionsInfo(scss=True, category='table', type='value', value='#D3D3D3'), table_border_bottom_include=OptionsInfo(scss=False, category='table', type='boolean', value=True), table_border_bottom_style=OptionsInfo(scss=True, category='table', type='value', value='solid'), table_border_bottom_width=OptionsInfo(scss=True, category='table', type='px', value='2px'), table_border_bottom_color=OptionsInfo(scss=True, category='table', type='value', value='#929292'), table_border_left_style=OptionsInfo(scss=True, category='table', type='value', value='none'), table_border_left_width=OptionsInfo(scss=True, category='table', type='px', value='2px'), table_border_left_color=OptionsInfo(scss=True, category='table', type='value', value='#D3D3D3'), heading_background_color=OptionsInfo(scss=True, category='heading', type='value', value=None), heading_align=OptionsInfo(scss=True, category='heading', type='value', value='center'), heading_title_font_size=OptionsInfo(scss=True, category='heading', type='px', value='125%'), heading_title_font_weight=OptionsInfo(scss=True, category='heading', type='value', value='initial'), heading_subtitle_font_size=OptionsInfo(scss=True, category='heading', type='px', value='85%'), heading_subtitle_font_weight=OptionsInfo(scss=True, category='heading', type='value', value='initial'), heading_padding=OptionsInfo(scss=True, category='heading', type='px', value='4px'), heading_padding_horizontal=OptionsInfo(scss=True, category='heading', type='px', value='5px'), heading_border_bottom_style=OptionsInfo(scss=True, category='heading', type='value', value='solid'), heading_border_bottom_width=OptionsInfo(scss=True, category='heading', type='px', value='2px'), heading_border_bottom_color=OptionsInfo(scss=True, category='heading', type='value', value='#929292'), heading_border_lr_style=OptionsInfo(scss=True, category='heading', type='value', value='none'), heading_border_lr_width=OptionsInfo(scss=True, category='heading', type='px', value='1px'), heading_border_lr_color=OptionsInfo(scss=True, category='heading', type='value', value='#D3D3D3'), column_labels_background_color=OptionsInfo(scss=True, category='column_labels', type='value', value='#99195F'), column_labels_font_size=OptionsInfo(scss=True, category='column_labels', type='px', value='100%'), column_labels_font_weight=OptionsInfo(scss=True, category='column_labels', type='value', value='normal'), column_labels_text_transform=OptionsInfo(scss=True, category='column_labels', type='value', value='inherit'), column_labels_padding=OptionsInfo(scss=True, category='column_labels', type='px', value='5px'), column_labels_padding_horizontal=OptionsInfo(scss=True, category='column_labels', type='px', value='5px'), column_labels_vlines_style=OptionsInfo(scss=True, category='table_body', type='value', value='none'), column_labels_vlines_width=OptionsInfo(scss=True, category='table_body', type='px', value='1px'), column_labels_vlines_color=OptionsInfo(scss=True, category='table_body', type='value', value='#D3D3D3'), column_labels_border_top_style=OptionsInfo(scss=True, category='column_labels', type='value', value='solid'), column_labels_border_top_width=OptionsInfo(scss=True, category='column_labels', type='px', value='2px'), column_labels_border_top_color=OptionsInfo(scss=True, category='column_labels', type='value', value='#929292'), column_labels_border_bottom_style=OptionsInfo(scss=True, category='column_labels', type='value', value='solid'), column_labels_border_bottom_width=OptionsInfo(scss=True, category='column_labels', type='px', value='2px'), column_labels_border_bottom_color=OptionsInfo(scss=True, category='column_labels', type='value', value='#929292'), column_labels_border_lr_style=OptionsInfo(scss=True, category='column_labels', type='value', value='none'), column_labels_border_lr_width=OptionsInfo(scss=True, category='column_labels', type='px', value='1px'), column_labels_border_lr_color=OptionsInfo(scss=True, category='column_labels', type='value', value='#D3D3D3'), column_labels_hidden=OptionsInfo(scss=False, category='column_labels', type='boolean', value=False), row_group_background_color=OptionsInfo(scss=True, category='row_group', type='value', value=None), row_group_font_size=OptionsInfo(scss=True, category='row_group', type='px', value='100%'), row_group_font_weight=OptionsInfo(scss=True, category='row_group', type='value', value='initial'), row_group_text_transform=OptionsInfo(scss=True, category='row_group', type='value', value='inherit'), row_group_padding=OptionsInfo(scss=True, category='row_group', type='px', value='8px'), row_group_padding_horizontal=OptionsInfo(scss=True, category='row_group', type='px', value='5px'), row_group_border_top_style=OptionsInfo(scss=True, category='row_group', type='value', value='solid'), row_group_border_top_width=OptionsInfo(scss=True, category='row_group', type='px', value='2px'), row_group_border_top_color=OptionsInfo(scss=True, category='row_group', type='value', value='#929292'), row_group_border_right_style=OptionsInfo(scss=True, category='row_group', type='value', value='none'), row_group_border_right_width=OptionsInfo(scss=True, category='row_group', type='px', value='1px'), row_group_border_right_color=OptionsInfo(scss=True, category='row_group', type='value', value='#D3D3D3'), row_group_border_bottom_style=OptionsInfo(scss=True, category='row_group', type='value', value='solid'), row_group_border_bottom_width=OptionsInfo(scss=True, category='row_group', type='px', value='2px'), row_group_border_bottom_color=OptionsInfo(scss=True, category='row_group', type='value', value='#929292'), row_group_border_left_style=OptionsInfo(scss=True, category='row_group', type='value', value='none'), row_group_border_left_width=OptionsInfo(scss=True, category='row_group', type='px', value='1px'), row_group_border_left_color=OptionsInfo(scss=True, category='row_group', type='value', value='#D3D3D3'), row_group_as_column=OptionsInfo(scss=False, category='row_group', type='boolean', value=False), table_body_hlines_style=OptionsInfo(scss=True, category='table_body', type='value', value='dashed'), table_body_hlines_width=OptionsInfo(scss=True, category='table_body', type='px', value='1px'), table_body_hlines_color=OptionsInfo(scss=True, category='table_body', type='value', value='#929292'), table_body_vlines_style=OptionsInfo(scss=True, category='table_body', type='value', value='none'), table_body_vlines_width=OptionsInfo(scss=True, category='table_body', type='px', value='1px'), table_body_vlines_color=OptionsInfo(scss=True, category='table_body', type='value', value='#929292'), table_body_border_top_style=OptionsInfo(scss=True, category='table_body', type='value', value='solid'), table_body_border_top_width=OptionsInfo(scss=True, category='table_body', type='px', value='2px'), table_body_border_top_color=OptionsInfo(scss=True, category='table_body', type='value', value='#929292'), table_body_border_bottom_style=OptionsInfo(scss=True, category='table_body', type='value', value='solid'), table_body_border_bottom_width=OptionsInfo(scss=True, category='table_body', type='px', value='2px'), table_body_border_bottom_color=OptionsInfo(scss=True, category='table_body', type='value', value='#929292'), data_row_padding=OptionsInfo(scss=True, category='data_row', type='px', value='8px'), data_row_padding_horizontal=OptionsInfo(scss=True, category='data_row', type='px', value='5px'), stub_background_color=OptionsInfo(scss=True, category='stub', type='value', value='#D5D5D5'), stub_font_size=OptionsInfo(scss=True, category='stub', type='px', value='100%'), stub_font_weight=OptionsInfo(scss=True, category='stub', type='value', value='initial'), stub_text_transform=OptionsInfo(scss=True, category='stub', type='value', value='inherit'), stub_border_style=OptionsInfo(scss=True, category='stub', type='value', value='none'), stub_border_width=OptionsInfo(scss=True, category='stub', type='px', value='2px'), stub_border_color=OptionsInfo(scss=True, category='stub', type='value', value='#FFFFFF'), stub_row_group_background_color=OptionsInfo(scss=True, category='stub', type='value', value=None), stub_row_group_font_size=OptionsInfo(scss=True, category='stub', type='px', value='100%'), stub_row_group_font_weight=OptionsInfo(scss=True, category='stub', type='value', value='initial'), stub_row_group_text_transform=OptionsInfo(scss=True, category='stub', type='value', value='inherit'), stub_row_group_border_style=OptionsInfo(scss=True, category='stub', type='value', value='solid'), stub_row_group_border_width=OptionsInfo(scss=True, category='stub', type='px', value='2px'), stub_row_group_border_color=OptionsInfo(scss=True, category='stub', type='value', value='#D3D3D3'), source_notes_padding=OptionsInfo(scss=True, category='source_notes', type='px', value='4px'), source_notes_padding_horizontal=OptionsInfo(scss=True, category='source_notes', type='px', value='5px'), source_notes_background_color=OptionsInfo(scss=True, category='source_notes', type='value', value=None), source_notes_font_size=OptionsInfo(scss=True, category='source_notes', type='px', value='90%'), source_notes_border_bottom_style=OptionsInfo(scss=True, category='source_notes', type='value', value='none'), source_notes_border_bottom_width=OptionsInfo(scss=True, category='source_notes', type='px', value='2px'), source_notes_border_bottom_color=OptionsInfo(scss=True, category='source_notes', type='value', value='#D3D3D3'), source_notes_border_lr_style=OptionsInfo(scss=True, category='source_notes', type='value', value='none'), source_notes_border_lr_width=OptionsInfo(scss=True, category='source_notes', type='px', value='2px'), source_notes_border_lr_color=OptionsInfo(scss=True, category='source_notes', type='value', value='#D3D3D3'), source_notes_multiline=OptionsInfo(scss=False, category='source_notes', type='boolean', value=True), source_notes_sep=OptionsInfo(scss=False, category='source_notes', type='value', value=' '), row_striping_background_color=OptionsInfo(scss=True, category='row', type='value', value='#F4F4F4'), row_striping_include_stub=OptionsInfo(scss=False, category='row', type='boolean', value=False), row_striping_include_table_body=OptionsInfo(scss=False, category='row', type='boolean', value=['True']), container_width=OptionsInfo(scss=False, category='container', type='px', value='auto'), container_height=OptionsInfo(scss=False, category='container', type='px', value='auto'), container_padding_x=OptionsInfo(scss=False, category='container', type='px', value='0px'), container_padding_y=OptionsInfo(scss=False, category='container', type='px', value='10px'), container_overflow_x=OptionsInfo(scss=False, category='container', type='overflow', value='auto'), container_overflow_y=OptionsInfo(scss=False, category='container', type='overflow', value='auto'), quarto_disable_processing=OptionsInfo(scss=False, category='quarto', type='logical', value=False), quarto_use_bootstrap=OptionsInfo(scss=False, category='quarto', type='logical', value=False)), _google_font_imports=GoogleFontImports(imports=frozenset()), _has_built=False)"
      ]
     },
     "execution_count": 12,
     "metadata": {},
     "output_type": "execute_result"
    }
   ],
   "source": [
    "row_expr = ti.is_every_nth_row(3)\n",
    "\n",
    "(\n",
    "    GT(pokemon)\n",
    "    .tab_style(\n",
    "        style=style.fill(\"lightblue\"), locations=loc.body(rows=row_expr)\n",
    "    )\n",
    "    .tab_style(\n",
    "        style=style.fill(\"papayawhip\"), locations=loc.body(rows=~row_expr)\n",
    "    )\n",
    "    .opt_stylize(style=3, color=\"pink\")\n",
    ")"
   ]
  }
 ],
 "metadata": {
  "kernelspec": {
   "display_name": "Python 3 (ipykernel)",
   "language": "python",
   "name": "python3"
  },
  "language_info": {
   "codemirror_mode": {
    "name": "ipython",
    "version": 3
   },
   "file_extension": ".py",
   "mimetype": "text/x-python",
   "name": "python",
   "nbconvert_exporter": "python",
   "pygments_lexer": "ipython3",
   "version": "3.13.7"
  }
 },
 "nbformat": 4,
 "nbformat_minor": 5
}
