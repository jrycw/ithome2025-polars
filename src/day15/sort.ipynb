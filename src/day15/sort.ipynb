{
 "cells": [
  {
   "cell_type": "code",
   "execution_count": 1,
   "metadata": {},
   "outputs": [],
   "source": [
    "import polars as pl"
   ]
  },
  {
   "cell_type": "code",
   "execution_count": 2,
   "metadata": {},
   "outputs": [
    {
     "name": "stdout",
     "output_type": "stream",
     "text": [
      "shape: (4,)\n",
      "Series: 's' [i64]\n",
      "[\n",
      "\t2\n",
      "\t3\n",
      "\t1\n",
      "\tnull\n",
      "]\n"
     ]
    }
   ],
   "source": [
    "s = pl.Series(\"s\", [2, 3, 1, None], dtype=pl.Int64)\n",
    "print(s)"
   ]
  },
  {
   "cell_type": "code",
   "execution_count": 3,
   "metadata": {},
   "outputs": [
    {
     "name": "stdout",
     "output_type": "stream",
     "text": [
      "shape: (4, 3)\n",
      "┌──────┬──────┬──────┐\n",
      "│ col1 ┆ col2 ┆ col3 │\n",
      "│ ---  ┆ ---  ┆ ---  │\n",
      "│ i64  ┆ f64  ┆ str  │\n",
      "╞══════╪══════╪══════╡\n",
      "│ 3    ┆ 6.0  ┆ a    │\n",
      "│ 2    ┆ 5.0  ┆ c    │\n",
      "│ 2    ┆ 7.0  ┆ c    │\n",
      "│ 1    ┆ 4.0  ┆ b    │\n",
      "└──────┴──────┴──────┘\n"
     ]
    }
   ],
   "source": [
    "df = pl.DataFrame(\n",
    "    {\n",
    "        \"col1\": [3, 2, 2, 1],\n",
    "        \"col2\": [6.0, 5.0, 7.0, 4.0],\n",
    "        \"col3\": [\"a\", \"c\", \"c\", \"b\"],\n",
    "    }\n",
    ")\n",
    "print(df)"
   ]
  },
  {
   "cell_type": "code",
   "execution_count": 4,
   "metadata": {},
   "outputs": [
    {
     "name": "stdout",
     "output_type": "stream",
     "text": [
      "shape: (4, 3)\n",
      "┌──────┬──────┬──────┐\n",
      "│ col1 ┆ col2 ┆ col3 │\n",
      "│ ---  ┆ ---  ┆ ---  │\n",
      "│ i64  ┆ f64  ┆ str  │\n",
      "╞══════╪══════╪══════╡\n",
      "│ 12   ┆ 15.0 ┆ a    │\n",
      "│ 13   ┆ 14.0 ┆ c    │\n",
      "│ 12   ┆ 17.0 ┆ c    │\n",
      "│ 11   ┆ 16.0 ┆ b    │\n",
      "└──────┴──────┴──────┘\n"
     ]
    }
   ],
   "source": [
    "df2 = pl.from_repr(\n",
    "    \"\"\"\n",
    "    shape: (4, 3)\n",
    "    ┌──────┬──────┬──────┐\n",
    "    │ col1 ┆ col2 ┆ col3 │\n",
    "    │ ---  ┆ ---  ┆ ---  │\n",
    "    │ i64  ┆ f64  ┆ str  │\n",
    "    ╞══════╪══════╪══════╡\n",
    "    │ 12   ┆ 15.0 ┆ a    │\n",
    "    │ 13   ┆ 14.0 ┆ c    │\n",
    "    │ 12   ┆ 17.0 ┆ c    │\n",
    "    │ 11   ┆ 16.0 ┆ b    │\n",
    "    └──────┴──────┴──────┘\n",
    "    \"\"\"\n",
    ")\n",
    "print(df2)"
   ]
  },
  {
   "cell_type": "markdown",
   "metadata": {},
   "source": [
    "## set_sorted() + pl.Series.is_sorted()"
   ]
  },
  {
   "cell_type": "code",
   "execution_count": 5,
   "metadata": {},
   "outputs": [
    {
     "data": {
      "text/plain": [
       "{'SORTED_ASC': False, 'SORTED_DESC': False}"
      ]
     },
     "execution_count": 5,
     "metadata": {},
     "output_type": "execute_result"
    }
   ],
   "source": [
    "s.flags"
   ]
  },
  {
   "cell_type": "code",
   "execution_count": 6,
   "metadata": {},
   "outputs": [
    {
     "data": {
      "text/plain": [
       "{'SORTED_ASC': True, 'SORTED_DESC': False}"
      ]
     },
     "execution_count": 6,
     "metadata": {},
     "output_type": "execute_result"
    }
   ],
   "source": [
    "s1 = s.set_sorted()\n",
    "s1.flags"
   ]
  },
  {
   "cell_type": "code",
   "execution_count": 7,
   "metadata": {},
   "outputs": [
    {
     "data": {
      "text/plain": [
       "1"
      ]
     },
     "execution_count": 7,
     "metadata": {},
     "output_type": "execute_result"
    }
   ],
   "source": [
    "s1.max()"
   ]
  },
  {
   "cell_type": "code",
   "execution_count": 8,
   "metadata": {},
   "outputs": [
    {
     "data": {
      "text/plain": [
       "False"
      ]
     },
     "execution_count": 8,
     "metadata": {},
     "output_type": "execute_result"
    }
   ],
   "source": [
    "s.is_sorted()"
   ]
  },
  {
   "cell_type": "markdown",
   "metadata": {},
   "source": [
    "## pl.Series"
   ]
  },
  {
   "cell_type": "markdown",
   "metadata": {},
   "source": [
    "### pl.Series.sort()"
   ]
  },
  {
   "cell_type": "code",
   "execution_count": 9,
   "metadata": {},
   "outputs": [
    {
     "name": "stdout",
     "output_type": "stream",
     "text": [
      "shape: (4,)\n",
      "Series: 's' [i64]\n",
      "[\n",
      "\tnull\n",
      "\t1\n",
      "\t2\n",
      "\t3\n",
      "]\n"
     ]
    }
   ],
   "source": [
    "print(s.sort())"
   ]
  },
  {
   "cell_type": "code",
   "execution_count": 10,
   "metadata": {},
   "outputs": [
    {
     "name": "stdout",
     "output_type": "stream",
     "text": [
      "shape: (4,)\n",
      "Series: 's' [i64]\n",
      "[\n",
      "\t1\n",
      "\t2\n",
      "\t3\n",
      "\tnull\n",
      "]\n"
     ]
    }
   ],
   "source": [
    "print(s.sort(nulls_last=True))"
   ]
  },
  {
   "cell_type": "markdown",
   "metadata": {},
   "source": [
    "### pl.Series.search_sorted()"
   ]
  },
  {
   "cell_type": "code",
   "execution_count": 11,
   "metadata": {},
   "outputs": [
    {
     "data": {
      "text/plain": [
       "3"
      ]
     },
     "execution_count": 11,
     "metadata": {},
     "output_type": "execute_result"
    }
   ],
   "source": [
    "s.sort().search_sorted(2, \"right\")"
   ]
  },
  {
   "cell_type": "markdown",
   "metadata": {},
   "source": [
    "## pl.DataFrame"
   ]
  },
  {
   "cell_type": "code",
   "execution_count": 12,
   "metadata": {},
   "outputs": [
    {
     "name": "stdout",
     "output_type": "stream",
     "text": [
      "shape: (4, 3)\n",
      "┌──────┬──────┬──────┐\n",
      "│ col1 ┆ col2 ┆ col3 │\n",
      "│ ---  ┆ ---  ┆ ---  │\n",
      "│ i64  ┆ f64  ┆ str  │\n",
      "╞══════╪══════╪══════╡\n",
      "│ 1    ┆ 4.0  ┆ b    │\n",
      "│ 2    ┆ 5.0  ┆ c    │\n",
      "│ 2    ┆ 7.0  ┆ c    │\n",
      "│ 3    ┆ 6.0  ┆ a    │\n",
      "└──────┴──────┴──────┘\n"
     ]
    }
   ],
   "source": [
    "print(df.sort(\"col1\"))"
   ]
  },
  {
   "cell_type": "code",
   "execution_count": 13,
   "metadata": {},
   "outputs": [
    {
     "name": "stdout",
     "output_type": "stream",
     "text": [
      "shape: (4, 3)\n",
      "┌──────┬──────┬──────┐\n",
      "│ col1 ┆ col2 ┆ col3 │\n",
      "│ ---  ┆ ---  ┆ ---  │\n",
      "│ i64  ┆ f64  ┆ str  │\n",
      "╞══════╪══════╪══════╡\n",
      "│ 1    ┆ 4.0  ┆ b    │\n",
      "│ 2    ┆ 5.0  ┆ c    │\n",
      "│ 3    ┆ 6.0  ┆ a    │\n",
      "│ 2    ┆ 7.0  ┆ c    │\n",
      "└──────┴──────┴──────┘\n"
     ]
    }
   ],
   "source": [
    "print(df.sort(pl.col(\"col1\").add(pl.col(\"col2\").mul(2))))"
   ]
  },
  {
   "cell_type": "code",
   "execution_count": 14,
   "metadata": {},
   "outputs": [
    {
     "name": "stdout",
     "output_type": "stream",
     "text": [
      "shape: (4, 3)\n",
      "┌──────┬──────┬──────┐\n",
      "│ col1 ┆ col2 ┆ col3 │\n",
      "│ ---  ┆ ---  ┆ ---  │\n",
      "│ i64  ┆ f64  ┆ str  │\n",
      "╞══════╪══════╪══════╡\n",
      "│ 2    ┆ 5.0  ┆ c    │\n",
      "│ 2    ┆ 7.0  ┆ c    │\n",
      "│ 1    ┆ 4.0  ┆ b    │\n",
      "│ 3    ┆ 6.0  ┆ a    │\n",
      "└──────┴──────┴──────┘\n"
     ]
    }
   ],
   "source": [
    "print(df.sort(\"col3\", \"col2\", descending=[True, False]))"
   ]
  },
  {
   "cell_type": "markdown",
   "metadata": {},
   "source": [
    "### df.merge_sorted()"
   ]
  },
  {
   "cell_type": "code",
   "execution_count": 15,
   "metadata": {},
   "outputs": [
    {
     "name": "stdout",
     "output_type": "stream",
     "text": [
      "shape: (8, 3)\n",
      "┌──────┬──────┬──────┐\n",
      "│ col1 ┆ col2 ┆ col3 │\n",
      "│ ---  ┆ ---  ┆ ---  │\n",
      "│ i64  ┆ f64  ┆ str  │\n",
      "╞══════╪══════╪══════╡\n",
      "│ 3    ┆ 6.0  ┆ a    │\n",
      "│ 12   ┆ 15.0 ┆ a    │\n",
      "│ 1    ┆ 4.0  ┆ b    │\n",
      "│ 11   ┆ 16.0 ┆ b    │\n",
      "│ 2    ┆ 5.0  ┆ c    │\n",
      "│ 2    ┆ 7.0  ┆ c    │\n",
      "│ 13   ┆ 14.0 ┆ c    │\n",
      "│ 12   ┆ 17.0 ┆ c    │\n",
      "└──────┴──────┴──────┘\n"
     ]
    }
   ],
   "source": [
    "print(df.sort(\"col3\").merge_sorted(df2.sort(\"col3\"), key=\"col3\"))"
   ]
  },
  {
   "cell_type": "code",
   "execution_count": 16,
   "metadata": {},
   "outputs": [
    {
     "data": {
      "text/html": [
       "<div><style>\n",
       ".dataframe > thead > tr,\n",
       ".dataframe > tbody > tr {\n",
       "  text-align: right;\n",
       "  white-space: pre-wrap;\n",
       "}\n",
       "</style>\n",
       "<small>shape: (4, 3)</small><table border=\"1\" class=\"dataframe\"><thead><tr><th>col1</th><th>col2</th><th>col3</th></tr><tr><td>i64</td><td>f64</td><td>str</td></tr></thead><tbody><tr><td>3</td><td>6.0</td><td>&quot;a&quot;</td></tr><tr><td>2</td><td>5.0</td><td>&quot;c&quot;</td></tr><tr><td>2</td><td>7.0</td><td>&quot;c&quot;</td></tr><tr><td>1</td><td>4.0</td><td>&quot;b&quot;</td></tr></tbody></table></div>"
      ],
      "text/plain": [
       "shape: (4, 3)\n",
       "┌──────┬──────┬──────┐\n",
       "│ col1 ┆ col2 ┆ col3 │\n",
       "│ ---  ┆ ---  ┆ ---  │\n",
       "│ i64  ┆ f64  ┆ str  │\n",
       "╞══════╪══════╪══════╡\n",
       "│ 3    ┆ 6.0  ┆ a    │\n",
       "│ 2    ┆ 5.0  ┆ c    │\n",
       "│ 2    ┆ 7.0  ┆ c    │\n",
       "│ 1    ┆ 4.0  ┆ b    │\n",
       "└──────┴──────┴──────┘"
      ]
     },
     "execution_count": 16,
     "metadata": {},
     "output_type": "execute_result"
    }
   ],
   "source": [
    "df"
   ]
  },
  {
   "cell_type": "code",
   "execution_count": 17,
   "metadata": {},
   "outputs": [
    {
     "data": {
      "text/html": [
       "<div><style>\n",
       ".dataframe > thead > tr,\n",
       ".dataframe > tbody > tr {\n",
       "  text-align: right;\n",
       "  white-space: pre-wrap;\n",
       "}\n",
       "</style>\n",
       "<small>shape: (4, 3)</small><table border=\"1\" class=\"dataframe\"><thead><tr><th>col1</th><th>col2</th><th>col3</th></tr><tr><td>i64</td><td>f64</td><td>str</td></tr></thead><tbody><tr><td>12</td><td>15.0</td><td>&quot;a&quot;</td></tr><tr><td>13</td><td>14.0</td><td>&quot;c&quot;</td></tr><tr><td>12</td><td>17.0</td><td>&quot;c&quot;</td></tr><tr><td>11</td><td>16.0</td><td>&quot;b&quot;</td></tr></tbody></table></div>"
      ],
      "text/plain": [
       "shape: (4, 3)\n",
       "┌──────┬──────┬──────┐\n",
       "│ col1 ┆ col2 ┆ col3 │\n",
       "│ ---  ┆ ---  ┆ ---  │\n",
       "│ i64  ┆ f64  ┆ str  │\n",
       "╞══════╪══════╪══════╡\n",
       "│ 12   ┆ 15.0 ┆ a    │\n",
       "│ 13   ┆ 14.0 ┆ c    │\n",
       "│ 12   ┆ 17.0 ┆ c    │\n",
       "│ 11   ┆ 16.0 ┆ b    │\n",
       "└──────┴──────┴──────┘"
      ]
     },
     "execution_count": 17,
     "metadata": {},
     "output_type": "execute_result"
    }
   ],
   "source": [
    "df2"
   ]
  },
  {
   "cell_type": "code",
   "execution_count": 18,
   "metadata": {},
   "outputs": [
    {
     "name": "stdout",
     "output_type": "stream",
     "text": [
      "shape: (8, 3)\n",
      "┌──────┬──────┬──────┐\n",
      "│ col1 ┆ col2 ┆ col3 │\n",
      "│ ---  ┆ ---  ┆ ---  │\n",
      "│ i64  ┆ f64  ┆ str  │\n",
      "╞══════╪══════╪══════╡\n",
      "│ 3    ┆ 6.0  ┆ a    │\n",
      "│ 12   ┆ 15.0 ┆ a    │\n",
      "│ 11   ┆ 16.0 ┆ b    │\n",
      "│ 2    ┆ 5.0  ┆ c    │\n",
      "│ 2    ┆ 7.0  ┆ c    │\n",
      "│ 1    ┆ 4.0  ┆ b    │\n",
      "│ 13   ┆ 14.0 ┆ c    │\n",
      "│ 12   ┆ 17.0 ┆ c    │\n",
      "└──────┴──────┴──────┘\n"
     ]
    }
   ],
   "source": [
    "# df does not sort. Hence, the result doesn't make sense.\n",
    "print(df.merge_sorted(df2.sort(\"col3\"), key=\"col3\"))"
   ]
  },
  {
   "cell_type": "markdown",
   "metadata": {},
   "source": [
    "## pl.Expr.sort()"
   ]
  },
  {
   "cell_type": "code",
   "execution_count": 19,
   "metadata": {},
   "outputs": [
    {
     "data": {
      "text/html": [
       "<div><style>\n",
       ".dataframe > thead > tr,\n",
       ".dataframe > tbody > tr {\n",
       "  text-align: right;\n",
       "  white-space: pre-wrap;\n",
       "}\n",
       "</style>\n",
       "<small>shape: (4, 3)</small><table border=\"1\" class=\"dataframe\"><thead><tr><th>col1</th><th>col2</th><th>col3</th></tr><tr><td>i64</td><td>f64</td><td>str</td></tr></thead><tbody><tr><td>3</td><td>6.0</td><td>&quot;a&quot;</td></tr><tr><td>2</td><td>5.0</td><td>&quot;c&quot;</td></tr><tr><td>2</td><td>7.0</td><td>&quot;c&quot;</td></tr><tr><td>1</td><td>4.0</td><td>&quot;b&quot;</td></tr></tbody></table></div>"
      ],
      "text/plain": [
       "shape: (4, 3)\n",
       "┌──────┬──────┬──────┐\n",
       "│ col1 ┆ col2 ┆ col3 │\n",
       "│ ---  ┆ ---  ┆ ---  │\n",
       "│ i64  ┆ f64  ┆ str  │\n",
       "╞══════╪══════╪══════╡\n",
       "│ 3    ┆ 6.0  ┆ a    │\n",
       "│ 2    ┆ 5.0  ┆ c    │\n",
       "│ 2    ┆ 7.0  ┆ c    │\n",
       "│ 1    ┆ 4.0  ┆ b    │\n",
       "└──────┴──────┴──────┘"
      ]
     },
     "execution_count": 19,
     "metadata": {},
     "output_type": "execute_result"
    }
   ],
   "source": [
    "df"
   ]
  },
  {
   "cell_type": "code",
   "execution_count": 20,
   "metadata": {},
   "outputs": [
    {
     "name": "stdout",
     "output_type": "stream",
     "text": [
      "shape: (4, 4)\n",
      "┌──────┬──────┬──────┬─────────────┐\n",
      "│ col1 ┆ col2 ┆ col3 ┆ sorted_col2 │\n",
      "│ ---  ┆ ---  ┆ ---  ┆ ---         │\n",
      "│ i64  ┆ f64  ┆ str  ┆ f64         │\n",
      "╞══════╪══════╪══════╪═════════════╡\n",
      "│ 3    ┆ 6.0  ┆ a    ┆ 4.0         │\n",
      "│ 2    ┆ 5.0  ┆ c    ┆ 5.0         │\n",
      "│ 2    ┆ 7.0  ┆ c    ┆ 6.0         │\n",
      "│ 1    ┆ 4.0  ┆ b    ┆ 7.0         │\n",
      "└──────┴──────┴──────┴─────────────┘\n"
     ]
    }
   ],
   "source": [
    "print(df.with_columns(pl.col(\"col2\").sort().alias(\"sorted_col2\")))"
   ]
  },
  {
   "cell_type": "code",
   "execution_count": 21,
   "metadata": {},
   "outputs": [
    {
     "name": "stdout",
     "output_type": "stream",
     "text": [
      "shape: (4, 4)\n",
      "┌──────┬──────┬──────┬─────────────────────┐\n",
      "│ col1 ┆ col2 ┆ col3 ┆ sorted_col2_by_col3 │\n",
      "│ ---  ┆ ---  ┆ ---  ┆ ---                 │\n",
      "│ i64  ┆ f64  ┆ str  ┆ f64                 │\n",
      "╞══════╪══════╪══════╪═════════════════════╡\n",
      "│ 3    ┆ 6.0  ┆ a    ┆ 6.0                 │\n",
      "│ 2    ┆ 5.0  ┆ c    ┆ 4.0                 │\n",
      "│ 2    ┆ 7.0  ┆ c    ┆ 5.0                 │\n",
      "│ 1    ┆ 4.0  ┆ b    ┆ 7.0                 │\n",
      "└──────┴──────┴──────┴─────────────────────┘\n"
     ]
    }
   ],
   "source": [
    "print(\n",
    "    df.with_columns(\n",
    "        pl.col(\"col2\").sort_by(\"col3\").alias(\"sorted_col2_by_col3\")\n",
    "    )\n",
    ")"
   ]
  }
 ],
 "metadata": {
  "kernelspec": {
   "display_name": "venv",
   "language": "python",
   "name": "python3"
  },
  "language_info": {
   "codemirror_mode": {
    "name": "ipython",
    "version": 3
   },
   "file_extension": ".py",
   "mimetype": "text/x-python",
   "name": "python",
   "nbconvert_exporter": "python",
   "pygments_lexer": "ipython3",
   "version": "3.13.7"
  }
 },
 "nbformat": 4,
 "nbformat_minor": 2
}
