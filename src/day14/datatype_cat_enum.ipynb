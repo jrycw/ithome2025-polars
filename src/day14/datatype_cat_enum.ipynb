{
 "cells": [
  {
   "cell_type": "code",
   "execution_count": 1,
   "metadata": {},
   "outputs": [],
   "source": [
    "import polars as pl\n",
    "\n",
    "os_data = [\"macOS\", \"Linux\", \"Windows\"]"
   ]
  },
  {
   "cell_type": "code",
   "execution_count": 2,
   "metadata": {},
   "outputs": [
    {
     "name": "stdout",
     "output_type": "stream",
     "text": [
      "1.33.1\n"
     ]
    }
   ],
   "source": [
    "print(pl.__version__)"
   ]
  },
  {
   "cell_type": "markdown",
   "metadata": {},
   "source": [
    "## pl.Enum"
   ]
  },
  {
   "cell_type": "code",
   "execution_count": 3,
   "metadata": {},
   "outputs": [
    {
     "name": "stdout",
     "output_type": "stream",
     "text": [
      "shape: (3, 3)\n",
      "┌─────────┬─────────┬─────────┐\n",
      "│ os      ┆ os2     ┆ os3     │\n",
      "│ ---     ┆ ---     ┆ ---     │\n",
      "│ enum    ┆ enum    ┆ str     │\n",
      "╞═════════╪═════════╪═════════╡\n",
      "│ macOS   ┆ Windows ┆ Windows │\n",
      "│ Linux   ┆ Linux   ┆ Linux   │\n",
      "│ Windows ┆ macOS   ┆ macOS   │\n",
      "└─────────┴─────────┴─────────┘\n"
     ]
    }
   ],
   "source": [
    "enum_order = [\"Linux\", \"macOS\", \"Windows\"]\n",
    "# \"Linux\" < \"macOS\" < \"Windows\"\n",
    "common_os_enum = pl.Enum(enum_order)\n",
    "\n",
    "common_os_enum_df = (\n",
    "    pl.DataFrame(\n",
    "        {\"os\": os_data},\n",
    "        schema={\"os\": common_os_enum},\n",
    "    )\n",
    "    .with_columns(pl.col(\"os\").shuffle(seed=42).alias(\"os2\"))\n",
    "    .with_columns(pl.col(\"os2\").cast(pl.String).alias(\"os3\"))\n",
    ")\n",
    "print(common_os_enum_df)"
   ]
  },
  {
   "cell_type": "markdown",
   "metadata": {},
   "source": [
    "### Comparing with string literal"
   ]
  },
  {
   "cell_type": "code",
   "execution_count": 4,
   "metadata": {},
   "outputs": [
    {
     "name": "stdout",
     "output_type": "stream",
     "text": [
      "shape: (1, 3)\n",
      "┌─────────┬───────┬───────┐\n",
      "│ os      ┆ os2   ┆ os3   │\n",
      "│ ---     ┆ ---   ┆ ---   │\n",
      "│ enum    ┆ enum  ┆ str   │\n",
      "╞═════════╪═══════╪═══════╡\n",
      "│ Windows ┆ macOS ┆ macOS │\n",
      "└─────────┴───────┴───────┘\n"
     ]
    }
   ],
   "source": [
    "# \"Linux\" < \"macOS\" < \"Windows\"\n",
    "print(common_os_enum_df.filter(pl.col(\"os\").gt(\"macOS\")))"
   ]
  },
  {
   "cell_type": "code",
   "execution_count": 5,
   "metadata": {},
   "outputs": [],
   "source": [
    "# InvalidOperationError: conversion from `str` to `enum` failed in\n",
    "# column 'literal' for 1 out of 1 values: [\"os2\"]\n",
    "\n",
    "# common_os_enum_df.with_columns(pl.col(\"os\").gt(\"os2\").alias(\"os > os2\"))"
   ]
  },
  {
   "cell_type": "markdown",
   "metadata": {},
   "source": [
    "### Comparing with pl.String"
   ]
  },
  {
   "cell_type": "code",
   "execution_count": 6,
   "metadata": {},
   "outputs": [
    {
     "name": "stdout",
     "output_type": "stream",
     "text": [
      "shape: (3, 4)\n",
      "┌─────────┬─────────┬─────────┬──────────┐\n",
      "│ os      ┆ os2     ┆ os3     ┆ os > os3 │\n",
      "│ ---     ┆ ---     ┆ ---     ┆ ---      │\n",
      "│ enum    ┆ enum    ┆ str     ┆ bool     │\n",
      "╞═════════╪═════════╪═════════╪══════════╡\n",
      "│ macOS   ┆ Windows ┆ Windows ┆ false    │\n",
      "│ Linux   ┆ Linux   ┆ Linux   ┆ false    │\n",
      "│ Windows ┆ macOS   ┆ macOS   ┆ true     │\n",
      "└─────────┴─────────┴─────────┴──────────┘\n"
     ]
    }
   ],
   "source": [
    "# \"Linux\" < \"macOS\" < \"Windows\"\n",
    "print(\n",
    "    common_os_enum_df.with_columns(\n",
    "        pl.col(\"os\").gt(pl.col(\"os3\")).alias(\"os > os3\")\n",
    "    )\n",
    ")"
   ]
  },
  {
   "cell_type": "markdown",
   "metadata": {},
   "source": [
    "### Comparing with pl.Enum"
   ]
  },
  {
   "cell_type": "code",
   "execution_count": 7,
   "metadata": {},
   "outputs": [
    {
     "name": "stdout",
     "output_type": "stream",
     "text": [
      "shape: (3, 4)\n",
      "┌─────────┬─────────┬─────────┬──────────┐\n",
      "│ os      ┆ os2     ┆ os3     ┆ os > os2 │\n",
      "│ ---     ┆ ---     ┆ ---     ┆ ---      │\n",
      "│ enum    ┆ enum    ┆ str     ┆ bool     │\n",
      "╞═════════╪═════════╪═════════╪══════════╡\n",
      "│ macOS   ┆ Windows ┆ Windows ┆ false    │\n",
      "│ Linux   ┆ Linux   ┆ Linux   ┆ false    │\n",
      "│ Windows ┆ macOS   ┆ macOS   ┆ true     │\n",
      "└─────────┴─────────┴─────────┴──────────┘\n"
     ]
    }
   ],
   "source": [
    "# \"Linux\" < \"macOS\" < \"Windows\"\n",
    "print(\n",
    "    common_os_enum_df.with_columns(\n",
    "        pl.col(\"os\").gt(pl.col(\"os2\")).alias(\"os > os2\")\n",
    "    )\n",
    ")"
   ]
  },
  {
   "cell_type": "markdown",
   "metadata": {},
   "source": [
    "## pl.Categorical"
   ]
  },
  {
   "cell_type": "code",
   "execution_count": 8,
   "metadata": {},
   "outputs": [
    {
     "name": "stdout",
     "output_type": "stream",
     "text": [
      "shape: (3, 3)\n",
      "┌─────────┬─────────┬─────────┐\n",
      "│ os      ┆ os2     ┆ os3     │\n",
      "│ ---     ┆ ---     ┆ ---     │\n",
      "│ cat     ┆ cat     ┆ str     │\n",
      "╞═════════╪═════════╪═════════╡\n",
      "│ macOS   ┆ Windows ┆ Windows │\n",
      "│ Linux   ┆ Linux   ┆ Linux   │\n",
      "│ Windows ┆ macOS   ┆ macOS   │\n",
      "└─────────┴─────────┴─────────┘\n"
     ]
    }
   ],
   "source": [
    "common_os_cat_df = (\n",
    "    pl.DataFrame({\"os\": os_data}, schema={\"os\": pl.Categorical()})\n",
    "    .with_columns(pl.col(\"os\").shuffle(seed=42).alias(\"os2\"))\n",
    "    .with_columns(pl.col(\"os2\").cast(pl.String).alias(\"os3\"))\n",
    ")\n",
    "print(common_os_cat_df)"
   ]
  },
  {
   "cell_type": "markdown",
   "metadata": {},
   "source": [
    "### Comparing with string literal"
   ]
  },
  {
   "cell_type": "code",
   "execution_count": 9,
   "metadata": {},
   "outputs": [
    {
     "name": "stdout",
     "output_type": "stream",
     "text": [
      "shape: (1, 3)\n",
      "┌───────┬─────────┬─────────┐\n",
      "│ os    ┆ os2     ┆ os3     │\n",
      "│ ---   ┆ ---     ┆ ---     │\n",
      "│ cat   ┆ cat     ┆ str     │\n",
      "╞═══════╪═════════╪═════════╡\n",
      "│ macOS ┆ Windows ┆ Windows │\n",
      "└───────┴─────────┴─────────┘\n"
     ]
    }
   ],
   "source": [
    "# ord(\"L\")=76, ord(\"W\")=87, ord(\"m\")=109,\n",
    "# \"Linux\" < \"Windows\" < \"macOS\"\n",
    "print(common_os_cat_df.filter(pl.col(\"os\").gt(\"Windows\")))"
   ]
  },
  {
   "cell_type": "markdown",
   "metadata": {},
   "source": [
    "### Comparing with pl.String"
   ]
  },
  {
   "cell_type": "code",
   "execution_count": 10,
   "metadata": {},
   "outputs": [
    {
     "name": "stdout",
     "output_type": "stream",
     "text": [
      "shape: (3, 4)\n",
      "┌─────────┬─────────┬─────────┬──────────┐\n",
      "│ os      ┆ os2     ┆ os3     ┆ os > os3 │\n",
      "│ ---     ┆ ---     ┆ ---     ┆ ---      │\n",
      "│ cat     ┆ cat     ┆ str     ┆ bool     │\n",
      "╞═════════╪═════════╪═════════╪══════════╡\n",
      "│ macOS   ┆ Windows ┆ Windows ┆ true     │\n",
      "│ Linux   ┆ Linux   ┆ Linux   ┆ false    │\n",
      "│ Windows ┆ macOS   ┆ macOS   ┆ false    │\n",
      "└─────────┴─────────┴─────────┴──────────┘\n"
     ]
    }
   ],
   "source": [
    "# ord(\"L\")=76, ord(\"W\")=87, ord(\"m\")=109,\n",
    "# \"Linux\" < \"Windows\" < \"macOS\"\n",
    "print(\n",
    "    common_os_cat_df.with_columns(\n",
    "        pl.col(\"os\").gt(pl.col(\"os3\")).alias(\"os > os3\"),\n",
    "    )\n",
    ")"
   ]
  },
  {
   "cell_type": "markdown",
   "metadata": {},
   "source": [
    "### Comparing with pl.Categorical"
   ]
  },
  {
   "cell_type": "code",
   "execution_count": 11,
   "metadata": {},
   "outputs": [
    {
     "name": "stdout",
     "output_type": "stream",
     "text": [
      "shape: (3, 4)\n",
      "┌─────────┬─────────┬─────────┬──────────┐\n",
      "│ os      ┆ os2     ┆ os3     ┆ os > os2 │\n",
      "│ ---     ┆ ---     ┆ ---     ┆ ---      │\n",
      "│ cat     ┆ cat     ┆ str     ┆ bool     │\n",
      "╞═════════╪═════════╪═════════╪══════════╡\n",
      "│ macOS   ┆ Windows ┆ Windows ┆ true     │\n",
      "│ Linux   ┆ Linux   ┆ Linux   ┆ false    │\n",
      "│ Windows ┆ macOS   ┆ macOS   ┆ false    │\n",
      "└─────────┴─────────┴─────────┴──────────┘\n"
     ]
    }
   ],
   "source": [
    "# ord(\"L\")=76, ord(\"W\")=87, ord(\"m\")=109,\n",
    "# \"Linux\" < \"Windows\" < \"macOS\"\n",
    "print(\n",
    "    common_os_cat_df.with_columns(\n",
    "        pl.col(\"os\").gt(pl.col(\"os2\")).alias(\"os > os2\"),\n",
    "    )\n",
    ")"
   ]
  },
  {
   "cell_type": "markdown",
   "metadata": {},
   "source": [
    "### pl.Expr.cat"
   ]
  },
  {
   "cell_type": "code",
   "execution_count": 12,
   "metadata": {},
   "outputs": [
    {
     "name": "stdout",
     "output_type": "stream",
     "text": [
      "shape: (3, 1)\n",
      "┌─────────┐\n",
      "│ os      │\n",
      "│ ---     │\n",
      "│ str     │\n",
      "╞═════════╡\n",
      "│ macOS   │\n",
      "│ Linux   │\n",
      "│ Windows │\n",
      "└─────────┘\n"
     ]
    }
   ],
   "source": [
    "print(common_os_cat_df.select(pl.col(\"os\").cat.get_categories()))"
   ]
  },
  {
   "cell_type": "markdown",
   "metadata": {},
   "source": [
    "## codepanda"
   ]
  },
  {
   "cell_type": "code",
   "execution_count": 13,
   "metadata": {},
   "outputs": [],
   "source": [
    "import pandas as pd"
   ]
  },
  {
   "cell_type": "code",
   "execution_count": 14,
   "metadata": {},
   "outputs": [
    {
     "name": "stdout",
     "output_type": "stream",
     "text": [
      "        os os_cat_non_ordered os_cat_ordered\n",
      "0    Linux              Linux          Linux\n",
      "1    macOS              macOS          macOS\n",
      "2  Windows            Windows        Windows\n"
     ]
    }
   ],
   "source": [
    "os_data_pd = [\"Linux\", \"macOS\", \"Windows\"]\n",
    "os_cat_non_ordered = pd.CategoricalDtype(categories=os_data_pd)\n",
    "os_cat_ordered = pd.CategoricalDtype(categories=os_data_pd, ordered=True)\n",
    "\n",
    "df_pd = pd.DataFrame({\"os\": os_data_pd}).assign(\n",
    "    os_cat_non_ordered=lambda df_: df_.os.astype(\n",
    "        {\"os\": os_cat_non_ordered}\n",
    "    ),\n",
    "    os_cat_ordered=lambda df_: df_.os.astype({\"os\": os_cat_ordered}),\n",
    ")\n",
    "print(df_pd)"
   ]
  },
  {
   "cell_type": "code",
   "execution_count": 15,
   "metadata": {},
   "outputs": [],
   "source": [
    "# TypeError: Unordered Categoricals can only compare equality or not\n",
    "\n",
    "# df_pd.query(\"os_cat_non_ordered > 'macOS'\")"
   ]
  },
  {
   "cell_type": "code",
   "execution_count": 16,
   "metadata": {},
   "outputs": [
    {
     "name": "stdout",
     "output_type": "stream",
     "text": [
      "        os os_cat_non_ordered os_cat_ordered\n",
      "2  Windows            Windows        Windows\n"
     ]
    }
   ],
   "source": [
    "print(df_pd.query(\"os_cat_ordered > 'macOS'\"))"
   ]
  },
  {
   "cell_type": "markdown",
   "metadata": {},
   "source": [
    "## Remarks"
   ]
  },
  {
   "cell_type": "markdown",
   "metadata": {},
   "source": [
    "### Remark1"
   ]
  },
  {
   "cell_type": "code",
   "execution_count": 17,
   "metadata": {},
   "outputs": [
    {
     "name": "stdout",
     "output_type": "stream",
     "text": [
      "shape: (3, 2)\n",
      "┌─────────┬──────┐\n",
      "│ os      ┆ > A  │\n",
      "│ ---     ┆ ---  │\n",
      "│ cat     ┆ bool │\n",
      "╞═════════╪══════╡\n",
      "│ macOS   ┆ true │\n",
      "│ Linux   ┆ true │\n",
      "│ Windows ┆ true │\n",
      "└─────────┴──────┘\n"
     ]
    }
   ],
   "source": [
    "# ord(\"A)=65, ord(\"L\")=76, ord(\"W\")=87, ord(\"m\")=109,\n",
    "# \"A\" < \"Linux\" < \"Windows\" < \"macOS\"\n",
    "df0 = pl.DataFrame({\"os\": os_data}, schema={\"os\": pl.Categorical()})\n",
    "print(df0.with_columns(pl.col(\"os\").gt(\"A\").alias(\"> A\")))"
   ]
  }
 ],
 "metadata": {
  "kernelspec": {
   "display_name": "venv",
   "language": "python",
   "name": "python3"
  },
  "language_info": {
   "codemirror_mode": {
    "name": "ipython",
    "version": 3
   },
   "file_extension": ".py",
   "mimetype": "text/x-python",
   "name": "python",
   "nbconvert_exporter": "python",
   "pygments_lexer": "ipython3",
   "version": "3.13.7"
  }
 },
 "nbformat": 4,
 "nbformat_minor": 2
}
