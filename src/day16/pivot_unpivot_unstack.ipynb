{
 "cells": [
  {
   "cell_type": "code",
   "execution_count": 1,
   "metadata": {},
   "outputs": [
    {
     "name": "stdout",
     "output_type": "stream",
     "text": [
      "shape: (6, 4)\n",
      "┌──────┬──────┬──────┬──────┐\n",
      "│ col1 ┆ col2 ┆ col3 ┆ col4 │\n",
      "│ ---  ┆ ---  ┆ ---  ┆ ---  │\n",
      "│ str  ┆ str  ┆ i64  ┆ i64  │\n",
      "╞══════╪══════╪══════╪══════╡\n",
      "│ A    ┆ C    ┆ 1    ┆ 11   │\n",
      "│ A    ┆ D    ┆ 2    ┆ 12   │\n",
      "│ A    ┆ C    ┆ 3    ┆ 13   │\n",
      "│ B    ┆ C    ┆ 4    ┆ 14   │\n",
      "│ B    ┆ D    ┆ 5    ┆ 15   │\n",
      "│ B    ┆ C    ┆ 6    ┆ 16   │\n",
      "└──────┴──────┴──────┴──────┘\n"
     ]
    }
   ],
   "source": [
    "import polars as pl\n",
    "from polars import selectors as cs\n",
    "\n",
    "df = pl.DataFrame(\n",
    "    {\n",
    "        \"col1\": [\"A\", \"A\", \"A\", \"B\", \"B\", \"B\"],\n",
    "        \"col2\": [\"C\", \"D\", \"C\", \"C\", \"D\", \"C\"],\n",
    "        \"col3\": [1, 2, 3, 4, 5, 6],\n",
    "        \"col4\": [11, 12, 13, 14, 15, 16],\n",
    "    }\n",
    ")\n",
    "print(df)"
   ]
  },
  {
   "cell_type": "markdown",
   "metadata": {},
   "source": [
    "## df.pivot()"
   ]
  },
  {
   "cell_type": "code",
   "execution_count": 2,
   "metadata": {},
   "outputs": [],
   "source": [
    "# df.pivot(\"col2\", index=\"col1\", values=\"col3\")"
   ]
  },
  {
   "cell_type": "code",
   "execution_count": 3,
   "metadata": {},
   "outputs": [
    {
     "name": "stdout",
     "output_type": "stream",
     "text": [
      "shape: (2, 3)\n",
      "┌──────┬─────┬─────┐\n",
      "│ col1 ┆ C   ┆ D   │\n",
      "│ ---  ┆ --- ┆ --- │\n",
      "│ str  ┆ i64 ┆ i64 │\n",
      "╞══════╪═════╪═════╡\n",
      "│ A    ┆ 3   ┆ 2   │\n",
      "│ B    ┆ 6   ┆ 5   │\n",
      "└──────┴─────┴─────┘\n"
     ]
    }
   ],
   "source": [
    "print(\n",
    "    df.pivot(\n",
    "        on=\"col2\", index=\"col1\", values=\"col3\", aggregate_function=\"max\"\n",
    "    )\n",
    ")"
   ]
  },
  {
   "cell_type": "code",
   "execution_count": 4,
   "metadata": {},
   "outputs": [
    {
     "name": "stdout",
     "output_type": "stream",
     "text": [
      "shape: (2, 3)\n",
      "┌──────┬─────┬─────┐\n",
      "│ col1 ┆ C   ┆ D   │\n",
      "│ ---  ┆ --- ┆ --- │\n",
      "│ str  ┆ i64 ┆ i64 │\n",
      "╞══════╪═════╪═════╡\n",
      "│ A    ┆ 3   ┆ 2   │\n",
      "│ B    ┆ 6   ┆ 5   │\n",
      "└──────┴─────┴─────┘\n"
     ]
    }
   ],
   "source": [
    "df2 = df.pivot(\n",
    "    on=\"col2\",\n",
    "    index=\"col1\",\n",
    "    values=\"col3\",\n",
    "    aggregate_function=pl.element().max(),\n",
    ")\n",
    "print(df2)"
   ]
  },
  {
   "cell_type": "code",
   "execution_count": 5,
   "metadata": {},
   "outputs": [
    {
     "name": "stdout",
     "output_type": "stream",
     "text": [
      "shape: (4, 8)\n",
      "┌──────┬──────┬──────┬──────┬──────┬──────┬──────┬──────┐\n",
      "│ col1 ┆ col2 ┆ 11   ┆ 12   ┆ 13   ┆ 14   ┆ 15   ┆ 16   │\n",
      "│ ---  ┆ ---  ┆ ---  ┆ ---  ┆ ---  ┆ ---  ┆ ---  ┆ ---  │\n",
      "│ str  ┆ str  ┆ i64  ┆ i64  ┆ i64  ┆ i64  ┆ i64  ┆ i64  │\n",
      "╞══════╪══════╪══════╪══════╪══════╪══════╪══════╪══════╡\n",
      "│ A    ┆ C    ┆ 1    ┆ null ┆ 3    ┆ null ┆ null ┆ null │\n",
      "│ A    ┆ D    ┆ null ┆ 2    ┆ null ┆ null ┆ null ┆ null │\n",
      "│ B    ┆ C    ┆ null ┆ null ┆ null ┆ 4    ┆ null ┆ 6    │\n",
      "│ B    ┆ D    ┆ null ┆ null ┆ null ┆ null ┆ 5    ┆ null │\n",
      "└──────┴──────┴──────┴──────┴──────┴──────┴──────┴──────┘\n"
     ]
    }
   ],
   "source": [
    "print(\n",
    "    df.pivot(\n",
    "        on=\"col4\",\n",
    "        index=cs.by_name(\"col1\", \"col2\"),\n",
    "        values=\"col3\",\n",
    "        aggregate_function=\"max\",\n",
    "    )\n",
    ")"
   ]
  },
  {
   "cell_type": "code",
   "execution_count": 6,
   "metadata": {},
   "outputs": [],
   "source": [
    "# print(\n",
    "#     df.pivot(\n",
    "#         on=cs.by_name(\"col2\", \"col4\"),\n",
    "#         index=cs.by_name(\"col1\"),\n",
    "#         values=cs.by_name(\"col3\"),\n",
    "#         aggregate_function=\"max\",\n",
    "#     )\n",
    "# )"
   ]
  },
  {
   "cell_type": "code",
   "execution_count": 7,
   "metadata": {},
   "outputs": [],
   "source": [
    "# print(\n",
    "#     df.pivot(\n",
    "#         on=cs.by_name(\"col4\"),\n",
    "#         index=cs.by_name(\"col1\"),\n",
    "#         values=cs.by_name(\"col2\", \"col3\"),\n",
    "#         aggregate_function=\"max\",\n",
    "#     )\n",
    "# )"
   ]
  },
  {
   "cell_type": "markdown",
   "metadata": {},
   "source": [
    "## df.unpivot()"
   ]
  },
  {
   "cell_type": "code",
   "execution_count": 8,
   "metadata": {},
   "outputs": [
    {
     "name": "stdout",
     "output_type": "stream",
     "text": [
      "shape: (4, 3)\n",
      "┌──────┬──────┬──────┐\n",
      "│ col1 ┆ col2 ┆ col3 │\n",
      "│ ---  ┆ ---  ┆ ---  │\n",
      "│ str  ┆ str  ┆ i64  │\n",
      "╞══════╪══════╪══════╡\n",
      "│ A    ┆ D    ┆ 2    │\n",
      "│ A    ┆ C    ┆ 3    │\n",
      "│ B    ┆ D    ┆ 5    │\n",
      "│ B    ┆ C    ┆ 6    │\n",
      "└──────┴──────┴──────┘\n"
     ]
    }
   ],
   "source": [
    "print(\n",
    "    df2.unpivot(\n",
    "        on=[\"C\", \"D\"],\n",
    "        index=\"col1\",\n",
    "        variable_name=\"col2\",\n",
    "        value_name=\"col3\",\n",
    "    ).sort(\"col3\")\n",
    ")"
   ]
  },
  {
   "cell_type": "code",
   "execution_count": 9,
   "metadata": {},
   "outputs": [
    {
     "name": "stdout",
     "output_type": "stream",
     "text": [
      "shape: (4, 3)\n",
      "┌──────┬──────┬──────┐\n",
      "│ col1 ┆ col2 ┆ col3 │\n",
      "│ ---  ┆ ---  ┆ ---  │\n",
      "│ str  ┆ str  ┆ i64  │\n",
      "╞══════╪══════╪══════╡\n",
      "│ A    ┆ D    ┆ 2    │\n",
      "│ A    ┆ C    ┆ 3    │\n",
      "│ B    ┆ D    ┆ 5    │\n",
      "│ B    ┆ C    ┆ 6    │\n",
      "└──────┴──────┴──────┘\n"
     ]
    }
   ],
   "source": [
    "print(\n",
    "    df2.unpivot(\n",
    "        on=cs.numeric(),\n",
    "        index=\"col1\",\n",
    "        variable_name=\"col2\",\n",
    "        value_name=\"col3\",\n",
    "    ).sort(\"col3\")\n",
    ")"
   ]
  },
  {
   "cell_type": "markdown",
   "metadata": {},
   "source": [
    "## df.unstack()"
   ]
  },
  {
   "cell_type": "code",
   "execution_count": 10,
   "metadata": {},
   "outputs": [
    {
     "name": "stdout",
     "output_type": "stream",
     "text": [
      "shape: (3, 2)\n",
      "┌────────┬────────┐\n",
      "│ col1_0 ┆ col1_1 │\n",
      "│ ---    ┆ ---    │\n",
      "│ str    ┆ str    │\n",
      "╞════════╪════════╡\n",
      "│ A      ┆ B      │\n",
      "│ A      ┆ B      │\n",
      "│ A      ┆ B      │\n",
      "└────────┴────────┘\n"
     ]
    }
   ],
   "source": [
    "print(df.unstack(step=3, columns=\"col1\", how=\"vertical\"))"
   ]
  },
  {
   "cell_type": "code",
   "execution_count": 11,
   "metadata": {},
   "outputs": [
    {
     "name": "stdout",
     "output_type": "stream",
     "text": [
      "shape: (2, 3)\n",
      "┌────────┬────────┬────────┐\n",
      "│ col1_0 ┆ col1_1 ┆ col1_2 │\n",
      "│ ---    ┆ ---    ┆ ---    │\n",
      "│ str    ┆ str    ┆ str    │\n",
      "╞════════╪════════╪════════╡\n",
      "│ A      ┆ A      ┆ A      │\n",
      "│ B      ┆ B      ┆ B      │\n",
      "└────────┴────────┴────────┘\n"
     ]
    }
   ],
   "source": [
    "print(df.unstack(step=3, columns=\"col1\", how=\"horizontal\"))"
   ]
  },
  {
   "cell_type": "code",
   "execution_count": 12,
   "metadata": {},
   "outputs": [
    {
     "name": "stdout",
     "output_type": "stream",
     "text": [
      "shape: (4, 2)\n",
      "┌────────┬────────┐\n",
      "│ col1_0 ┆ col1_1 │\n",
      "│ ---    ┆ ---    │\n",
      "│ str    ┆ str    │\n",
      "╞════════╪════════╡\n",
      "│ A      ┆ B      │\n",
      "│ A      ┆ B      │\n",
      "│ A      ┆ null   │\n",
      "│ B      ┆ null   │\n",
      "└────────┴────────┘\n"
     ]
    }
   ],
   "source": [
    "print(df.unstack(step=4, columns=\"col1\", how=\"vertical\"))"
   ]
  },
  {
   "cell_type": "code",
   "execution_count": 13,
   "metadata": {},
   "outputs": [
    {
     "name": "stdout",
     "output_type": "stream",
     "text": [
      "shape: (4, 2)\n",
      "┌────────┬────────────┐\n",
      "│ col1_0 ┆ col1_1     │\n",
      "│ ---    ┆ ---        │\n",
      "│ str    ┆ str        │\n",
      "╞════════╪════════════╡\n",
      "│ A      ┆ B          │\n",
      "│ A      ┆ B          │\n",
      "│ A      ┆ fill_value │\n",
      "│ B      ┆ fill_value │\n",
      "└────────┴────────────┘\n"
     ]
    }
   ],
   "source": [
    "print(\n",
    "    df.unstack(\n",
    "        step=4, columns=\"col1\", how=\"vertical\", fill_values=\"fill_value\"\n",
    "    )\n",
    ")"
   ]
  },
  {
   "cell_type": "markdown",
   "metadata": {},
   "source": [
    "## Remarks"
   ]
  },
  {
   "cell_type": "markdown",
   "metadata": {},
   "source": [
    "### Remark1"
   ]
  },
  {
   "cell_type": "code",
   "execution_count": 14,
   "metadata": {},
   "outputs": [
    {
     "name": "stdout",
     "output_type": "stream",
     "text": [
      "shape: (2, 3)\n",
      "┌──────┬─────┬─────┐\n",
      "│ col1 ┆ C   ┆ D   │\n",
      "│ ---  ┆ --- ┆ --- │\n",
      "│ str  ┆ i64 ┆ i64 │\n",
      "╞══════╪═════╪═════╡\n",
      "│ A    ┆ 3   ┆ 2   │\n",
      "│ B    ┆ 6   ┆ 5   │\n",
      "└──────┴─────┴─────┘\n"
     ]
    }
   ],
   "source": [
    "print(\n",
    "    df.group_by(\"col1\", maintain_order=True).agg(\n",
    "        pl.col(\"col3\").filter(pl.col(\"col2\").eq(\"C\")).max().alias(\"C\"),\n",
    "        pl.col(\"col3\").filter(pl.col(\"col2\").eq(\"D\")).max().alias(\"D\"),\n",
    "    )\n",
    ")"
   ]
  },
  {
   "cell_type": "code",
   "execution_count": 15,
   "metadata": {},
   "outputs": [],
   "source": [
    "from polars.testing import assert_frame_equal\n",
    "\n",
    "on, index, values = pl.col(\"col2\"), pl.col(\"col1\"), pl.col(\"col3\")\n",
    "unique_column_values = df.select(on.unique()).to_series().sort().to_list()\n",
    "agg_func = lambda col: col.max()\n",
    "\n",
    "df3 = df.group_by(index, maintain_order=True).agg(\n",
    "    agg_func(values.filter(on.eq(value)).alias(value))\n",
    "    for value in unique_column_values\n",
    ")\n",
    "\n",
    "assert_frame_equal(df2, df3)"
   ]
  },
  {
   "cell_type": "markdown",
   "metadata": {},
   "source": [
    "### Remark2"
   ]
  },
  {
   "cell_type": "code",
   "execution_count": 16,
   "metadata": {},
   "outputs": [
    {
     "name": "stdout",
     "output_type": "stream",
     "text": [
      "shape: (4, 3)\n",
      "┌──────┬──────┬──────┐\n",
      "│ col1 ┆ col2 ┆ col3 │\n",
      "│ ---  ┆ ---  ┆ ---  │\n",
      "│ str  ┆ str  ┆ i64  │\n",
      "╞══════╪══════╪══════╡\n",
      "│ A    ┆ D    ┆ 2    │\n",
      "│ A    ┆ C    ┆ 3    │\n",
      "│ B    ┆ D    ┆ 5    │\n",
      "│ B    ┆ C    ┆ 6    │\n",
      "└──────┴──────┴──────┘\n"
     ]
    }
   ],
   "source": [
    "index = \"col1\"\n",
    "\n",
    "cols = df2.columns\n",
    "cols.remove(index)\n",
    "\n",
    "print(\n",
    "    df2.select(\n",
    "        \"col1\",\n",
    "        pl.repeat(cols, len(cols)).alias(\"col2\"),\n",
    "        pl.concat_list(pl.col(\"C\", \"D\")).alias(\"col3\"),\n",
    "    )\n",
    "    .explode(\"col2\", \"col3\")\n",
    "    .sort(\"col3\")\n",
    ")"
   ]
  },
  {
   "cell_type": "code",
   "execution_count": 17,
   "metadata": {},
   "outputs": [
    {
     "name": "stdout",
     "output_type": "stream",
     "text": [
      "shape: (4, 3)\n",
      "┌──────┬──────┬──────┐\n",
      "│ col1 ┆ col2 ┆ col3 │\n",
      "│ ---  ┆ ---  ┆ ---  │\n",
      "│ str  ┆ str  ┆ i64  │\n",
      "╞══════╪══════╪══════╡\n",
      "│ A    ┆ D    ┆ 2    │\n",
      "│ A    ┆ C    ┆ 3    │\n",
      "│ B    ┆ D    ┆ 5    │\n",
      "│ B    ┆ C    ┆ 6    │\n",
      "└──────┴──────┴──────┘\n"
     ]
    }
   ],
   "source": [
    "index_cols = [\"col1\"]\n",
    "\n",
    "on = df2.columns\n",
    "for index_col in index_cols:\n",
    "    on.remove(index_col)\n",
    "\n",
    "variable_name, value_name = \"col2\", \"col3\"\n",
    "\n",
    "print(\n",
    "    df2.select(\n",
    "        \"col1\",\n",
    "        pl.repeat(on, len(on)).alias(variable_name),\n",
    "        pl.concat_list(pl.col(on)).alias(value_name),\n",
    "    )\n",
    "    .explode(variable_name, value_name)\n",
    "    .sort(value_name)\n",
    ")"
   ]
  }
 ],
 "metadata": {
  "kernelspec": {
   "display_name": "venv",
   "language": "python",
   "name": "python3"
  },
  "language_info": {
   "codemirror_mode": {
    "name": "ipython",
    "version": 3
   },
   "file_extension": ".py",
   "mimetype": "text/x-python",
   "name": "python",
   "nbconvert_exporter": "python",
   "pygments_lexer": "ipython3",
   "version": "3.13.7"
  }
 },
 "nbformat": 4,
 "nbformat_minor": 2
}
