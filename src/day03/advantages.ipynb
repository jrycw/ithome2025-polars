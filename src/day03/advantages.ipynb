{
 "cells": [
  {
   "cell_type": "code",
   "execution_count": 1,
   "metadata": {},
   "outputs": [],
   "source": [
    "import pandas as pd\n",
    "import polars as pl\n",
    "import polars.selectors as cs\n",
    "from itertools import groupby"
   ]
  },
  {
   "cell_type": "markdown",
   "metadata": {},
   "source": [
    "## 1. Repeat operations"
   ]
  },
  {
   "cell_type": "code",
   "execution_count": 2,
   "metadata": {},
   "outputs": [],
   "source": [
    "lucky_numbers = [5, 93, 42, 55, 74]"
   ]
  },
  {
   "cell_type": "code",
   "execution_count": 3,
   "metadata": {},
   "outputs": [
    {
     "data": {
      "text/plain": [
       "[6, 94, 43, 56, 75]"
      ]
     },
     "execution_count": 3,
     "metadata": {},
     "output_type": "execute_result"
    }
   ],
   "source": [
    "[number + 1 for number in lucky_numbers]"
   ]
  },
  {
   "cell_type": "code",
   "execution_count": 4,
   "metadata": {},
   "outputs": [
    {
     "data": {
      "text/plain": [
       "[6, 94, 43, 56, 75]"
      ]
     },
     "execution_count": 4,
     "metadata": {},
     "output_type": "execute_result"
    }
   ],
   "source": [
    "list(map(lambda x: x + 1, lucky_numbers))"
   ]
  },
  {
   "cell_type": "code",
   "execution_count": 5,
   "metadata": {},
   "outputs": [
    {
     "name": "stdout",
     "output_type": "stream",
     "text": [
      "shape: (5, 1)\n",
      "┌──────────────┐\n",
      "│ lucky_number │\n",
      "│ ---          │\n",
      "│ i64          │\n",
      "╞══════════════╡\n",
      "│ 6            │\n",
      "│ 94           │\n",
      "│ 43           │\n",
      "│ 56           │\n",
      "│ 75           │\n",
      "└──────────────┘\n"
     ]
    }
   ],
   "source": [
    "df_lucky_numbers = pl.DataFrame({\"lucky_number\": lucky_numbers})\n",
    "print(df_lucky_numbers.select(pl.col(\"lucky_number\").add(1)))"
   ]
  },
  {
   "cell_type": "markdown",
   "metadata": {},
   "source": [
    "## 2. Filter"
   ]
  },
  {
   "cell_type": "code",
   "execution_count": 6,
   "metadata": {},
   "outputs": [
    {
     "data": {
      "text/plain": [
       "[93, 55, 74]"
      ]
     },
     "execution_count": 6,
     "metadata": {},
     "output_type": "execute_result"
    }
   ],
   "source": [
    "[number for number in lucky_numbers if number > 50]"
   ]
  },
  {
   "cell_type": "code",
   "execution_count": 7,
   "metadata": {},
   "outputs": [
    {
     "data": {
      "text/plain": [
       "[93, 55, 74]"
      ]
     },
     "execution_count": 7,
     "metadata": {},
     "output_type": "execute_result"
    }
   ],
   "source": [
    "list(filter(lambda x: x > 50, lucky_numbers))"
   ]
  },
  {
   "cell_type": "code",
   "execution_count": 8,
   "metadata": {},
   "outputs": [
    {
     "name": "stdout",
     "output_type": "stream",
     "text": [
      "shape: (3, 1)\n",
      "┌──────────────┐\n",
      "│ lucky_number │\n",
      "│ ---          │\n",
      "│ i64          │\n",
      "╞══════════════╡\n",
      "│ 93           │\n",
      "│ 55           │\n",
      "│ 74           │\n",
      "└──────────────┘\n"
     ]
    }
   ],
   "source": [
    "print(df_lucky_numbers.filter(pl.col(\"lucky_number\") > 50))"
   ]
  },
  {
   "cell_type": "markdown",
   "metadata": {},
   "source": [
    "## 3. Group by"
   ]
  },
  {
   "cell_type": "code",
   "execution_count": 9,
   "metadata": {},
   "outputs": [
    {
     "name": "stdout",
     "output_type": "stream",
     "text": [
      "[3, 4, 5]\n",
      "[['May'], ['Jeff', 'Jack'], ['Cathy', 'David']]\n"
     ]
    }
   ],
   "source": [
    "names = [\"May\", \"Jeff\", \"Cathy\", \"Jack\", \"David\"]\n",
    "\n",
    "groups = []\n",
    "uniquekeys = []\n",
    "\n",
    "for k, g in groupby(sorted(names, key=len), key=len):\n",
    "    groups.append(list(g))\n",
    "    uniquekeys.append(k)\n",
    "\n",
    "print(uniquekeys)\n",
    "print(groups)"
   ]
  },
  {
   "cell_type": "code",
   "execution_count": 10,
   "metadata": {},
   "outputs": [
    {
     "name": "stdout",
     "output_type": "stream",
     "text": [
      "shape: (3, 2)\n",
      "┌─────┬────────────────────┐\n",
      "│ len ┆ name               │\n",
      "│ --- ┆ ---                │\n",
      "│ u32 ┆ list[str]          │\n",
      "╞═════╪════════════════════╡\n",
      "│ 3   ┆ [\"May\"]            │\n",
      "│ 4   ┆ [\"Jeff\", \"Jack\"]   │\n",
      "│ 5   ┆ [\"Cathy\", \"David\"] │\n",
      "└─────┴────────────────────┘\n"
     ]
    }
   ],
   "source": [
    "df_names = pl.DataFrame({\"name\": names})\n",
    "\n",
    "print(\n",
    "    df_names.group_by(pl.col(\"name\").str.len_bytes().alias(\"len\"))\n",
    "    .agg(pl.col(\"name\"))\n",
    "    .sort(pl.col(\"len\"))\n",
    ")"
   ]
  },
  {
   "cell_type": "markdown",
   "metadata": {},
   "source": [
    "## 4. Select"
   ]
  },
  {
   "cell_type": "code",
   "execution_count": 11,
   "metadata": {},
   "outputs": [],
   "source": [
    "data = {\"name\": names, \"lucky_number\": lucky_numbers}"
   ]
  },
  {
   "cell_type": "code",
   "execution_count": 12,
   "metadata": {},
   "outputs": [
    {
     "name": "stdout",
     "output_type": "stream",
     "text": [
      "shape: (5, 2)\n",
      "┌───────┬──────────────┐\n",
      "│ name  ┆ lucky_number │\n",
      "│ ---   ┆ ---          │\n",
      "│ str   ┆ i64          │\n",
      "╞═══════╪══════════════╡\n",
      "│ May   ┆ 5            │\n",
      "│ Jeff  ┆ 93           │\n",
      "│ Cathy ┆ 42           │\n",
      "│ Jack  ┆ 55           │\n",
      "│ David ┆ 74           │\n",
      "└───────┴──────────────┘\n"
     ]
    }
   ],
   "source": [
    "df = pl.DataFrame(data)\n",
    "print(df.select(cs.by_name(\"name\") | cs.numeric()))"
   ]
  },
  {
   "cell_type": "markdown",
   "metadata": {},
   "source": [
    "## 5. Linkedin post"
   ]
  },
  {
   "cell_type": "code",
   "execution_count": 13,
   "metadata": {},
   "outputs": [
    {
     "data": {
      "text/plain": [
       "Counter({'#problemsolving': 2,\n",
       "         '#efficiency': 2,\n",
       "         '#coding': 1,\n",
       "         '#opensource': 1,\n",
       "         '#collaboration': 1})"
      ]
     },
     "execution_count": 13,
     "metadata": {},
     "output_type": "execute_result"
    }
   ],
   "source": [
    "# https://www.linkedin.com/posts/bbelderbos_happy-mondaypython-can-be-so-concise-and-activity-7309836082458583041-mTYW?utm_source=share&utm_medium=member_desktop&rcm=ACoAABBLRAgBsmngU5ejiiht8wZNrBdjxbUCAZ4\n",
    "import itertools\n",
    "import collections\n",
    "\n",
    "\n",
    "df_text = pl.DataFrame(\n",
    "    {\n",
    "        \"text\": [\n",
    "            \"Tags: #Coding #ProblemSolving\",\n",
    "            \"Tags: #OpenSource #Collaboration #Efficiency\",\n",
    "            \"Tags: #ProblemSolving #Efficiency\",\n",
    "        ]\n",
    "    }\n",
    ")\n",
    "\n",
    "tags = df_text[\"text\"].str.extract_all(r\"#\\w+\").to_list()\n",
    "tags_flattened = (\n",
    "    tag.lower() for tag in itertools.chain.from_iterable(tags)\n",
    ")\n",
    "most_common_tags = collections.Counter(tags_flattened)\n",
    "most_common_tags"
   ]
  },
  {
   "cell_type": "code",
   "execution_count": 14,
   "metadata": {},
   "outputs": [
    {
     "name": "stdout",
     "output_type": "stream",
     "text": [
      "shape: (5, 2)\n",
      "┌─────────────────┬───────┐\n",
      "│ text            ┆ count │\n",
      "│ ---             ┆ ---   │\n",
      "│ str             ┆ u32   │\n",
      "╞═════════════════╪═══════╡\n",
      "│ #problemsolving ┆ 2     │\n",
      "│ #efficiency     ┆ 2     │\n",
      "│ #coding         ┆ 1     │\n",
      "│ #opensource     ┆ 1     │\n",
      "│ #collaboration  ┆ 1     │\n",
      "└─────────────────┴───────┘\n"
     ]
    }
   ],
   "source": [
    "print(\n",
    "    df_text.select(\n",
    "        pl.col(\"text\")\n",
    "        .str.extract_all(r\"#\\w+\")\n",
    "        .list.eval(pl.element().str.to_lowercase())\n",
    "        .explode()\n",
    "        .value_counts(sort=True)\n",
    "        .struct.unnest()\n",
    "    )\n",
    ")"
   ]
  },
  {
   "cell_type": "markdown",
   "metadata": {},
   "source": [
    "## Remarks"
   ]
  },
  {
   "cell_type": "markdown",
   "metadata": {},
   "source": [
    "### Remark1"
   ]
  },
  {
   "cell_type": "code",
   "execution_count": 15,
   "metadata": {},
   "outputs": [
    {
     "name": "stdout",
     "output_type": "stream",
     "text": [
      "uniquekeys=[3, 4, 5]\n",
      "groups=[['May'], ['Jeff', 'Jack'], ['Cathy', 'David']]\n"
     ]
    }
   ],
   "source": [
    "groups, uniquekeys = [], []\n",
    "\n",
    "for k, g in groupby(sorted(names, key=len), key=len):\n",
    "    groups.append(list(g))\n",
    "    uniquekeys.append(k)\n",
    "\n",
    "print(f\"{uniquekeys=}\")\n",
    "print(f\"{groups=}\")"
   ]
  },
  {
   "cell_type": "markdown",
   "metadata": {},
   "source": [
    "## codepanda"
   ]
  },
  {
   "cell_type": "markdown",
   "metadata": {},
   "source": [
    "## 1. Repeat operations"
   ]
  },
  {
   "cell_type": "code",
   "execution_count": 16,
   "metadata": {},
   "outputs": [
    {
     "name": "stdout",
     "output_type": "stream",
     "text": [
      "   lucky_number\n",
      "0             6\n",
      "1            94\n",
      "2            43\n",
      "3            56\n",
      "4            75\n"
     ]
    }
   ],
   "source": [
    "df_lucky_numbers = pd.DataFrame({\"lucky_number\": lucky_numbers})\n",
    "\n",
    "print(\n",
    "    df_lucky_numbers.assign(\n",
    "        lucky_number=lambda df_: df_.lucky_number.add(1)\n",
    "    )\n",
    ")"
   ]
  },
  {
   "cell_type": "markdown",
   "metadata": {},
   "source": [
    "## 2. Filter"
   ]
  },
  {
   "cell_type": "code",
   "execution_count": 17,
   "metadata": {},
   "outputs": [
    {
     "name": "stdout",
     "output_type": "stream",
     "text": [
      "   lucky_number\n",
      "1            93\n",
      "3            55\n",
      "4            74\n"
     ]
    }
   ],
   "source": [
    "print(df_lucky_numbers.query(\"lucky_number > 50\"))"
   ]
  },
  {
   "cell_type": "markdown",
   "metadata": {},
   "source": [
    "## 3. Group by"
   ]
  },
  {
   "cell_type": "code",
   "execution_count": 18,
   "metadata": {},
   "outputs": [
    {
     "name": "stdout",
     "output_type": "stream",
     "text": [
      "   len            name\n",
      "0    3           [May]\n",
      "1    4    [Jeff, Jack]\n",
      "2    5  [Cathy, David]\n"
     ]
    }
   ],
   "source": [
    "df_names = pd.DataFrame({\"name\": names})\n",
    "\n",
    "print(\n",
    "    df_names.assign(len=lambda df_: df_.name.str.len())\n",
    "    .groupby(\"len\")\n",
    "    .agg(list)\n",
    "    .reset_index()\n",
    ")"
   ]
  },
  {
   "cell_type": "markdown",
   "metadata": {},
   "source": [
    "## 4. Select"
   ]
  },
  {
   "cell_type": "code",
   "execution_count": 19,
   "metadata": {},
   "outputs": [
    {
     "name": "stdout",
     "output_type": "stream",
     "text": [
      "    name  lucky_number\n",
      "0    May             5\n",
      "1   Jeff            93\n",
      "2  Cathy            42\n",
      "3   Jack            55\n",
      "4  David            74\n"
     ]
    }
   ],
   "source": [
    "import pandas as pd\n",
    "\n",
    "df = pd.DataFrame(data)\n",
    "print(df.loc[:, [\"name\", \"lucky_number\"]])"
   ]
  }
 ],
 "metadata": {
  "kernelspec": {
   "display_name": "venv",
   "language": "python",
   "name": "python3"
  },
  "language_info": {
   "codemirror_mode": {
    "name": "ipython",
    "version": 3
   },
   "file_extension": ".py",
   "mimetype": "text/x-python",
   "name": "python",
   "nbconvert_exporter": "python",
   "pygments_lexer": "ipython3",
   "version": "3.13.7"
  }
 },
 "nbformat": 4,
 "nbformat_minor": 2
}
