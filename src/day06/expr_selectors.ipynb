{
 "cells": [
  {
   "cell_type": "code",
   "execution_count": 1,
   "metadata": {},
   "outputs": [
    {
     "name": "stdout",
     "output_type": "stream",
     "text": [
      "shape: (3, 5)\n",
      "┌──────┬──────┬──────┬────────────┬──────┐\n",
      "│ col1 ┆ col2 ┆ col3 ┆ col4       ┆ col5 │\n",
      "│ ---  ┆ ---  ┆ ---  ┆ ---        ┆ ---  │\n",
      "│ i64  ┆ f64  ┆ str  ┆ date       ┆ bool │\n",
      "╞══════╪══════╪══════╪════════════╪══════╡\n",
      "│ 1    ┆ 4.1  ┆ x    ┆ 2022-01-01 ┆ true │\n",
      "│ 2    ┆ 5.2  ┆ y    ┆ 2022-02-01 ┆ true │\n",
      "│ 3    ┆ 6.3  ┆ z    ┆ 2022-03-01 ┆ true │\n",
      "└──────┴──────┴──────┴────────────┴──────┘\n"
     ]
    }
   ],
   "source": [
    "from datetime import date\n",
    "\n",
    "import pandas as pd\n",
    "import polars as pl\n",
    "import polars.selectors as cs\n",
    "\n",
    "data = {\n",
    "    \"col1\": [1, 2, 3],\n",
    "    \"col2\": [4.1, 5.2, 6.3],\n",
    "    \"col3\": [\"x\", \"y\", \"z\"],\n",
    "    \"col4\": pl.date_range(\n",
    "        date(2022, 1, 1), date(2022, 3, 1), \"1mo\", eager=True\n",
    "    ).alias(\"date\"),\n",
    "    \"col5\": [True, True, True],\n",
    "}\n",
    "df = pl.DataFrame(data)\n",
    "print(df)"
   ]
  },
  {
   "cell_type": "markdown",
   "metadata": {},
   "source": [
    "## Expr"
   ]
  },
  {
   "cell_type": "code",
   "execution_count": 2,
   "metadata": {},
   "outputs": [
    {
     "name": "stdout",
     "output_type": "stream",
     "text": [
      "shape: (3, 1)\n",
      "┌──────┐\n",
      "│ col1 │\n",
      "│ ---  │\n",
      "│ i64  │\n",
      "╞══════╡\n",
      "│ 2    │\n",
      "│ 3    │\n",
      "│ 4    │\n",
      "└──────┘\n"
     ]
    }
   ],
   "source": [
    "print(df.select(pl.col(\"col1\").add(1)))"
   ]
  },
  {
   "cell_type": "code",
   "execution_count": 3,
   "metadata": {},
   "outputs": [
    {
     "name": "stdout",
     "output_type": "stream",
     "text": [
      "shape: (3, 1)\n",
      "┌──────┐\n",
      "│ col1 │\n",
      "│ ---  │\n",
      "│ i64  │\n",
      "╞══════╡\n",
      "│ 2    │\n",
      "│ 3    │\n",
      "│ 4    │\n",
      "└──────┘\n"
     ]
    }
   ],
   "source": [
    "col1_add_one = pl.col(\"col1\").add(1)\n",
    "\n",
    "print(df.select(col1_add_one))"
   ]
  },
  {
   "cell_type": "code",
   "execution_count": 4,
   "metadata": {},
   "outputs": [
    {
     "name": "stdout",
     "output_type": "stream",
     "text": [
      "shape: (3, 1)\n",
      "┌──────┐\n",
      "│ col1 │\n",
      "│ ---  │\n",
      "│ i64  │\n",
      "╞══════╡\n",
      "│ 2    │\n",
      "│ 3    │\n",
      "│ 4    │\n",
      "└──────┘\n"
     ]
    }
   ],
   "source": [
    "def add_one(col: str, alias: str | None = None) -> pl.Expr:\n",
    "    expr = pl.col(col).add(1)\n",
    "    if alias is not None:\n",
    "        expr = expr.alias(alias)\n",
    "    return expr\n",
    "\n",
    "\n",
    "print(df.select(add_one(\"col1\")))"
   ]
  },
  {
   "cell_type": "markdown",
   "metadata": {},
   "source": [
    "### Expr in contexts"
   ]
  },
  {
   "cell_type": "code",
   "execution_count": 5,
   "metadata": {},
   "outputs": [],
   "source": [
    "col3_eq_y = pl.col(\"col3\").eq(\"y\")"
   ]
  },
  {
   "cell_type": "code",
   "execution_count": 6,
   "metadata": {},
   "outputs": [
    {
     "name": "stdout",
     "output_type": "stream",
     "text": [
      "shape: (3, 1)\n",
      "┌───────┐\n",
      "│ col3  │\n",
      "│ ---   │\n",
      "│ bool  │\n",
      "╞═══════╡\n",
      "│ false │\n",
      "│ true  │\n",
      "│ false │\n",
      "└───────┘\n"
     ]
    }
   ],
   "source": [
    "print(df.select(col3_eq_y))"
   ]
  },
  {
   "cell_type": "code",
   "execution_count": 7,
   "metadata": {},
   "outputs": [
    {
     "name": "stdout",
     "output_type": "stream",
     "text": [
      "shape: (1, 5)\n",
      "┌──────┬──────┬──────┬────────────┬──────┐\n",
      "│ col1 ┆ col2 ┆ col3 ┆ col4       ┆ col5 │\n",
      "│ ---  ┆ ---  ┆ ---  ┆ ---        ┆ ---  │\n",
      "│ i64  ┆ f64  ┆ str  ┆ date       ┆ bool │\n",
      "╞══════╪══════╪══════╪════════════╪══════╡\n",
      "│ 2    ┆ 5.2  ┆ y    ┆ 2022-02-01 ┆ true │\n",
      "└──────┴──────┴──────┴────────────┴──────┘\n"
     ]
    }
   ],
   "source": [
    "print(df.filter(col3_eq_y))"
   ]
  },
  {
   "cell_type": "code",
   "execution_count": 8,
   "metadata": {},
   "outputs": [
    {
     "name": "stdout",
     "output_type": "stream",
     "text": [
      "shape: (2, 5)\n",
      "┌───────┬───────────┬────────────┬──────────────────────────┬──────────────┐\n",
      "│ col3  ┆ col1      ┆ col2       ┆ col4                     ┆ col5         │\n",
      "│ ---   ┆ ---       ┆ ---        ┆ ---                      ┆ ---          │\n",
      "│ bool  ┆ list[i64] ┆ list[f64]  ┆ list[date]               ┆ list[bool]   │\n",
      "╞═══════╪═══════════╪════════════╪══════════════════════════╪══════════════╡\n",
      "│ false ┆ [1, 3]    ┆ [4.1, 6.3] ┆ [2022-01-01, 2022-03-01] ┆ [true, true] │\n",
      "│ true  ┆ [2]       ┆ [5.2]      ┆ [2022-02-01]             ┆ [true]       │\n",
      "└───────┴───────────┴────────────┴──────────────────────────┴──────────────┘\n"
     ]
    }
   ],
   "source": [
    "print(df.group_by(col3_eq_y).agg(pl.all()))"
   ]
  },
  {
   "cell_type": "markdown",
   "metadata": {},
   "source": [
    "## Selector"
   ]
  },
  {
   "cell_type": "code",
   "execution_count": 9,
   "metadata": {},
   "outputs": [
    {
     "name": "stdout",
     "output_type": "stream",
     "text": [
      "shape: (3, 1)\n",
      "┌──────┐\n",
      "│ col1 │\n",
      "│ ---  │\n",
      "│ i64  │\n",
      "╞══════╡\n",
      "│ 1    │\n",
      "│ 2    │\n",
      "│ 3    │\n",
      "└──────┘\n"
     ]
    }
   ],
   "source": [
    "print(df.select(cs.integer()))"
   ]
  },
  {
   "cell_type": "code",
   "execution_count": 10,
   "metadata": {},
   "outputs": [
    {
     "name": "stdout",
     "output_type": "stream",
     "text": [
      "shape: (3, 1)\n",
      "┌──────┐\n",
      "│ col1 │\n",
      "│ ---  │\n",
      "│ i64  │\n",
      "╞══════╡\n",
      "│ 1    │\n",
      "│ 2    │\n",
      "│ 3    │\n",
      "└──────┘\n"
     ]
    }
   ],
   "source": [
    "from polars.datatypes.group import INTEGER_DTYPES\n",
    "\n",
    "print(df.select(pl.col(INTEGER_DTYPES)))"
   ]
  },
  {
   "cell_type": "code",
   "execution_count": 11,
   "metadata": {},
   "outputs": [
    {
     "name": "stdout",
     "output_type": "stream",
     "text": [
      "shape: (3, 1)\n",
      "┌────────────┐\n",
      "│ col4       │\n",
      "│ ---        │\n",
      "│ date       │\n",
      "╞════════════╡\n",
      "│ 2022-01-01 │\n",
      "│ 2022-02-01 │\n",
      "│ 2022-03-01 │\n",
      "└────────────┘\n"
     ]
    }
   ],
   "source": [
    "print(df.select(cs.temporal()))"
   ]
  },
  {
   "cell_type": "code",
   "execution_count": 12,
   "metadata": {},
   "outputs": [
    {
     "name": "stdout",
     "output_type": "stream",
     "text": [
      "shape: (3, 2)\n",
      "┌──────┬──────┐\n",
      "│ col1 ┆ col2 │\n",
      "│ ---  ┆ ---  │\n",
      "│ i64  ┆ f64  │\n",
      "╞══════╪══════╡\n",
      "│ 1    ┆ 4.1  │\n",
      "│ 2    ┆ 5.2  │\n",
      "│ 3    ┆ 6.3  │\n",
      "└──────┴──────┘\n"
     ]
    }
   ],
   "source": [
    "print(df.select(cs.numeric()))"
   ]
  },
  {
   "cell_type": "markdown",
   "metadata": {},
   "source": [
    "## Union"
   ]
  },
  {
   "cell_type": "code",
   "execution_count": 13,
   "metadata": {},
   "outputs": [
    {
     "name": "stdout",
     "output_type": "stream",
     "text": [
      "shape: (3, 3)\n",
      "┌──────┬──────┬──────┐\n",
      "│ col1 ┆ col2 ┆ col3 │\n",
      "│ ---  ┆ ---  ┆ ---  │\n",
      "│ i64  ┆ f64  ┆ str  │\n",
      "╞══════╪══════╪══════╡\n",
      "│ 1    ┆ 4.1  ┆ x    │\n",
      "│ 2    ┆ 5.2  ┆ y    │\n",
      "│ 3    ┆ 6.3  ┆ z    │\n",
      "└──────┴──────┴──────┘\n"
     ]
    }
   ],
   "source": [
    "print(df.select(cs.numeric() | cs.string()))"
   ]
  },
  {
   "cell_type": "markdown",
   "metadata": {},
   "source": [
    "## Intersection"
   ]
  },
  {
   "cell_type": "code",
   "execution_count": 14,
   "metadata": {},
   "outputs": [
    {
     "name": "stdout",
     "output_type": "stream",
     "text": [
      "shape: (3, 1)\n",
      "┌──────┐\n",
      "│ col2 │\n",
      "│ ---  │\n",
      "│ f64  │\n",
      "╞══════╡\n",
      "│ 4.1  │\n",
      "│ 5.2  │\n",
      "│ 6.3  │\n",
      "└──────┘\n"
     ]
    }
   ],
   "source": [
    "print(df.select(cs.numeric() & cs.by_name(\"col2\", \"col5\")))"
   ]
  },
  {
   "cell_type": "markdown",
   "metadata": {},
   "source": [
    "## Difference"
   ]
  },
  {
   "cell_type": "code",
   "execution_count": 15,
   "metadata": {},
   "outputs": [
    {
     "name": "stdout",
     "output_type": "stream",
     "text": [
      "shape: (3, 1)\n",
      "┌──────┐\n",
      "│ col2 │\n",
      "│ ---  │\n",
      "│ f64  │\n",
      "╞══════╡\n",
      "│ 4.1  │\n",
      "│ 5.2  │\n",
      "│ 6.3  │\n",
      "└──────┘\n"
     ]
    }
   ],
   "source": [
    "print(df.select(cs.numeric() - cs.integer()))"
   ]
  },
  {
   "cell_type": "markdown",
   "metadata": {},
   "source": [
    "## Symmetric difference"
   ]
  },
  {
   "cell_type": "code",
   "execution_count": 16,
   "metadata": {},
   "outputs": [
    {
     "name": "stdout",
     "output_type": "stream",
     "text": [
      "shape: (3, 2)\n",
      "┌──────┬──────┐\n",
      "│ col1 ┆ col5 │\n",
      "│ ---  ┆ ---  │\n",
      "│ i64  ┆ bool │\n",
      "╞══════╪══════╡\n",
      "│ 1    ┆ true │\n",
      "│ 2    ┆ true │\n",
      "│ 3    ┆ true │\n",
      "└──────┴──────┘\n"
     ]
    }
   ],
   "source": [
    "print(df.select(cs.numeric() ^ (cs.by_name(\"col2\", \"col5\"))))"
   ]
  },
  {
   "cell_type": "markdown",
   "metadata": {},
   "source": [
    "## Complement"
   ]
  },
  {
   "cell_type": "code",
   "execution_count": 17,
   "metadata": {},
   "outputs": [
    {
     "name": "stdout",
     "output_type": "stream",
     "text": [
      "shape: (3, 4)\n",
      "┌──────┬──────┬──────┬──────┐\n",
      "│ col1 ┆ col2 ┆ col3 ┆ col5 │\n",
      "│ ---  ┆ ---  ┆ ---  ┆ ---  │\n",
      "│ i64  ┆ f64  ┆ str  ┆ bool │\n",
      "╞══════╪══════╪══════╪══════╡\n",
      "│ 1    ┆ 4.1  ┆ x    ┆ true │\n",
      "│ 2    ┆ 5.2  ┆ y    ┆ true │\n",
      "│ 3    ┆ 6.3  ┆ z    ┆ true │\n",
      "└──────┴──────┴──────┴──────┘\n"
     ]
    }
   ],
   "source": [
    "print(df.select(~cs.temporal()))"
   ]
  },
  {
   "cell_type": "markdown",
   "metadata": {},
   "source": [
    "## `+` is not working"
   ]
  },
  {
   "cell_type": "code",
   "execution_count": 18,
   "metadata": {},
   "outputs": [],
   "source": [
    "# df.select(cs.numeric() + cs.string())"
   ]
  },
  {
   "cell_type": "markdown",
   "metadata": {},
   "source": [
    "## as_expr()"
   ]
  },
  {
   "cell_type": "code",
   "execution_count": 19,
   "metadata": {},
   "outputs": [
    {
     "name": "stdout",
     "output_type": "stream",
     "text": [
      "shape: (3, 4)\n",
      "┌──────┬──────┬──────┬────────────┐\n",
      "│ col1 ┆ col2 ┆ col3 ┆ col4       │\n",
      "│ ---  ┆ ---  ┆ ---  ┆ ---        │\n",
      "│ i64  ┆ f64  ┆ str  ┆ date       │\n",
      "╞══════╪══════╪══════╪════════════╡\n",
      "│ 1    ┆ 4.1  ┆ x    ┆ 2022-01-01 │\n",
      "│ 2    ┆ 5.2  ┆ y    ┆ 2022-02-01 │\n",
      "│ 3    ┆ 6.3  ┆ z    ┆ 2022-03-01 │\n",
      "└──────┴──────┴──────┴────────────┘\n"
     ]
    }
   ],
   "source": [
    "# Wrong\n",
    "print(df.select(~cs.boolean()))"
   ]
  },
  {
   "cell_type": "code",
   "execution_count": 20,
   "metadata": {},
   "outputs": [
    {
     "name": "stdout",
     "output_type": "stream",
     "text": [
      "shape: (3, 1)\n",
      "┌───────┐\n",
      "│ col5  │\n",
      "│ ---   │\n",
      "│ bool  │\n",
      "╞═══════╡\n",
      "│ false │\n",
      "│ false │\n",
      "│ false │\n",
      "└───────┘\n"
     ]
    }
   ],
   "source": [
    "print(df.select(~(cs.boolean().as_expr())))"
   ]
  },
  {
   "cell_type": "markdown",
   "metadata": {},
   "source": [
    "## Ref"
   ]
  },
  {
   "cell_type": "code",
   "execution_count": 21,
   "metadata": {},
   "outputs": [
    {
     "name": "stdout",
     "output_type": "stream",
     "text": [
      "shape: (5, 2)\n",
      "┌──────────┬──────────────────────┐\n",
      "│ Operator ┆ Operation            │\n",
      "│ ---      ┆ ---                  │\n",
      "│ str      ┆ str                  │\n",
      "╞══════════╪══════════════════════╡\n",
      "│ A | B    ┆ Union                │\n",
      "│ A & B    ┆ Intersection         │\n",
      "│ A - B    ┆ Difference           │\n",
      "│ A ^ B    ┆ Symmetric difference │\n",
      "│ ~A       ┆ Complement           │\n",
      "└──────────┴──────────────────────┘\n"
     ]
    }
   ],
   "source": [
    "print(\n",
    "    pl.DataFrame(\n",
    "        {\n",
    "            \"Operator\": [\"A | B\", \"A & B\", \"A - B\", \"A ^ B\", \"~A\"],\n",
    "            \"Operation\": [\n",
    "                \"Union\",\n",
    "                \"Intersection\",\n",
    "                \"Difference\",\n",
    "                \"Symmetric difference\",\n",
    "                \"Complement\",\n",
    "            ],\n",
    "        }\n",
    "    )\n",
    ")"
   ]
  },
  {
   "cell_type": "markdown",
   "metadata": {},
   "source": [
    "## codepanda"
   ]
  },
  {
   "cell_type": "code",
   "execution_count": 22,
   "metadata": {},
   "outputs": [
    {
     "name": "stdout",
     "output_type": "stream",
     "text": [
      "   col1  col2\n",
      "0     1   4.1\n",
      "1     2   5.2\n",
      "2     3   6.3\n"
     ]
    }
   ],
   "source": [
    "df_pd = pd.DataFrame(data)\n",
    "\n",
    "print(df_pd.select_dtypes(\"number\"))"
   ]
  },
  {
   "cell_type": "code",
   "execution_count": 23,
   "metadata": {},
   "outputs": [
    {
     "name": "stdout",
     "output_type": "stream",
     "text": [
      "   col1  col2 col3\n",
      "0     1   4.1    x\n",
      "1     2   5.2    y\n",
      "2     3   6.3    z\n"
     ]
    }
   ],
   "source": [
    "print(df_pd.filter(regex=\"^col(?!4$|5$)\", axis=1))"
   ]
  }
 ],
 "metadata": {
  "kernelspec": {
   "display_name": "venv",
   "language": "python",
   "name": "python3"
  },
  "language_info": {
   "codemirror_mode": {
    "name": "ipython",
    "version": 3
   },
   "file_extension": ".py",
   "mimetype": "text/x-python",
   "name": "python",
   "nbconvert_exporter": "python",
   "pygments_lexer": "ipython3",
   "version": "3.13.7"
  }
 },
 "nbformat": 4,
 "nbformat_minor": 2
}
