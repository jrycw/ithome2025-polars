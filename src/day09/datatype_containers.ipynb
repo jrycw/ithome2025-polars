{
 "cells": [
  {
   "cell_type": "code",
   "execution_count": 1,
   "metadata": {},
   "outputs": [],
   "source": [
    "import polars as pl"
   ]
  },
  {
   "cell_type": "markdown",
   "metadata": {},
   "source": [
    "## pl.Array"
   ]
  },
  {
   "cell_type": "code",
   "execution_count": 2,
   "metadata": {},
   "outputs": [
    {
     "name": "stdout",
     "output_type": "stream",
     "text": [
      "shape: (3, 2)\n",
      "┌─────┬───────────────┐\n",
      "│ id  ┆ numbers       │\n",
      "│ --- ┆ ---           │\n",
      "│ u64 ┆ array[u64, 3] │\n",
      "╞═════╪═══════════════╡\n",
      "│ 1   ┆ [5, 15, 3]    │\n",
      "│ 2   ┆ [11, 14, 6]   │\n",
      "│ 3   ┆ [13, 18, 12]  │\n",
      "└─────┴───────────────┘\n"
     ]
    }
   ],
   "source": [
    "df1 = pl.DataFrame(\n",
    "    {\n",
    "        \"id\": [1, 2, 3],\n",
    "        \"numbers\": [[5, 15, 3], [11, 14, 6], [13, 18, 12]],\n",
    "    },\n",
    "    schema_overrides={\"id\": pl.UInt64, \"numbers\": pl.Array(pl.UInt64, 3)},\n",
    ")\n",
    "print(df1)"
   ]
  },
  {
   "cell_type": "code",
   "execution_count": 3,
   "metadata": {},
   "outputs": [
    {
     "name": "stdout",
     "output_type": "stream",
     "text": [
      "shape: (3, 5)\n",
      "┌─────┬───────────────┬───────┬──────┬───────┐\n",
      "│ id  ┆ numbers       ┆ first ┆ last ┆ get_1 │\n",
      "│ --- ┆ ---           ┆ ---   ┆ ---  ┆ ---   │\n",
      "│ u64 ┆ array[u64, 3] ┆ u64   ┆ u64  ┆ u64   │\n",
      "╞═════╪═══════════════╪═══════╪══════╪═══════╡\n",
      "│ 1   ┆ [5, 15, 3]    ┆ 5     ┆ 3    ┆ 15    │\n",
      "│ 2   ┆ [11, 14, 6]   ┆ 11    ┆ 6    ┆ 14    │\n",
      "│ 3   ┆ [13, 18, 12]  ┆ 13    ┆ 12   ┆ 18    │\n",
      "└─────┴───────────────┴───────┴──────┴───────┘\n"
     ]
    }
   ],
   "source": [
    "print(\n",
    "    df1.with_columns(\n",
    "        pl.col(\"numbers\").arr.first().alias(\"first\"),\n",
    "        pl.col(\"numbers\").arr.last().alias(\"last\"),\n",
    "        pl.col(\"numbers\").arr.get(1).alias(\"get_1\"),\n",
    "    )\n",
    ")"
   ]
  },
  {
   "cell_type": "markdown",
   "metadata": {},
   "source": [
    "## pl.List"
   ]
  },
  {
   "cell_type": "code",
   "execution_count": 4,
   "metadata": {},
   "outputs": [
    {
     "name": "stdout",
     "output_type": "stream",
     "text": [
      "shape: (3, 2)\n",
      "┌─────┬───────────┐\n",
      "│ id  ┆ numbers   │\n",
      "│ --- ┆ ---       │\n",
      "│ u64 ┆ str       │\n",
      "╞═════╪═══════════╡\n",
      "│ 1   ┆ 5 15 1    │\n",
      "│ 2   ┆ None 14 6 │\n",
      "│ 3   ┆ 13 18 19  │\n",
      "└─────┴───────────┘\n"
     ]
    }
   ],
   "source": [
    "df2 = pl.DataFrame(\n",
    "    {\n",
    "        \"id\": [1, 2, 3],\n",
    "        \"numbers\": [\n",
    "            \"5 15 1\",\n",
    "            \"None 14 6\",\n",
    "            \"13 18 19\",\n",
    "        ],\n",
    "    },\n",
    "    schema_overrides={\"id\": pl.UInt64},\n",
    ")\n",
    "print(df2)"
   ]
  },
  {
   "cell_type": "code",
   "execution_count": 5,
   "metadata": {},
   "outputs": [
    {
     "name": "stdout",
     "output_type": "stream",
     "text": [
      "shape: (3, 3)\n",
      "┌─────┬───────────┬───────────────┐\n",
      "│ id  ┆ numbers   ┆ list          │\n",
      "│ --- ┆ ---       ┆ ---           │\n",
      "│ u64 ┆ str       ┆ list[u64]     │\n",
      "╞═════╪═══════════╪═══════════════╡\n",
      "│ 1   ┆ 5 15 1    ┆ [5, 15, 1]    │\n",
      "│ 2   ┆ None 14 6 ┆ [null, 14, 6] │\n",
      "│ 3   ┆ 13 18 19  ┆ [13, 18, 19]  │\n",
      "└─────┴───────────┴───────────────┘\n"
     ]
    }
   ],
   "source": [
    "print(\n",
    "    df2.with_columns(\n",
    "        pl.col(\"numbers\")\n",
    "        .str.split(\" \")\n",
    "        .list.eval(pl.element().cast(pl.UInt64, strict=False))\n",
    "        .alias(\"list\")\n",
    "    )\n",
    ")"
   ]
  },
  {
   "cell_type": "code",
   "execution_count": 6,
   "metadata": {},
   "outputs": [
    {
     "name": "stdout",
     "output_type": "stream",
     "text": [
      "shape: (3, 4)\n",
      "┌─────┬───────────┬───────────────┬─────────────────┐\n",
      "│ id  ┆ numbers   ┆ list          ┆ outlier_indexes │\n",
      "│ --- ┆ ---       ┆ ---           ┆ ---             │\n",
      "│ u64 ┆ str       ┆ list[u64]     ┆ list[u32]       │\n",
      "╞═════╪═══════════╪═══════════════╪═════════════════╡\n",
      "│ 1   ┆ 5 15 1    ┆ [5, 15, 1]    ┆ [2]             │\n",
      "│ 2   ┆ None 14 6 ┆ [null, 14, 6] ┆ [0]             │\n",
      "│ 3   ┆ 13 18 19  ┆ [13, 18, 19]  ┆ [2]             │\n",
      "└─────┴───────────┴───────────────┴─────────────────┘\n"
     ]
    }
   ],
   "source": [
    "print(\n",
    "    df2.with_columns(\n",
    "        pl.col(\"numbers\")\n",
    "        .str.split(\" \")\n",
    "        .list.eval(pl.element().cast(pl.UInt64, strict=False))\n",
    "        .alias(\"list\")\n",
    "    ).with_columns(\n",
    "        pl.col(\"list\")\n",
    "        .list.eval(\n",
    "            pl.element()\n",
    "            .gt(18)\n",
    "            .or_(pl.element().lt(3))\n",
    "            .or_(pl.element().is_null())\n",
    "        )\n",
    "        .list.eval(pl.element().arg_true())\n",
    "        .alias(\"outlier_indexes\")\n",
    "    )\n",
    ")"
   ]
  },
  {
   "cell_type": "code",
   "execution_count": 7,
   "metadata": {},
   "outputs": [
    {
     "name": "stdout",
     "output_type": "stream",
     "text": [
      "shape: (3, 5)\n",
      "┌─────┬───────────┬───────────────┬─────────────────┬───────────┐\n",
      "│ id  ┆ numbers   ┆ list          ┆ outlier_indexes ┆ outliers  │\n",
      "│ --- ┆ ---       ┆ ---           ┆ ---             ┆ ---       │\n",
      "│ u64 ┆ str       ┆ list[u64]     ┆ list[u32]       ┆ list[u64] │\n",
      "╞═════╪═══════════╪═══════════════╪═════════════════╪═══════════╡\n",
      "│ 1   ┆ 5 15 1    ┆ [5, 15, 1]    ┆ [2]             ┆ [1]       │\n",
      "│ 2   ┆ None 14 6 ┆ [null, 14, 6] ┆ [0]             ┆ [null]    │\n",
      "│ 3   ┆ 13 18 19  ┆ [13, 18, 19]  ┆ [2]             ┆ [19]      │\n",
      "└─────┴───────────┴───────────────┴─────────────────┴───────────┘\n"
     ]
    }
   ],
   "source": [
    "print(\n",
    "    df2.with_columns(\n",
    "        pl.col(\"numbers\")\n",
    "        .str.split(\" \")\n",
    "        .list.eval(pl.element().cast(pl.UInt64, strict=False))\n",
    "        .alias(\"list\")\n",
    "    )\n",
    "    .with_columns(\n",
    "        pl.col(\"list\")\n",
    "        .list.eval(\n",
    "            pl.element()\n",
    "            .gt(18)\n",
    "            .or_(pl.element().lt(3))\n",
    "            .or_(pl.element().is_null())\n",
    "        )\n",
    "        .list.eval(pl.element().arg_true())\n",
    "        .alias(\"outlier_indexes\")\n",
    "    )\n",
    "    .with_columns(\n",
    "        pl.col(\"list\")\n",
    "        .list.gather(pl.col(\"outlier_indexes\"))\n",
    "        .alias(\"outliers\")\n",
    "    )\n",
    ")"
   ]
  },
  {
   "cell_type": "markdown",
   "metadata": {},
   "source": [
    "## pl.Struct"
   ]
  },
  {
   "cell_type": "code",
   "execution_count": 8,
   "metadata": {},
   "outputs": [
    {
     "name": "stdout",
     "output_type": "stream",
     "text": [
      "shape: (3, 1)\n",
      "┌───────────┐\n",
      "│ numbers   │\n",
      "│ ---       │\n",
      "│ struct[3] │\n",
      "╞═══════════╡\n",
      "│ {5,15,15} │\n",
      "│ {5,14,6}  │\n",
      "│ {13,18,5} │\n",
      "└───────────┘\n"
     ]
    }
   ],
   "source": [
    "df3 = pl.DataFrame(\n",
    "    {\n",
    "        \"numbers\": [\n",
    "            {\"first\": 5, \"second\": 15, \"third\": 15},\n",
    "            {\"first\": 5, \"second\": 14, \"third\": 6},\n",
    "            {\"first\": 13, \"second\": 18, \"third\": 5},\n",
    "        ]\n",
    "    },\n",
    "    schema={\n",
    "        \"numbers\": pl.Struct(\n",
    "            {\"first\": pl.UInt64, \"second\": pl.UInt64, \"third\": pl.UInt64}\n",
    "        )\n",
    "    },\n",
    ")\n",
    "print(df3)"
   ]
  },
  {
   "cell_type": "code",
   "execution_count": 9,
   "metadata": {},
   "outputs": [
    {
     "name": "stdout",
     "output_type": "stream",
     "text": [
      "shape: (3, 3)\n",
      "┌───────┬────────┬───────┐\n",
      "│ first ┆ second ┆ third │\n",
      "│ ---   ┆ ---    ┆ ---   │\n",
      "│ u64   ┆ u64    ┆ u64   │\n",
      "╞═══════╪════════╪═══════╡\n",
      "│ 5     ┆ 15     ┆ 15    │\n",
      "│ 5     ┆ 14     ┆ 6     │\n",
      "│ 13    ┆ 18     ┆ 5     │\n",
      "└───────┴────────┴───────┘\n"
     ]
    }
   ],
   "source": [
    "print(df3.select(pl.col(\"numbers\").struct.unnest()))"
   ]
  },
  {
   "cell_type": "code",
   "execution_count": 10,
   "metadata": {},
   "outputs": [
    {
     "name": "stdout",
     "output_type": "stream",
     "text": [
      "shape: (3, 1)\n",
      "┌───────┐\n",
      "│ first │\n",
      "│ ---   │\n",
      "│ u64   │\n",
      "╞═══════╡\n",
      "│ 5     │\n",
      "│ 5     │\n",
      "│ 13    │\n",
      "└───────┘\n"
     ]
    }
   ],
   "source": [
    "print(df3.select(pl.col(\"numbers\").struct.field(\"first\")))"
   ]
  },
  {
   "cell_type": "code",
   "execution_count": 11,
   "metadata": {},
   "outputs": [
    {
     "name": "stdout",
     "output_type": "stream",
     "text": [
      "shape: (3, 3)\n",
      "┌───────┬────────┬───────┐\n",
      "│ first ┆ second ┆ third │\n",
      "│ ---   ┆ ---    ┆ ---   │\n",
      "│ u64   ┆ u64    ┆ u64   │\n",
      "╞═══════╪════════╪═══════╡\n",
      "│ 5     ┆ 15     ┆ 15    │\n",
      "│ 5     ┆ 14     ┆ 6     │\n",
      "│ 13    ┆ 18     ┆ 5     │\n",
      "└───────┴────────┴───────┘\n"
     ]
    }
   ],
   "source": [
    "print(df3.select(pl.col(\"numbers\").struct.field(\"*\")))"
   ]
  },
  {
   "cell_type": "code",
   "execution_count": 12,
   "metadata": {},
   "outputs": [
    {
     "name": "stdout",
     "output_type": "stream",
     "text": [
      "shape: (6, 1)\n",
      "┌───────────┐\n",
      "│ counts    │\n",
      "│ ---       │\n",
      "│ struct[2] │\n",
      "╞═══════════╡\n",
      "│ {5,3}     │\n",
      "│ {15,2}    │\n",
      "│ {13,1}    │\n",
      "│ {14,1}    │\n",
      "│ {18,1}    │\n",
      "│ {6,1}     │\n",
      "└───────────┘\n"
     ]
    }
   ],
   "source": [
    "print(\n",
    "    df3.select(\n",
    "        pl.col(\"numbers\")\n",
    "        .struct.field(\"first\")\n",
    "        .append(pl.col(\"numbers\").struct.field(\"second\"))\n",
    "        .append(pl.col(\"numbers\").struct.field(\"third\"))\n",
    "        .value_counts(sort=True)\n",
    "        .alias(\"counts\")\n",
    "    )\n",
    ")"
   ]
  },
  {
   "cell_type": "code",
   "execution_count": 13,
   "metadata": {},
   "outputs": [
    {
     "name": "stdout",
     "output_type": "stream",
     "text": [
      "shape: (3, 3)\n",
      "┌───────┬────────┬───────┐\n",
      "│ first ┆ second ┆ third │\n",
      "│ ---   ┆ ---    ┆ ---   │\n",
      "│ u64   ┆ u64    ┆ u64   │\n",
      "╞═══════╪════════╪═══════╡\n",
      "│ 5     ┆ 15     ┆ 15    │\n",
      "│ 5     ┆ 14     ┆ 6     │\n",
      "│ 13    ┆ 18     ┆ 5     │\n",
      "└───────┴────────┴───────┘\n"
     ]
    }
   ],
   "source": [
    "df4 = pl.DataFrame(\n",
    "    {\"first\": [5, 5, 13], \"second\": [15, 14, 18], \"third\": [15, 6, 5]},\n",
    "    schema={\"first\": pl.UInt64, \"second\": pl.UInt64, \"third\": pl.UInt64},\n",
    ")\n",
    "print(df4)"
   ]
  },
  {
   "cell_type": "code",
   "execution_count": 14,
   "metadata": {},
   "outputs": [
    {
     "name": "stdout",
     "output_type": "stream",
     "text": [
      "shape: (3, 4)\n",
      "┌───────┬────────┬───────┬───────────┐\n",
      "│ first ┆ second ┆ third ┆ combined  │\n",
      "│ ---   ┆ ---    ┆ ---   ┆ ---       │\n",
      "│ u64   ┆ u64    ┆ u64   ┆ struct[3] │\n",
      "╞═══════╪════════╪═══════╪═══════════╡\n",
      "│ 5     ┆ 15     ┆ 15    ┆ {5,15,15} │\n",
      "│ 5     ┆ 14     ┆ 6     ┆ {5,14,6}  │\n",
      "│ 13    ┆ 18     ┆ 5     ┆ {13,18,5} │\n",
      "└───────┴────────┴───────┴───────────┘\n"
     ]
    }
   ],
   "source": [
    "print(\n",
    "    df4.with_columns(\n",
    "        pl.struct(\"first\", \"second\", \"third\").alias(\"combined\")\n",
    "    )\n",
    ")"
   ]
  },
  {
   "cell_type": "code",
   "execution_count": 15,
   "metadata": {},
   "outputs": [
    {
     "name": "stdout",
     "output_type": "stream",
     "text": [
      "shape: (3, 4)\n",
      "┌───────┬────────┬───────┬─────┐\n",
      "│ first ┆ second ┆ third ┆ sum │\n",
      "│ ---   ┆ ---    ┆ ---   ┆ --- │\n",
      "│ u64   ┆ u64    ┆ u64   ┆ u64 │\n",
      "╞═══════╪════════╪═══════╪═════╡\n",
      "│ 5     ┆ 15     ┆ 15    ┆ 35  │\n",
      "│ 5     ┆ 14     ┆ 6     ┆ 25  │\n",
      "│ 13    ┆ 18     ┆ 5     ┆ 36  │\n",
      "└───────┴────────┴───────┴─────┘\n"
     ]
    }
   ],
   "source": [
    "print(\n",
    "    df4.with_columns(\n",
    "        pl.struct(\"first\", \"second\", \"third\")\n",
    "        .alias(\"combined\")\n",
    "        .map_batches(\n",
    "            lambda x: x.struct.field(\"first\")\n",
    "            + x.struct.field(\"second\")\n",
    "            + x.struct.field(\"third\"),\n",
    "            return_dtype=pl.UInt64,\n",
    "        )\n",
    "        .alias(\"sum\")\n",
    "    )\n",
    ")"
   ]
  },
  {
   "cell_type": "code",
   "execution_count": 16,
   "metadata": {},
   "outputs": [
    {
     "name": "stdout",
     "output_type": "stream",
     "text": [
      "shape: (3, 4)\n",
      "┌───────┬────────┬───────┬─────┐\n",
      "│ first ┆ second ┆ third ┆ sum │\n",
      "│ ---   ┆ ---    ┆ ---   ┆ --- │\n",
      "│ u64   ┆ u64    ┆ u64   ┆ u64 │\n",
      "╞═══════╪════════╪═══════╪═════╡\n",
      "│ 5     ┆ 15     ┆ 15    ┆ 35  │\n",
      "│ 5     ┆ 14     ┆ 6     ┆ 25  │\n",
      "│ 13    ┆ 18     ┆ 5     ┆ 36  │\n",
      "└───────┴────────┴───────┴─────┘\n"
     ]
    }
   ],
   "source": [
    "print(\n",
    "    df4.with_columns(\n",
    "        pl.sum_horizontal(\"first\", \"second\", \"third\").alias(\"sum\")\n",
    "    )\n",
    ")"
   ]
  }
 ],
 "metadata": {
  "kernelspec": {
   "display_name": "venv",
   "language": "python",
   "name": "python3"
  },
  "language_info": {
   "codemirror_mode": {
    "name": "ipython",
    "version": 3
   },
   "file_extension": ".py",
   "mimetype": "text/x-python",
   "name": "python",
   "nbconvert_exporter": "python",
   "pygments_lexer": "ipython3",
   "version": "3.13.7"
  }
 },
 "nbformat": 4,
 "nbformat_minor": 2
}
