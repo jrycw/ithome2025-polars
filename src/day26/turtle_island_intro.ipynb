{
 "cells": [
  {
   "cell_type": "code",
   "execution_count": 1,
   "id": "48cbe840",
   "metadata": {},
   "outputs": [
    {
     "name": "stdout",
     "output_type": "stream",
     "text": [
      "shape: (5, 3)\n",
      "┌──────┬──────┬──────┐\n",
      "│ col1 ┆ col2 ┆ col3 │\n",
      "│ ---  ┆ ---  ┆ ---  │\n",
      "│ i64  ┆ i64  ┆ i64  │\n",
      "╞══════╪══════╪══════╡\n",
      "│ 1    ┆ 6    ┆ 11   │\n",
      "│ 2    ┆ 7    ┆ 12   │\n",
      "│ 3    ┆ 8    ┆ 13   │\n",
      "│ 4    ┆ 9    ┆ 14   │\n",
      "│ 5    ┆ 10   ┆ 15   │\n",
      "└──────┴──────┴──────┘\n"
     ]
    }
   ],
   "source": [
    "import polars as pl\n",
    "import turtle_island as ti\n",
    "\n",
    "\n",
    "df = pl.DataFrame(\n",
    "    {\n",
    "        \"col1\": [1, 2, 3, 4, 5],\n",
    "        \"col2\": [6, 7, 8, 9, 10],\n",
    "        \"col3\": [11, 12, 13, 14, 15],\n",
    "    }\n",
    ")\n",
    "print(df)"
   ]
  },
  {
   "cell_type": "code",
   "execution_count": 2,
   "id": "6499e5fe",
   "metadata": {},
   "outputs": [
    {
     "name": "stdout",
     "output_type": "stream",
     "text": [
      "shape: (2, 2)\n",
      "┌───────────┬──────────────┐\n",
      "│ x         ┆ y            │\n",
      "│ ---       ┆ ---          │\n",
      "│ list[i64] ┆ list[i64]    │\n",
      "╞═══════════╪══════════════╡\n",
      "│ [1, 2, 3] ┆ [7, 8, 9]    │\n",
      "│ [4, 5, 6] ┆ [10, 11, 12] │\n",
      "└───────────┴──────────────┘\n"
     ]
    }
   ],
   "source": [
    "df2 = pl.DataFrame(\n",
    "    {\n",
    "        \"x\": [[1, 2, 3], [4, 5, 6]],\n",
    "        \"y\": [[7, 8, 9], [10, 11, 12]],\n",
    "    }\n",
    ")\n",
    "print(df2)"
   ]
  },
  {
   "cell_type": "markdown",
   "id": "60637426",
   "metadata": {},
   "source": [
    "## pl.DataFrame"
   ]
  },
  {
   "cell_type": "code",
   "execution_count": 3,
   "id": "c7b14a46",
   "metadata": {},
   "outputs": [
    {
     "name": "stdout",
     "output_type": "stream",
     "text": [
      "shape: (5, 4)\n",
      "┌───────┬──────┬──────┬──────┐\n",
      "│ index ┆ col1 ┆ col2 ┆ col3 │\n",
      "│ ---   ┆ ---  ┆ ---  ┆ ---  │\n",
      "│ u64   ┆ i64  ┆ i64  ┆ i64  │\n",
      "╞═══════╪══════╪══════╪══════╡\n",
      "│ 0     ┆ 1    ┆ 6    ┆ 11   │\n",
      "│ 1     ┆ 12   ┆ 12   ┆ 12   │\n",
      "│ 2     ┆ 3    ┆ 8    ┆ 13   │\n",
      "│ 3     ┆ 14   ┆ 14   ┆ 14   │\n",
      "│ 4     ┆ 5    ┆ 10   ┆ 15   │\n",
      "└───────┴──────┴──────┴──────┘\n"
     ]
    }
   ],
   "source": [
    "print(\n",
    "    (\n",
    "        df.with_row_index().with_columns(\n",
    "            pl.when(pl.col(\"index\").mod(2).eq(0))\n",
    "            .then(pl.col(\"col1\", \"col2\"))\n",
    "            .otherwise(\"col3\"),\n",
    "        )\n",
    "    )\n",
    ")"
   ]
  },
  {
   "cell_type": "markdown",
   "id": "845bee50",
   "metadata": {},
   "source": [
    "## pl.Expr"
   ]
  },
  {
   "cell_type": "code",
   "execution_count": 4,
   "id": "0c53212a",
   "metadata": {},
   "outputs": [
    {
     "name": "stdout",
     "output_type": "stream",
     "text": [
      "shape: (5, 3)\n",
      "┌──────┬──────┬──────┐\n",
      "│ col1 ┆ col2 ┆ col3 │\n",
      "│ ---  ┆ ---  ┆ ---  │\n",
      "│ i64  ┆ i64  ┆ i64  │\n",
      "╞══════╪══════╪══════╡\n",
      "│ 1    ┆ 6    ┆ 11   │\n",
      "│ 12   ┆ 12   ┆ 12   │\n",
      "│ 3    ┆ 8    ┆ 13   │\n",
      "│ 14   ┆ 14   ┆ 14   │\n",
      "│ 5    ┆ 10   ┆ 15   │\n",
      "└──────┴──────┴──────┘\n"
     ]
    }
   ],
   "source": [
    "print(\n",
    "    df.with_columns(\n",
    "        ti.case_when(\n",
    "            case_list=[(ti.is_every_nth_row(2), pl.col(\"col1\", \"col2\"))],\n",
    "            otherwise=\"col3\",\n",
    "        )\n",
    "    )\n",
    ")"
   ]
  },
  {
   "cell_type": "markdown",
   "id": "2071ee51",
   "metadata": {},
   "source": [
    "## Bonus"
   ]
  },
  {
   "cell_type": "code",
   "execution_count": 5,
   "id": "b18f4114",
   "metadata": {},
   "outputs": [
    {
     "name": "stdout",
     "output_type": "stream",
     "text": [
      "shape: (5, 3)\n",
      "┌──────┬──────┬──────┐\n",
      "│ col1 ┆ col2 ┆ col3 │\n",
      "│ ---  ┆ ---  ┆ ---  │\n",
      "│ i64  ┆ i64  ┆ i64  │\n",
      "╞══════╪══════╪══════╡\n",
      "│ 5    ┆ 10   ┆ 15   │\n",
      "│ 1    ┆ 6    ┆ 11   │\n",
      "│ 2    ┆ 7    ┆ 12   │\n",
      "│ 3    ┆ 8    ┆ 13   │\n",
      "│ 4    ┆ 9    ┆ 14   │\n",
      "└──────┴──────┴──────┘\n"
     ]
    }
   ],
   "source": [
    "print(df.select(df.select(ti.cycle(pl.all()))))"
   ]
  },
  {
   "cell_type": "code",
   "execution_count": 6,
   "id": "b3a12ee6",
   "metadata": {},
   "outputs": [
    {
     "name": "stdout",
     "output_type": "stream",
     "text": [
      "shape: (2, 2)\n",
      "┌───────────┬──────────────┐\n",
      "│ x         ┆ y            │\n",
      "│ ---       ┆ ---          │\n",
      "│ list[i64] ┆ list[i64]    │\n",
      "╞═══════════╪══════════════╡\n",
      "│ [3, 1, 2] ┆ [9, 7, 8]    │\n",
      "│ [6, 4, 5] ┆ [12, 10, 11] │\n",
      "└───────────┴──────────────┘\n"
     ]
    }
   ],
   "source": [
    "print(df2.select(pl.all().list.eval(ti.cycle(pl.element(), 1))))"
   ]
  }
 ],
 "metadata": {
  "kernelspec": {
   "display_name": "venv",
   "language": "python",
   "name": "python3"
  },
  "language_info": {
   "codemirror_mode": {
    "name": "ipython",
    "version": 3
   },
   "file_extension": ".py",
   "mimetype": "text/x-python",
   "name": "python",
   "nbconvert_exporter": "python",
   "pygments_lexer": "ipython3",
   "version": "3.13.7"
  }
 },
 "nbformat": 4,
 "nbformat_minor": 5
}
