{
 "cells": [
  {
   "cell_type": "code",
   "execution_count": 1,
   "metadata": {},
   "outputs": [
    {
     "name": "stdout",
     "output_type": "stream",
     "text": [
      "shape: (3, 2)\n",
      "┌──────┬──────┐\n",
      "│ col1 ┆ col2 │\n",
      "│ ---  ┆ ---  │\n",
      "│ i64  ┆ str  │\n",
      "╞══════╪══════╡\n",
      "│ 1    ┆ x    │\n",
      "│ 2    ┆ y    │\n",
      "│ 3    ┆ z    │\n",
      "└──────┴──────┘\n"
     ]
    }
   ],
   "source": [
    "import pandas as pd\n",
    "import polars as pl\n",
    "\n",
    "data = {\"col1\": [1, 2, 3], \"col2\": [\"x\", \"y\", \"z\"]}\n",
    "df = pl.DataFrame(data)\n",
    "print(df)"
   ]
  },
  {
   "cell_type": "markdown",
   "metadata": {},
   "source": [
    "## DataFrame.select()"
   ]
  },
  {
   "cell_type": "code",
   "execution_count": 2,
   "metadata": {},
   "outputs": [
    {
     "name": "stdout",
     "output_type": "stream",
     "text": [
      "shape: (3, 1)\n",
      "┌──────┐\n",
      "│ col1 │\n",
      "│ ---  │\n",
      "│ i64  │\n",
      "╞══════╡\n",
      "│ 1    │\n",
      "│ 2    │\n",
      "│ 3    │\n",
      "└──────┘\n"
     ]
    }
   ],
   "source": [
    "print(df.select(pl.col(\"col1\")))"
   ]
  },
  {
   "cell_type": "code",
   "execution_count": 3,
   "metadata": {},
   "outputs": [
    {
     "name": "stdout",
     "output_type": "stream",
     "text": [
      "shape: (3, 2)\n",
      "┌──────┬──────┐\n",
      "│ col1 ┆ col2 │\n",
      "│ ---  ┆ ---  │\n",
      "│ i64  ┆ str  │\n",
      "╞══════╪══════╡\n",
      "│ 1    ┆ x    │\n",
      "│ 2    ┆ y    │\n",
      "│ 3    ┆ z    │\n",
      "└──────┴──────┘\n"
     ]
    }
   ],
   "source": [
    "print(df.select(pl.col(\"col1\"), pl.col(\"col2\")))"
   ]
  },
  {
   "cell_type": "code",
   "execution_count": 4,
   "metadata": {},
   "outputs": [
    {
     "name": "stdout",
     "output_type": "stream",
     "text": [
      "shape: (3, 2)\n",
      "┌──────┬──────┐\n",
      "│ col1 ┆ col2 │\n",
      "│ ---  ┆ ---  │\n",
      "│ i64  ┆ str  │\n",
      "╞══════╪══════╡\n",
      "│ 1    ┆ x    │\n",
      "│ 2    ┆ y    │\n",
      "│ 3    ┆ z    │\n",
      "└──────┴──────┘\n"
     ]
    }
   ],
   "source": [
    "print(df.select(pl.col(\"col1\", \"col2\")))"
   ]
  },
  {
   "cell_type": "code",
   "execution_count": 5,
   "metadata": {},
   "outputs": [
    {
     "name": "stdout",
     "output_type": "stream",
     "text": [
      "shape: (3, 1)\n",
      "┌──────┐\n",
      "│ col3 │\n",
      "│ ---  │\n",
      "│ i64  │\n",
      "╞══════╡\n",
      "│ 1    │\n",
      "│ 2    │\n",
      "│ 3    │\n",
      "└──────┘\n"
     ]
    }
   ],
   "source": [
    "print(df.select(pl.col(\"col1\").alias(\"col3\")))"
   ]
  },
  {
   "cell_type": "code",
   "execution_count": 6,
   "metadata": {},
   "outputs": [
    {
     "name": "stdout",
     "output_type": "stream",
     "text": [
      "shape: (3, 3)\n",
      "┌──────┬──────┬──────┐\n",
      "│ col3 ┆ col1 ┆ col2 │\n",
      "│ ---  ┆ ---  ┆ ---  │\n",
      "│ i64  ┆ i64  ┆ str  │\n",
      "╞══════╪══════╪══════╡\n",
      "│ 1    ┆ 1    ┆ x    │\n",
      "│ 2    ┆ 2    ┆ y    │\n",
      "│ 3    ┆ 3    ┆ z    │\n",
      "└──────┴──────┴──────┘\n"
     ]
    }
   ],
   "source": [
    "print(\n",
    "    df.select(pl.col(\"col1\").alias(\"col3\"), pl.col(\"col1\"), pl.col(\"col2\"))\n",
    ")"
   ]
  },
  {
   "cell_type": "markdown",
   "metadata": {},
   "source": [
    "### Boardcast"
   ]
  },
  {
   "cell_type": "code",
   "execution_count": 7,
   "metadata": {},
   "outputs": [
    {
     "name": "stdout",
     "output_type": "stream",
     "text": [
      "shape: (3, 2)\n",
      "┌──────┬──────┐\n",
      "│ col1 ┆ col2 │\n",
      "│ ---  ┆ ---  │\n",
      "│ f64  ┆ str  │\n",
      "╞══════╪══════╡\n",
      "│ 2.0  ┆ x    │\n",
      "│ 2.0  ┆ y    │\n",
      "│ 2.0  ┆ z    │\n",
      "└──────┴──────┘\n"
     ]
    }
   ],
   "source": [
    "print(df.select(pl.col(\"col1\").mean(), pl.col(\"col2\")))"
   ]
  },
  {
   "cell_type": "markdown",
   "metadata": {},
   "source": [
    "### Shape"
   ]
  },
  {
   "cell_type": "code",
   "execution_count": 8,
   "metadata": {},
   "outputs": [
    {
     "name": "stdout",
     "output_type": "stream",
     "text": [
      "shape: (1, 2)\n",
      "┌──────┬──────┐\n",
      "│ col1 ┆ col2 │\n",
      "│ ---  ┆ ---  │\n",
      "│ f64  ┆ str  │\n",
      "╞══════╪══════╡\n",
      "│ 2.0  ┆ x    │\n",
      "└──────┴──────┘\n"
     ]
    }
   ],
   "source": [
    "print(df.select(pl.col(\"col1\").mean(), pl.col(\"col2\").first()))"
   ]
  },
  {
   "cell_type": "markdown",
   "metadata": {},
   "source": [
    "## DataFrame.with_columns()"
   ]
  },
  {
   "cell_type": "code",
   "execution_count": 9,
   "metadata": {},
   "outputs": [
    {
     "name": "stdout",
     "output_type": "stream",
     "text": [
      "shape: (3, 3)\n",
      "┌──────┬──────┬──────┐\n",
      "│ col1 ┆ col2 ┆ col3 │\n",
      "│ ---  ┆ ---  ┆ ---  │\n",
      "│ i64  ┆ str  ┆ i64  │\n",
      "╞══════╪══════╪══════╡\n",
      "│ 1    ┆ x    ┆ 2    │\n",
      "│ 2    ┆ y    ┆ 3    │\n",
      "│ 3    ┆ z    ┆ 4    │\n",
      "└──────┴──────┴──────┘\n"
     ]
    }
   ],
   "source": [
    "print(df.with_columns(pl.col(\"col1\").add(1).alias(\"col3\")))"
   ]
  },
  {
   "cell_type": "code",
   "execution_count": 10,
   "metadata": {},
   "outputs": [
    {
     "name": "stdout",
     "output_type": "stream",
     "text": [
      "shape: (3, 2)\n",
      "┌──────┬──────┐\n",
      "│ col1 ┆ col2 │\n",
      "│ ---  ┆ ---  │\n",
      "│ i64  ┆ str  │\n",
      "╞══════╪══════╡\n",
      "│ 2    ┆ x    │\n",
      "│ 3    ┆ y    │\n",
      "│ 4    ┆ z    │\n",
      "└──────┴──────┘\n"
     ]
    }
   ],
   "source": [
    "print(df.with_columns(pl.col(\"col1\").add(1)))"
   ]
  },
  {
   "cell_type": "code",
   "execution_count": 11,
   "metadata": {},
   "outputs": [
    {
     "name": "stdout",
     "output_type": "stream",
     "text": [
      "shape: (3, 2)\n",
      "┌──────┬──────┐\n",
      "│ col2 ┆ col1 │\n",
      "│ ---  ┆ ---  │\n",
      "│ i64  ┆ str  │\n",
      "╞══════╪══════╡\n",
      "│ 1    ┆ x    │\n",
      "│ 2    ┆ y    │\n",
      "│ 3    ┆ z    │\n",
      "└──────┴──────┘\n"
     ]
    }
   ],
   "source": [
    "df2 = pl.DataFrame({\"col2\": [1, 2, 3], \"col1\": [\"x\", \"y\", \"z\"]})\n",
    "print(df2.with_columns(pl.col(\"col1\"), pl.col(\"col2\")))"
   ]
  },
  {
   "cell_type": "code",
   "execution_count": 12,
   "metadata": {},
   "outputs": [
    {
     "name": "stdout",
     "output_type": "stream",
     "text": [
      "shape: (3, 2)\n",
      "┌──────┬──────┐\n",
      "│ col1 ┆ col2 │\n",
      "│ ---  ┆ ---  │\n",
      "│ str  ┆ i64  │\n",
      "╞══════╪══════╡\n",
      "│ x    ┆ 1    │\n",
      "│ y    ┆ 2    │\n",
      "│ z    ┆ 3    │\n",
      "└──────┴──────┘\n"
     ]
    }
   ],
   "source": [
    "print(df2.select(pl.col(\"col1\"), pl.col(\"col2\")))"
   ]
  },
  {
   "cell_type": "markdown",
   "metadata": {},
   "source": [
    "### Boardcast"
   ]
  },
  {
   "cell_type": "code",
   "execution_count": 13,
   "metadata": {},
   "outputs": [
    {
     "name": "stdout",
     "output_type": "stream",
     "text": [
      "shape: (3, 3)\n",
      "┌──────┬──────┬──────┐\n",
      "│ col1 ┆ col2 ┆ col3 │\n",
      "│ ---  ┆ ---  ┆ ---  │\n",
      "│ i64  ┆ str  ┆ i32  │\n",
      "╞══════╪══════╪══════╡\n",
      "│ 1    ┆ x    ┆ 3    │\n",
      "│ 2    ┆ y    ┆ 3    │\n",
      "│ 3    ┆ z    ┆ 3    │\n",
      "└──────┴──────┴──────┘\n"
     ]
    }
   ],
   "source": [
    "print(df.with_columns(col3=3))"
   ]
  },
  {
   "cell_type": "markdown",
   "metadata": {},
   "source": [
    "### Shape"
   ]
  },
  {
   "cell_type": "code",
   "execution_count": 14,
   "metadata": {},
   "outputs": [
    {
     "name": "stdout",
     "output_type": "stream",
     "text": [
      "shape: (3, 2)\n",
      "┌──────┬──────┐\n",
      "│ col1 ┆ col2 │\n",
      "│ ---  ┆ ---  │\n",
      "│ f64  ┆ str  │\n",
      "╞══════╪══════╡\n",
      "│ 2.0  ┆ x    │\n",
      "│ 2.0  ┆ x    │\n",
      "│ 2.0  ┆ x    │\n",
      "└──────┴──────┘\n"
     ]
    }
   ],
   "source": [
    "print(df.with_columns(pl.col(\"col1\").mean(), pl.col(\"col2\").first()))"
   ]
  },
  {
   "cell_type": "markdown",
   "metadata": {},
   "source": [
    "## By column names"
   ]
  },
  {
   "cell_type": "code",
   "execution_count": 15,
   "metadata": {},
   "outputs": [
    {
     "name": "stdout",
     "output_type": "stream",
     "text": [
      "shape: (3, 2)\n",
      "┌──────┬──────┐\n",
      "│ col1 ┆ col2 │\n",
      "│ ---  ┆ ---  │\n",
      "│ i64  ┆ str  │\n",
      "╞══════╪══════╡\n",
      "│ 1    ┆ x    │\n",
      "│ 2    ┆ y    │\n",
      "│ 3    ┆ z    │\n",
      "└──────┴──────┘\n"
     ]
    }
   ],
   "source": [
    "print(df.select(\"col1\", \"col2\"))"
   ]
  },
  {
   "cell_type": "code",
   "execution_count": 16,
   "metadata": {},
   "outputs": [
    {
     "name": "stdout",
     "output_type": "stream",
     "text": [
      "shape: (3, 2)\n",
      "┌──────┬──────┐\n",
      "│ col1 ┆ col2 │\n",
      "│ ---  ┆ ---  │\n",
      "│ i64  ┆ str  │\n",
      "╞══════╪══════╡\n",
      "│ 1    ┆ x    │\n",
      "│ 2    ┆ y    │\n",
      "│ 3    ┆ z    │\n",
      "└──────┴──────┘\n"
     ]
    }
   ],
   "source": [
    "print(df.select([\"col1\", \"col2\"]))"
   ]
  },
  {
   "cell_type": "markdown",
   "metadata": {},
   "source": [
    "## Naming"
   ]
  },
  {
   "cell_type": "code",
   "execution_count": 17,
   "metadata": {},
   "outputs": [
    {
     "name": "stdout",
     "output_type": "stream",
     "text": [
      "shape: (3, 1)\n",
      "┌──────┐\n",
      "│ col3 │\n",
      "│ ---  │\n",
      "│ i64  │\n",
      "╞══════╡\n",
      "│ 1    │\n",
      "│ 2    │\n",
      "│ 3    │\n",
      "└──────┘\n"
     ]
    }
   ],
   "source": [
    "print(df.select(pl.col(\"col1\").alias(\"col3\")))"
   ]
  },
  {
   "cell_type": "code",
   "execution_count": 18,
   "metadata": {},
   "outputs": [
    {
     "name": "stdout",
     "output_type": "stream",
     "text": [
      "shape: (3, 1)\n",
      "┌──────┐\n",
      "│ col3 │\n",
      "│ ---  │\n",
      "│ i64  │\n",
      "╞══════╡\n",
      "│ 1    │\n",
      "│ 2    │\n",
      "│ 3    │\n",
      "└──────┘\n"
     ]
    }
   ],
   "source": [
    "print(df.select(col3=pl.col(\"col1\")))"
   ]
  },
  {
   "cell_type": "code",
   "execution_count": 19,
   "metadata": {},
   "outputs": [
    {
     "name": "stdout",
     "output_type": "stream",
     "text": [
      "shape: (3, 1)\n",
      "┌─────┐\n",
      "│ 1   │\n",
      "│ --- │\n",
      "│ i64 │\n",
      "╞═════╡\n",
      "│ 1   │\n",
      "│ 2   │\n",
      "│ 3   │\n",
      "└─────┘\n"
     ]
    }
   ],
   "source": [
    "print(df.select(pl.col(\"col1\").alias(\"1\")))"
   ]
  },
  {
   "cell_type": "code",
   "execution_count": 20,
   "metadata": {},
   "outputs": [],
   "source": [
    "# SyntaxError\n",
    "# df.select(1=pl.col(\"col1\"))"
   ]
  },
  {
   "cell_type": "markdown",
   "metadata": {},
   "source": [
    "## Naming for multiple columns"
   ]
  },
  {
   "cell_type": "code",
   "execution_count": 21,
   "metadata": {},
   "outputs": [
    {
     "name": "stdout",
     "output_type": "stream",
     "text": [
      "shape: (3, 2)\n",
      "┌──────────┬──────────┐\n",
      "│ new_col1 ┆ new_col2 │\n",
      "│ ---      ┆ ---      │\n",
      "│ i64      ┆ str      │\n",
      "╞══════════╪══════════╡\n",
      "│ 1        ┆ x        │\n",
      "│ 2        ┆ y        │\n",
      "│ 3        ┆ z        │\n",
      "└──────────┴──────────┘\n"
     ]
    }
   ],
   "source": [
    "print(df.select(pl.col(\"^col.*$\").name.prefix(\"new_\")))"
   ]
  },
  {
   "cell_type": "markdown",
   "metadata": {},
   "source": [
    "## Parallel computing"
   ]
  },
  {
   "cell_type": "code",
   "execution_count": 22,
   "metadata": {},
   "outputs": [],
   "source": [
    "# ColumnNotFoundError: col3\n",
    "# (\n",
    "#     df.with_columns(\n",
    "#         pl.col(\"col1\").add(1).alias(\"col3\"),\n",
    "#         pl.col(\"col3\").mul(2).alias(\"col4\"),\n",
    "#     )\n",
    "# )"
   ]
  },
  {
   "cell_type": "code",
   "execution_count": 23,
   "metadata": {},
   "outputs": [
    {
     "name": "stdout",
     "output_type": "stream",
     "text": [
      "shape: (3, 4)\n",
      "┌──────┬──────┬──────┬──────┐\n",
      "│ col1 ┆ col2 ┆ col3 ┆ col4 │\n",
      "│ ---  ┆ ---  ┆ ---  ┆ ---  │\n",
      "│ i64  ┆ str  ┆ i64  ┆ i64  │\n",
      "╞══════╪══════╪══════╪══════╡\n",
      "│ 1    ┆ x    ┆ 2    ┆ 4    │\n",
      "│ 2    ┆ y    ┆ 3    ┆ 6    │\n",
      "│ 3    ┆ z    ┆ 4    ┆ 8    │\n",
      "└──────┴──────┴──────┴──────┘\n"
     ]
    }
   ],
   "source": [
    "print(\n",
    "    df.with_columns(\n",
    "        pl.col(\"col1\").add(1).alias(\"col3\"),\n",
    "    ).with_columns(pl.col(\"col3\").mul(2).alias(\"col4\"))\n",
    ")"
   ]
  },
  {
   "cell_type": "markdown",
   "metadata": {},
   "source": [
    "## codepanda"
   ]
  },
  {
   "cell_type": "markdown",
   "metadata": {},
   "source": [
    "## Pandas sequential computing"
   ]
  },
  {
   "cell_type": "code",
   "execution_count": 24,
   "metadata": {},
   "outputs": [
    {
     "name": "stdout",
     "output_type": "stream",
     "text": [
      "   col1 col2  col3  col4\n",
      "0     1    x     2     4\n",
      "1     2    y     3     6\n",
      "2     3    z     4     8\n"
     ]
    }
   ],
   "source": [
    "df_pd = pd.DataFrame(data)\n",
    "\n",
    "print(\n",
    "    df_pd.assign(\n",
    "        col3=lambda df_: df_.col1.add(1), col4=lambda df_: df_.col3.mul(2)\n",
    "    )\n",
    ")"
   ]
  }
 ],
 "metadata": {
  "kernelspec": {
   "display_name": "venv",
   "language": "python",
   "name": "python3"
  },
  "language_info": {
   "codemirror_mode": {
    "name": "ipython",
    "version": 3
   },
   "file_extension": ".py",
   "mimetype": "text/x-python",
   "name": "python",
   "nbconvert_exporter": "python",
   "pygments_lexer": "ipython3",
   "version": "3.13.7"
  }
 },
 "nbformat": 4,
 "nbformat_minor": 2
}
