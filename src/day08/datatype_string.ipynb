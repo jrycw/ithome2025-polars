{
 "cells": [
  {
   "cell_type": "code",
   "execution_count": 1,
   "metadata": {},
   "outputs": [
    {
     "name": "stdout",
     "output_type": "stream",
     "text": [
      "shape: (3, 3)\n",
      "┌────────┬────────────┬──────────┐\n",
      "│ colors ┆ fruits     ┆ animals  │\n",
      "│ ---    ┆ ---        ┆ ---      │\n",
      "│ str    ┆ str        ┆ str      │\n",
      "╞════════╪════════════╪══════════╡\n",
      "│ black  ┆ APPLE      ┆ dog      │\n",
      "│ white  ┆ BANANA     ┆ cat      │\n",
      "│ yellow ┆ STRAWBERRY ┆ squirrel │\n",
      "└────────┴────────────┴──────────┘\n"
     ]
    }
   ],
   "source": [
    "import pandas as pd\n",
    "import polars as pl\n",
    "import pyarrow as pa\n",
    "\n",
    "data = {\n",
    "    \"colors\": [\"black\", \"white\", \"yellow\"],\n",
    "    \"fruits\": [\"APPLE\", \"BANANA\", \"STRAWBERRY\"],\n",
    "    \"animals\": [\"dog\", \"cat\", \"squirrel\"],\n",
    "}\n",
    "df = pl.DataFrame(data)\n",
    "print(df)"
   ]
  },
  {
   "cell_type": "markdown",
   "metadata": {},
   "source": [
    "## 1.1 starts_with() and ends_with()"
   ]
  },
  {
   "cell_type": "code",
   "execution_count": 2,
   "metadata": {},
   "outputs": [
    {
     "name": "stdout",
     "output_type": "stream",
     "text": [
      "shape: (3, 2)\n",
      "┌──────────┬────────────┐\n",
      "│ animals  ┆ animals_t$ │\n",
      "│ ---      ┆ ---        │\n",
      "│ str      ┆ bool       │\n",
      "╞══════════╪════════════╡\n",
      "│ dog      ┆ false      │\n",
      "│ cat      ┆ true       │\n",
      "│ squirrel ┆ false      │\n",
      "└──────────┴────────────┘\n"
     ]
    }
   ],
   "source": [
    "print(\n",
    "    df.select(\n",
    "        pl.col(\"animals\"),\n",
    "        pl.col(\"animals\").str.ends_with(\"t\").name.suffix(\"_t$\"),\n",
    "    )\n",
    ")"
   ]
  },
  {
   "cell_type": "markdown",
   "metadata": {},
   "source": [
    "## 1.2 contains() and contains_any()"
   ]
  },
  {
   "cell_type": "code",
   "execution_count": 3,
   "metadata": {},
   "outputs": [
    {
     "name": "stdout",
     "output_type": "stream",
     "text": [
      "shape: (3, 6)\n",
      "┌────────┬────────────┬──────────┬──────────┬──────────┬───────────┐\n",
      "│ colors ┆ fruits     ┆ animals  ┆ colors_c ┆ fruits_c ┆ animals_c │\n",
      "│ ---    ┆ ---        ┆ ---      ┆ ---      ┆ ---      ┆ ---       │\n",
      "│ str    ┆ str        ┆ str      ┆ bool     ┆ bool     ┆ bool      │\n",
      "╞════════╪════════════╪══════════╪══════════╪══════════╪═══════════╡\n",
      "│ black  ┆ APPLE      ┆ dog      ┆ false    ┆ false    ┆ false     │\n",
      "│ white  ┆ BANANA     ┆ cat      ┆ false    ┆ false    ┆ false     │\n",
      "│ yellow ┆ STRAWBERRY ┆ squirrel ┆ false    ┆ false    ┆ true      │\n",
      "└────────┴────────────┴──────────┴──────────┴──────────┴───────────┘\n"
     ]
    }
   ],
   "source": [
    "print(df.with_columns(pl.all().str.contains(\"rr\").name.suffix(\"_c\")))"
   ]
  },
  {
   "cell_type": "code",
   "execution_count": 4,
   "metadata": {},
   "outputs": [
    {
     "name": "stdout",
     "output_type": "stream",
     "text": [
      "shape: (3, 6)\n",
      "┌────────┬────────────┬──────────┬──────────┬──────────┬───────────┐\n",
      "│ colors ┆ fruits     ┆ animals  ┆ colors_c ┆ fruits_c ┆ animals_c │\n",
      "│ ---    ┆ ---        ┆ ---      ┆ ---      ┆ ---      ┆ ---       │\n",
      "│ str    ┆ str        ┆ str      ┆ bool     ┆ bool     ┆ bool      │\n",
      "╞════════╪════════════╪══════════╪══════════╪══════════╪═══════════╡\n",
      "│ black  ┆ APPLE      ┆ dog      ┆ false    ┆ true     ┆ false     │\n",
      "│ white  ┆ BANANA     ┆ cat      ┆ false    ┆ false    ┆ false     │\n",
      "│ yellow ┆ STRAWBERRY ┆ squirrel ┆ false    ┆ false    ┆ false     │\n",
      "└────────┴────────────┴──────────┴──────────┴──────────┴───────────┘\n"
     ]
    }
   ],
   "source": [
    "print(df.with_columns(pl.all().str.contains(\"(?i)pp\").name.suffix(\"_c\")))"
   ]
  },
  {
   "cell_type": "code",
   "execution_count": 5,
   "metadata": {},
   "outputs": [
    {
     "name": "stdout",
     "output_type": "stream",
     "text": [
      "shape: (3, 6)\n",
      "┌────────┬────────────┬──────────┬──────────┬──────────┬───────────┐\n",
      "│ colors ┆ fruits     ┆ animals  ┆ colors_c ┆ fruits_c ┆ animals_c │\n",
      "│ ---    ┆ ---        ┆ ---      ┆ ---      ┆ ---      ┆ ---       │\n",
      "│ str    ┆ str        ┆ str      ┆ bool     ┆ bool     ┆ bool      │\n",
      "╞════════╪════════════╪══════════╪══════════╪══════════╪═══════════╡\n",
      "│ black  ┆ APPLE      ┆ dog      ┆ false    ┆ true     ┆ false     │\n",
      "│ white  ┆ BANANA     ┆ cat      ┆ false    ┆ false    ┆ false     │\n",
      "│ yellow ┆ STRAWBERRY ┆ squirrel ┆ false    ┆ true     ┆ false     │\n",
      "└────────┴────────────┴──────────┴──────────┴──────────┴───────────┘\n"
     ]
    }
   ],
   "source": [
    "print(\n",
    "    df.with_columns(\n",
    "        pl.all().str.contains_any([\"PP\", \"RR\"]).name.suffix(\"_c\")\n",
    "    )\n",
    ")"
   ]
  },
  {
   "cell_type": "code",
   "execution_count": 6,
   "metadata": {},
   "outputs": [
    {
     "name": "stdout",
     "output_type": "stream",
     "text": [
      "shape: (3, 6)\n",
      "┌────────┬────────────┬──────────┬──────────┬──────────┬───────────┐\n",
      "│ colors ┆ fruits     ┆ animals  ┆ colors_c ┆ fruits_c ┆ animals_c │\n",
      "│ ---    ┆ ---        ┆ ---      ┆ ---      ┆ ---      ┆ ---       │\n",
      "│ str    ┆ str        ┆ str      ┆ bool     ┆ bool     ┆ bool      │\n",
      "╞════════╪════════════╪══════════╪══════════╪══════════╪═══════════╡\n",
      "│ black  ┆ APPLE      ┆ dog      ┆ false    ┆ true     ┆ false     │\n",
      "│ white  ┆ BANANA     ┆ cat      ┆ false    ┆ false    ┆ false     │\n",
      "│ yellow ┆ STRAWBERRY ┆ squirrel ┆ false    ┆ true     ┆ true      │\n",
      "└────────┴────────────┴──────────┴──────────┴──────────┴───────────┘\n"
     ]
    }
   ],
   "source": [
    "print(\n",
    "    df.with_columns(\n",
    "        pl.all()\n",
    "        .str.contains_any([\"PP\", \"RR\"], ascii_case_insensitive=True)\n",
    "        .name.suffix(\"_c\")\n",
    "    )\n",
    ")"
   ]
  },
  {
   "cell_type": "markdown",
   "metadata": {},
   "source": [
    "## 1.3 extract() and extract_all()"
   ]
  },
  {
   "cell_type": "code",
   "execution_count": 7,
   "metadata": {},
   "outputs": [
    {
     "name": "stdout",
     "output_type": "stream",
     "text": [
      "shape: (3, 3)\n",
      "┌────────────┬─────────┬──────────────┐\n",
      "│ fruits     ┆ extract ┆ extract_all  │\n",
      "│ ---        ┆ ---     ┆ ---          │\n",
      "│ str        ┆ str     ┆ list[str]    │\n",
      "╞════════════╪═════════╪══════════════╡\n",
      "│ APPLE      ┆ null    ┆ []           │\n",
      "│ BANANA     ┆ BANA    ┆ [\"NA\", \"NA\"] │\n",
      "│ STRAWBERRY ┆ null    ┆ []           │\n",
      "└────────────┴─────────┴──────────────┘\n"
     ]
    }
   ],
   "source": [
    "print(\n",
    "    df.select(\n",
    "        pl.col(\"fruits\"),\n",
    "        pl.col(\"fruits\")\n",
    "        .str.extract(\"BA(NA)\", group_index=0)\n",
    "        .alias(\"extract\"),\n",
    "        pl.col(\"fruits\").str.extract_all(\"(NA)\").alias(\"extract_all\"),\n",
    "    )\n",
    ")"
   ]
  },
  {
   "cell_type": "markdown",
   "metadata": {},
   "source": [
    "## 1.4 replace(), replace_all(), replace_many()"
   ]
  },
  {
   "cell_type": "code",
   "execution_count": 8,
   "metadata": {},
   "outputs": [
    {
     "name": "stdout",
     "output_type": "stream",
     "text": [
      "shape: (3, 5)\n",
      "┌────────────┬────────────┬────────────┬─────────────┬─────────────┐\n",
      "│ fruits     ┆ r          ┆ r_all      ┆ r_many_list ┆ r_many_dict │\n",
      "│ ---        ┆ ---        ┆ ---        ┆ ---         ┆ ---         │\n",
      "│ str        ┆ str        ┆ str        ┆ str         ┆ str         │\n",
      "╞════════════╪════════════╪════════════╪═════════════╪═════════════╡\n",
      "│ APPLE      ┆ aPPLE      ┆ aPPLE      ┆ appLE       ┆ appLE       │\n",
      "│ BANANA     ┆ BaNANA     ┆ BaNaNa     ┆ BaNaNa      ┆ BaNaNa      │\n",
      "│ STRAWBERRY ┆ STRaWBERRY ┆ STRaWBERRY ┆ STRaWBERRY  ┆ STRaWBERRY  │\n",
      "└────────────┴────────────┴────────────┴─────────────┴─────────────┘\n"
     ]
    }
   ],
   "source": [
    "print(\n",
    "    df.select(\n",
    "        pl.col(\"fruits\"),\n",
    "        pl.col(\"fruits\").str.replace(\"A\", \"a\").alias(\"r\"),\n",
    "        pl.col(\"fruits\").str.replace_all(\"A\", \"a\").alias(\"r_all\"),\n",
    "        pl.col(\"fruits\")\n",
    "        .str.replace_many([\"A\", \"P\"], [\"a\", \"p\"])\n",
    "        .alias(\"r_many_list\"),\n",
    "        pl.col(\"fruits\")\n",
    "        .str.replace_many({\"A\": \"a\", \"P\": \"p\"})\n",
    "        .alias(\"r_many_dict\"),\n",
    "    )\n",
    ")"
   ]
  },
  {
   "cell_type": "markdown",
   "metadata": {},
   "source": [
    "## 1.5 Case conversion"
   ]
  },
  {
   "cell_type": "code",
   "execution_count": 9,
   "metadata": {},
   "outputs": [
    {
     "name": "stdout",
     "output_type": "stream",
     "text": [
      "shape: (3, 3)\n",
      "┌────────┬────────────┬──────────┐\n",
      "│ colors ┆ fruits     ┆ animals  │\n",
      "│ ---    ┆ ---        ┆ ---      │\n",
      "│ str    ┆ str        ┆ str      │\n",
      "╞════════╪════════════╪══════════╡\n",
      "│ BLACK  ┆ apple      ┆ Dog      │\n",
      "│ WHITE  ┆ banana     ┆ Cat      │\n",
      "│ YELLOW ┆ strawberry ┆ Squirrel │\n",
      "└────────┴────────────┴──────────┘\n"
     ]
    }
   ],
   "source": [
    "print(\n",
    "    df.select(\n",
    "        pl.col(\"colors\").str.to_uppercase(),\n",
    "        pl.col(\"fruits\").str.to_lowercase(),\n",
    "        pl.col(\"animals\").str.to_titlecase(),\n",
    "    )\n",
    ")"
   ]
  },
  {
   "cell_type": "markdown",
   "metadata": {},
   "source": [
    "## 1.6 String length"
   ]
  },
  {
   "cell_type": "code",
   "execution_count": 10,
   "metadata": {},
   "outputs": [
    {
     "name": "stdout",
     "output_type": "stream",
     "text": [
      "shape: (13, 3)\n",
      "┌─────┬─────────┬─────────┐\n",
      "│ col ┆ n_bytes ┆ n_chars │\n",
      "│ --- ┆ ---     ┆ ---     │\n",
      "│ str ┆ u32     ┆ u32     │\n",
      "╞═════╪═════════╪═════════╡\n",
      "│ 2   ┆ 1       ┆ 1       │\n",
      "│ 0   ┆ 1       ┆ 1       │\n",
      "│ 2   ┆ 1       ┆ 1       │\n",
      "│ 5   ┆ 1       ┆ 1       │\n",
      "│ I   ┆ 1       ┆ 1       │\n",
      "│ T   ┆ 1       ┆ 1       │\n",
      "│ h   ┆ 1       ┆ 1       │\n",
      "│ o   ┆ 1       ┆ 1       │\n",
      "│ m   ┆ 1       ┆ 1       │\n",
      "│ e   ┆ 1       ┆ 1       │\n",
      "│ 鐵  ┆ 3       ┆ 1       │\n",
      "│ 人  ┆ 3       ┆ 1       │\n",
      "│ 賽  ┆ 3       ┆ 1       │\n",
      "└─────┴─────────┴─────────┘\n"
     ]
    }
   ],
   "source": [
    "with pl.Config(tbl_rows=20):\n",
    "    _ = pl.DataFrame({\"col\": list(\"2025IThome鐵人賽\")}).select(\n",
    "        pl.col(\"col\"),\n",
    "        pl.col(\"col\").str.len_bytes().alias(\"n_bytes\"),\n",
    "        pl.col(\"col\").str.len_chars().alias(\"n_chars\"),\n",
    "    )\n",
    "    print(_)"
   ]
  },
  {
   "cell_type": "markdown",
   "metadata": {},
   "source": [
    "## 1.7 Slice"
   ]
  },
  {
   "cell_type": "code",
   "execution_count": 11,
   "metadata": {},
   "outputs": [
    {
     "name": "stdout",
     "output_type": "stream",
     "text": [
      "shape: (3, 6)\n",
      "┌────────┬────────────┬──────────┬──────────┬───────────┬───────────┐\n",
      "│ colors ┆ fruits     ┆ animals  ┆ colors_s ┆ fruits_s  ┆ animals_s │\n",
      "│ ---    ┆ ---        ┆ ---      ┆ ---      ┆ ---       ┆ ---       │\n",
      "│ str    ┆ str        ┆ str      ┆ str      ┆ str       ┆ str       │\n",
      "╞════════╪════════════╪══════════╪══════════╪═══════════╪═══════════╡\n",
      "│ black  ┆ APPLE      ┆ dog      ┆ lack     ┆ PPLE      ┆ og        │\n",
      "│ white  ┆ BANANA     ┆ cat      ┆ hite     ┆ ANANA     ┆ at        │\n",
      "│ yellow ┆ STRAWBERRY ┆ squirrel ┆ ellow    ┆ TRAWBERRY ┆ quirrel   │\n",
      "└────────┴────────────┴──────────┴──────────┴───────────┴───────────┘\n"
     ]
    }
   ],
   "source": [
    "print(df.with_columns(pl.all().str.slice(1).name.suffix(\"_s\")))"
   ]
  },
  {
   "cell_type": "code",
   "execution_count": 12,
   "metadata": {},
   "outputs": [
    {
     "name": "stdout",
     "output_type": "stream",
     "text": [
      "shape: (3, 6)\n",
      "┌────────┬────────────┬──────────┬──────────┬──────────┬───────────┐\n",
      "│ colors ┆ fruits     ┆ animals  ┆ colors_s ┆ fruits_s ┆ animals_s │\n",
      "│ ---    ┆ ---        ┆ ---      ┆ ---      ┆ ---      ┆ ---       │\n",
      "│ str    ┆ str        ┆ str      ┆ str      ┆ str      ┆ str       │\n",
      "╞════════╪════════════╪══════════╪══════════╪══════════╪═══════════╡\n",
      "│ black  ┆ APPLE      ┆ dog      ┆ lac      ┆ PPL      ┆ o         │\n",
      "│ white  ┆ BANANA     ┆ cat      ┆ hit      ┆ ANAN     ┆ a         │\n",
      "│ yellow ┆ STRAWBERRY ┆ squirrel ┆ ello     ┆ TRAWBERR ┆ quirre    │\n",
      "└────────┴────────────┴──────────┴──────────┴──────────┴───────────┘\n"
     ]
    }
   ],
   "source": [
    "print(\n",
    "    df.with_columns(\n",
    "        pl.all()\n",
    "        .str.slice(1, pl.all().str.len_chars() - 2)\n",
    "        .name.suffix(\"_s\")\n",
    "    )\n",
    ")"
   ]
  },
  {
   "cell_type": "markdown",
   "metadata": {},
   "source": [
    "## codepanda"
   ]
  },
  {
   "cell_type": "code",
   "execution_count": 13,
   "metadata": {},
   "outputs": [
    {
     "name": "stdout",
     "output_type": "stream",
     "text": [
      "v0_object                  object\n",
      "v1_stringarrow    string[pyarrow]\n",
      "v2_stringpa       string[pyarrow]\n",
      "dtype: object\n"
     ]
    }
   ],
   "source": [
    "df_pd = pd.DataFrame({\"v0_object\": [\"black\"]}).assign(\n",
    "    v1_stringarrow=lambda df_: df_.v0_object.astype(\n",
    "        {\"v0_object\": \"string[pyarrow]\"}\n",
    "    ),\n",
    "    v2_stringpa=lambda df_: df_.v0_object.astype(\n",
    "        {\"v0_object\": pd.ArrowDtype(pa.string())}\n",
    "    ),\n",
    ")\n",
    "\n",
    "print(df_pd.dtypes)"
   ]
  },
  {
   "cell_type": "code",
   "execution_count": 14,
   "metadata": {},
   "outputs": [
    {
     "name": "stdout",
     "output_type": "stream",
     "text": [
      "False False\n"
     ]
    }
   ],
   "source": [
    "print(\n",
    "    df_pd.dtypes[\"v1_stringarrow\"] is df_pd.dtypes[\"v2_stringpa\"],\n",
    "    df_pd.dtypes[\"v1_stringarrow\"] == df_pd.dtypes[\"v2_stringpa\"],\n",
    ")"
   ]
  }
 ],
 "metadata": {
  "kernelspec": {
   "display_name": "venv",
   "language": "python",
   "name": "python3"
  },
  "language_info": {
   "codemirror_mode": {
    "name": "ipython",
    "version": 3
   },
   "file_extension": ".py",
   "mimetype": "text/x-python",
   "name": "python",
   "nbconvert_exporter": "python",
   "pygments_lexer": "ipython3",
   "version": "3.13.7"
  }
 },
 "nbformat": 4,
 "nbformat_minor": 2
}
