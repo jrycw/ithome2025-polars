{
 "cells": [
  {
   "cell_type": "code",
   "execution_count": 1,
   "id": "01e35acd",
   "metadata": {},
   "outputs": [
    {
     "name": "stdout",
     "output_type": "stream",
     "text": [
      "shape: (14_160, 5)\n",
      "┌─────────────────────┬──────┬───────┬─────────────┬───────────────┐\n",
      "│ DATE                ┆ TOBS ┆ TMEAN ┆ SEASON      ┆ DAY_OF_SEASON │\n",
      "│ ---                 ┆ ---  ┆ ---   ┆ ---         ┆ ---           │\n",
      "│ datetime[μs]        ┆ f64  ┆ f64   ┆ str         ┆ i64           │\n",
      "╞═════════════════════╪══════╪═══════╪═════════════╪═══════════════╡\n",
      "│ 1980-01-01 00:00:00 ┆ 25.0 ┆ null  ┆ Ski 1980    ┆ 0             │\n",
      "│ 1980-01-02 00:00:00 ┆ 18.0 ┆ null  ┆ Ski 1980    ┆ 1             │\n",
      "│ 1980-01-03 00:00:00 ┆ 18.0 ┆ null  ┆ Ski 1980    ┆ 2             │\n",
      "│ 1980-01-04 00:00:00 ┆ 27.0 ┆ null  ┆ Ski 1980    ┆ 3             │\n",
      "│ 1980-01-05 00:00:00 ┆ 34.0 ┆ null  ┆ Ski 1980    ┆ 4             │\n",
      "│ …                   ┆ …    ┆ …     ┆ …           ┆ …             │\n",
      "│ 2019-09-03 00:00:00 ┆ 73.0 ┆ null  ┆ Summer 2019 ┆ 125           │\n",
      "│ 2019-09-04 00:00:00 ┆ 74.0 ┆ null  ┆ Summer 2019 ┆ 126           │\n",
      "│ 2019-09-05 00:00:00 ┆ 65.0 ┆ null  ┆ Summer 2019 ┆ 127           │\n",
      "│ 2019-09-06 00:00:00 ┆ 60.0 ┆ null  ┆ Summer 2019 ┆ 128           │\n",
      "│ 2019-09-07 00:00:00 ┆ 64.0 ┆ null  ┆ Summer 2019 ┆ 129           │\n",
      "└─────────────────────┴──────┴───────┴─────────────┴───────────────┘\n"
     ]
    }
   ],
   "source": [
    "import matplotlib.pyplot as plt\n",
    "import polars as pl\n",
    "import polars.selectors as cs\n",
    "from highlight_text import ax_text\n",
    "from matplotlib import colormaps\n",
    "\n",
    "# https://github.com/mattharrison/datasets/raw/refs/heads/master/data/alta-noaa-1980-2019.csv\n",
    "idx_colname = \"DAY_OF_SEASON\"\n",
    "data_path = \"alta-noaa-1980-2019.csv\"\n",
    "columns = [\"DATE\", \"TOBS\"]\n",
    "\n",
    "\n",
    "def tweak_df(\n",
    "    data_path: str, columns: list[str], idx_colname: str = \"DAY_OF_SEASON\"\n",
    "):\n",
    "    return (\n",
    "        pl.scan_csv(data_path)\n",
    "        .select(columns)\n",
    "        .with_columns(\n",
    "            pl.col(\"DATE\").str.to_datetime(),\n",
    "            pl.col(\"TOBS\").interpolate(),\n",
    "        )\n",
    "        .sort(\"DATE\")\n",
    "        .with_columns(\n",
    "            # Caveat: Cannot be placed in the previous `with_columns()`\n",
    "            # due to different statuses of `TOBS`.\n",
    "            pl.col(\"TOBS\")\n",
    "            .rolling_mean(window_size=28, center=True)\n",
    "            .alias(\"TMEAN\"),\n",
    "            get_season_expr(col=\"DATE\", alias=\"SEASON\"),\n",
    "        )\n",
    "        .with_columns(\n",
    "            add_day_of_season_expr(\n",
    "                col=\"DATE\", group_col=\"SEASON\", alias=idx_colname\n",
    "            )  #\n",
    "        )\n",
    "        .collect()\n",
    "    )\n",
    "\n",
    "\n",
    "def get_season_expr(col: str = \"DATE\", alias: str = \"SEASON\") -> pl.expr:\n",
    "    return (\n",
    "        (\n",
    "            pl.when(\n",
    "                (pl.col(col).dt.month().is_between(5, 10, closed=\"both\"))\n",
    "            )\n",
    "            .then(pl.lit(\"Summer \"))\n",
    "            .otherwise(pl.lit(\"Ski \"))\n",
    "        )\n",
    "        .add(\n",
    "            pl.when(pl.col(col).dt.month() < 11)\n",
    "            .then(pl.col(col).dt.year().cast(pl.String))\n",
    "            .otherwise(pl.col(col).dt.year().add(1).cast(pl.String))\n",
    "        )\n",
    "        .alias(alias)\n",
    "    )\n",
    "\n",
    "\n",
    "def add_day_of_season_expr(\n",
    "    col: str = \"DATE\",\n",
    "    group_col: str = \"SEASON\",\n",
    "    alias: str = \"DAY_OF_SEASON\",\n",
    ") -> pl.expr:\n",
    "    return (\n",
    "        (pl.col(col) - pl.col(col).min())\n",
    "        .dt.total_days()\n",
    "        .over(group_col)\n",
    "        .alias(alias)\n",
    "    )\n",
    "\n",
    "\n",
    "idx_colname = \"DAY_OF_SEASON\"\n",
    "data_path = \"alta-noaa-1980-2019.csv\"\n",
    "columns = [\"DATE\", \"TOBS\"]\n",
    "print(tweak_df(data_path, columns))"
   ]
  },
  {
   "cell_type": "markdown",
   "id": "3e3c4650",
   "metadata": {},
   "source": [
    "## HighlightText"
   ]
  },
  {
   "cell_type": "code",
   "execution_count": 2,
   "id": "9f4aa26f",
   "metadata": {},
   "outputs": [
    {
     "data": {
      "text/plain": [
       "<highlight_text.htext.HighlightText at 0x183861f6510>"
      ]
     },
     "execution_count": 2,
     "metadata": {},
     "output_type": "execute_result"
    },
    {
     "data": {
      "image/png": "[encoded data removed]",
      "text/plain": [
       "<Figure size 640x480 with 1 Axes>"
      ]
     },
     "metadata": {},
     "output_type": "display_data"
    }
   ],
   "source": [
    "import matplotlib.pyplot as plt\n",
    "from highlight_text import ax_text\n",
    "\n",
    "fig, ax = plt.subplots()\n",
    "ax_text(\n",
    "    x=0.5,\n",
    "    y=0.5,\n",
    "    s=\"The weather is <sunny>\\nYesterday it was <cloudy>\",\n",
    "    highlight_textprops=[\n",
    "        {\"color\": \"blue\"},\n",
    "        {\"color\": \"grey\", \"fontsize\": 16},\n",
    "    ],\n",
    "    ax=ax,\n",
    ")"
   ]
  }
 ],
 "metadata": {
  "kernelspec": {
   "display_name": "venv",
   "language": "python",
   "name": "python3"
  },
  "language_info": {
   "codemirror_mode": {
    "name": "ipython",
    "version": 3
   },
   "file_extension": ".py",
   "mimetype": "text/x-python",
   "name": "python",
   "nbconvert_exporter": "python",
   "pygments_lexer": "ipython3",
   "version": "3.13.7"
  }
 },
 "nbformat": 4,
 "nbformat_minor": 5
}
