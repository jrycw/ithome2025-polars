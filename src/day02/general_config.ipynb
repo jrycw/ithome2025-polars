{
 "cells": [
  {
   "cell_type": "code",
   "execution_count": 1,
   "id": "52426bca",
   "metadata": {},
   "outputs": [
    {
     "name": "stdout",
     "output_type": "stream",
     "text": [
      "shape: (3, 3)\n",
      "┌──────┬──────┬────────────┐\n",
      "│ col1 ┆ col2 ┆ col3       │\n",
      "│ ---  ┆ ---  ┆ ---        │\n",
      "│ i64  ┆ str  ┆ date       │\n",
      "╞══════╪══════╪════════════╡\n",
      "│ 1    ┆ x    ┆ 2025-01-01 │\n",
      "│ 2    ┆ y    ┆ 2025-01-02 │\n",
      "│ 3    ┆ z    ┆ 2025-01-03 │\n",
      "└──────┴──────┴────────────┘\n"
     ]
    }
   ],
   "source": [
    "from datetime import date\n",
    "\n",
    "import polars as pl\n",
    "\n",
    "\n",
    "df = pl.DataFrame(\n",
    "    {\n",
    "        \"col1\": [1, 2, 3],\n",
    "        \"col2\": [\"x\", \"y\", \"z\"],\n",
    "        \"col3\": pl.date_range(\n",
    "            date(2025, 1, 1), date(2025, 1, 3), eager=True\n",
    "        ),\n",
    "    }\n",
    ")\n",
    "print(df)"
   ]
  },
  {
   "cell_type": "markdown",
   "id": "fb3dbfd1",
   "metadata": {},
   "source": [
    "## code style"
   ]
  },
  {
   "cell_type": "code",
   "execution_count": 2,
   "id": "cdcc464b",
   "metadata": {},
   "outputs": [],
   "source": [
    "# This works, but...\n",
    "# df\\\n",
    "# .select(pl.col(\"col1\"))\\\n",
    "# .filter(pl.col(\"col1\").gt(0).and_(pl.col(\"col1\").lt(3)))\\\n",
    "# .sort(by=\"col1\", descending=True)"
   ]
  },
  {
   "cell_type": "code",
   "execution_count": 3,
   "id": "14407867",
   "metadata": {},
   "outputs": [
    {
     "name": "stdout",
     "output_type": "stream",
     "text": [
      "shape: (2, 1)\n",
      "┌──────┐\n",
      "│ col1 │\n",
      "│ ---  │\n",
      "│ i64  │\n",
      "╞══════╡\n",
      "│ 2    │\n",
      "│ 1    │\n",
      "└──────┘\n"
     ]
    }
   ],
   "source": [
    "# preferred\n",
    "print(\n",
    "    df.select(pl.col(\"col1\"))\n",
    "    .filter(pl.col(\"col1\").gt(0).and_(pl.col(\"col1\").lt(3)))\n",
    "    .sort(by=\"col1\", descending=True)\n",
    ")"
   ]
  },
  {
   "cell_type": "code",
   "execution_count": 4,
   "id": "70341e20",
   "metadata": {},
   "outputs": [
    {
     "name": "stdout",
     "output_type": "stream",
     "text": [
      "shape: (2, 1)\n",
      "┌──────┐\n",
      "│ col1 │\n",
      "│ ---  │\n",
      "│ i64  │\n",
      "╞══════╡\n",
      "│ 2    │\n",
      "│ 1    │\n",
      "└──────┘\n"
     ]
    }
   ],
   "source": [
    "# anti-pattern\n",
    "selected_df = df.select(pl.col(\"col1\"))\n",
    "filtered_df = selected_df.filter(\n",
    "    pl.col(\"col1\").gt(0).and_(pl.col(\"col1\").lt(3))\n",
    ")\n",
    "sorted_df = filtered_df.sort(by=\"col1\", descending=True)\n",
    "print(sorted_df)"
   ]
  },
  {
   "cell_type": "markdown",
   "id": "8990a239",
   "metadata": {},
   "source": [
    "## Config"
   ]
  },
  {
   "cell_type": "code",
   "execution_count": 5,
   "id": "27c18944",
   "metadata": {},
   "outputs": [
    {
     "data": {
      "text/plain": [
       "polars.config.Config"
      ]
     },
     "execution_count": 5,
     "metadata": {},
     "output_type": "execute_result"
    }
   ],
   "source": [
    "pl.Config.set_tbl_cols(2)  # global"
   ]
  },
  {
   "cell_type": "code",
   "execution_count": 6,
   "id": "daff5b43",
   "metadata": {},
   "outputs": [
    {
     "name": "stdout",
     "output_type": "stream",
     "text": [
      "shape: (3, 3)\n",
      "┌──────┬───┬────────────┐\n",
      "│ col1 ┆ … ┆ col3       │\n",
      "│ ---  ┆   ┆ ---        │\n",
      "│ i64  ┆   ┆ date       │\n",
      "╞══════╪═══╪════════════╡\n",
      "│ 1    ┆ … ┆ 2025-01-01 │\n",
      "│ 2    ┆ … ┆ 2025-01-02 │\n",
      "│ 3    ┆ … ┆ 2025-01-03 │\n",
      "└──────┴───┴────────────┘\n"
     ]
    }
   ],
   "source": [
    "print(df)"
   ]
  },
  {
   "cell_type": "code",
   "execution_count": 7,
   "id": "6492cdf4",
   "metadata": {},
   "outputs": [
    {
     "data": {
      "text/plain": [
       "polars.config.Config"
      ]
     },
     "execution_count": 7,
     "metadata": {},
     "output_type": "execute_result"
    }
   ],
   "source": [
    "pl.Config.restore_defaults()  # global"
   ]
  },
  {
   "cell_type": "code",
   "execution_count": 8,
   "id": "07931a4e",
   "metadata": {},
   "outputs": [
    {
     "name": "stdout",
     "output_type": "stream",
     "text": [
      "shape: (3, 3)\n",
      "┌──────┬──────┬────────────┐\n",
      "│ col1 ┆ col2 ┆ col3       │\n",
      "│ ---  ┆ ---  ┆ ---        │\n",
      "│ i64  ┆ str  ┆ date       │\n",
      "╞══════╪══════╪════════════╡\n",
      "│ 1    ┆ x    ┆ 2025-01-01 │\n",
      "│ 2    ┆ y    ┆ 2025-01-02 │\n",
      "│ 3    ┆ z    ┆ 2025-01-03 │\n",
      "└──────┴──────┴────────────┘\n"
     ]
    }
   ],
   "source": [
    "print(df)"
   ]
  },
  {
   "cell_type": "code",
   "execution_count": 9,
   "id": "d7cec99b",
   "metadata": {},
   "outputs": [
    {
     "name": "stdout",
     "output_type": "stream",
     "text": [
      "shape: (3, 3)\n",
      "┌──────┬───┬────────────┐\n",
      "│ col1 ┆ … ┆ col3       │\n",
      "│ ---  ┆   ┆ ---        │\n",
      "│ i64  ┆   ┆ date       │\n",
      "╞══════╪═══╪════════════╡\n",
      "│ 1    ┆ … ┆ 2025-01-01 │\n",
      "│ 2    ┆ … ┆ 2025-01-02 │\n",
      "│ 3    ┆ … ┆ 2025-01-03 │\n",
      "└──────┴───┴────────────┘\n"
     ]
    }
   ],
   "source": [
    "with pl.Config() as cfg:  # local\n",
    "    cfg.set_tbl_cols(2)\n",
    "    print(df)"
   ]
  },
  {
   "cell_type": "code",
   "execution_count": 10,
   "id": "f37adf6a",
   "metadata": {},
   "outputs": [
    {
     "name": "stdout",
     "output_type": "stream",
     "text": [
      "shape: (3, 3)\n",
      "┌──────┬──────┬────────────┐\n",
      "│ col1 ┆ col2 ┆ col3       │\n",
      "│ ---  ┆ ---  ┆ ---        │\n",
      "│ i64  ┆ str  ┆ date       │\n",
      "╞══════╪══════╪════════════╡\n",
      "│ 1    ┆ x    ┆ 2025-01-01 │\n",
      "│ 2    ┆ y    ┆ 2025-01-02 │\n",
      "│ 3    ┆ z    ┆ 2025-01-03 │\n",
      "└──────┴──────┴────────────┘\n"
     ]
    }
   ],
   "source": [
    "print(df)"
   ]
  },
  {
   "cell_type": "code",
   "execution_count": 11,
   "id": "44ea0a7c",
   "metadata": {},
   "outputs": [
    {
     "name": "stdout",
     "output_type": "stream",
     "text": [
      "shape: (3, 3)\n",
      "┌──────┬───┬────────────┐\n",
      "│ col1 ┆ … ┆ col3       │\n",
      "│ ---  ┆   ┆ ---        │\n",
      "│ i64  ┆   ┆ date       │\n",
      "╞══════╪═══╪════════════╡\n",
      "│ 1    ┆ … ┆ 2025-01-01 │\n",
      "│ 2    ┆ … ┆ 2025-01-02 │\n",
      "│ 3    ┆ … ┆ 2025-01-03 │\n",
      "└──────┴───┴────────────┘\n"
     ]
    }
   ],
   "source": [
    "with pl.Config(tbl_cols=2):  # local\n",
    "    print(df)"
   ]
  },
  {
   "cell_type": "code",
   "execution_count": 12,
   "id": "48442b4e",
   "metadata": {},
   "outputs": [
    {
     "name": "stdout",
     "output_type": "stream",
     "text": [
      "shape: (3, 3)\n",
      "┌──────┬──────┬────────────┐\n",
      "│ col1 ┆ col2 ┆ col3       │\n",
      "│ ---  ┆ ---  ┆ ---        │\n",
      "│ i64  ┆ str  ┆ date       │\n",
      "╞══════╪══════╪════════════╡\n",
      "│ 1    ┆ x    ┆ 2025-01-01 │\n",
      "│ 2    ┆ y    ┆ 2025-01-02 │\n",
      "│ 3    ┆ z    ┆ 2025-01-03 │\n",
      "└──────┴──────┴────────────┘\n"
     ]
    }
   ],
   "source": [
    "print(df)"
   ]
  },
  {
   "cell_type": "markdown",
   "id": "6f51c1bc",
   "metadata": {},
   "source": [
    "## Config save and load"
   ]
  },
  {
   "cell_type": "code",
   "execution_count": 13,
   "id": "d542f421",
   "metadata": {},
   "outputs": [],
   "source": [
    "pl.Config.restore_defaults()  # global\n",
    "cfg = pl.Config.save_to_file(\"pl_config.json\")\n",
    "cfg"
   ]
  },
  {
   "cell_type": "code",
   "execution_count": 14,
   "id": "b2adab15",
   "metadata": {},
   "outputs": [
    {
     "data": {
      "text/plain": [
       "<polars.config.Config at 0x25091c16520>"
      ]
     },
     "execution_count": 14,
     "metadata": {},
     "output_type": "execute_result"
    }
   ],
   "source": [
    "pl.Config.load_from_file(\"pl_config.json\")"
   ]
  },
  {
   "cell_type": "markdown",
   "id": "458f9b98",
   "metadata": {},
   "source": [
    "## Context and expression"
   ]
  },
  {
   "cell_type": "code",
   "execution_count": 15,
   "id": "5f2b8196",
   "metadata": {},
   "outputs": [
    {
     "name": "stdout",
     "output_type": "stream",
     "text": [
      "shape: (3, 1)\n",
      "┌──────┐\n",
      "│ col1 │\n",
      "│ ---  │\n",
      "│ i64  │\n",
      "╞══════╡\n",
      "│ 2    │\n",
      "│ 3    │\n",
      "│ 4    │\n",
      "└──────┘\n"
     ]
    }
   ],
   "source": [
    "print(df.select(pl.col(\"col1\").add(1)))"
   ]
  },
  {
   "cell_type": "code",
   "execution_count": 16,
   "id": "64eff7a5",
   "metadata": {},
   "outputs": [
    {
     "name": "stdout",
     "output_type": "stream",
     "text": [
      "shape: (3, 3)\n",
      "┌──────┬──────┬────────────┐\n",
      "│ col1 ┆ col2 ┆ col3       │\n",
      "│ ---  ┆ ---  ┆ ---        │\n",
      "│ i64  ┆ str  ┆ date       │\n",
      "╞══════╪══════╪════════════╡\n",
      "│ 2    ┆ x    ┆ 2025-01-01 │\n",
      "│ 3    ┆ y    ┆ 2025-01-02 │\n",
      "│ 4    ┆ z    ┆ 2025-01-03 │\n",
      "└──────┴──────┴────────────┘\n"
     ]
    }
   ],
   "source": [
    "print(df.with_columns(pl.col(\"col1\").add(1)))"
   ]
  }
 ],
 "metadata": {
  "kernelspec": {
   "display_name": "venv",
   "language": "python",
   "name": "python3"
  },
  "language_info": {
   "codemirror_mode": {
    "name": "ipython",
    "version": 3
   },
   "file_extension": ".py",
   "mimetype": "text/x-python",
   "name": "python",
   "nbconvert_exporter": "python",
   "pygments_lexer": "ipython3",
   "version": "3.13.7"
  }
 },
 "nbformat": 4,
 "nbformat_minor": 5
}
