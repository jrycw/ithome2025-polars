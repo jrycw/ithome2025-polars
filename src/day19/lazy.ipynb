{
 "cells": [
  {
   "cell_type": "code",
   "execution_count": 1,
   "id": "d117c415",
   "metadata": {},
   "outputs": [],
   "source": [
    "import io\n",
    "import polars as pl\n",
    "\n",
    "data = {\"col1\": [1, 2, 3], \"col2\": [\"x\", \"y\", \"z\"]}\n",
    "df = pl.DataFrame(data)\n",
    "\n",
    "\n",
    "def get_csv_text():\n",
    "    csv_text = \"col1,col2\\n1,x\\n2,y\\n3,z\\n\"\n",
    "    return io.StringIO(csv_text)"
   ]
  },
  {
   "cell_type": "markdown",
   "id": "d4559b99",
   "metadata": {},
   "source": [
    "## 1. How to construct"
   ]
  },
  {
   "cell_type": "markdown",
   "id": "6aed9ac7",
   "metadata": {},
   "source": [
    "### scan_*()"
   ]
  },
  {
   "cell_type": "code",
   "execution_count": 2,
   "id": "dc866a68",
   "metadata": {},
   "outputs": [
    {
     "name": "stdout",
     "output_type": "stream",
     "text": [
      "naive plan: (run LazyFrame.explain(optimized=True) to see the optimized plan)\n",
      "\n",
      "Csv SCAN [22 in-mem bytes]\n",
      "PROJECT */2 COLUMNS\n"
     ]
    }
   ],
   "source": [
    "print(pl.scan_csv(get_csv_text()))"
   ]
  },
  {
   "cell_type": "markdown",
   "id": "4e8d4347",
   "metadata": {},
   "source": [
    "### pl.DataFrame.lazy()"
   ]
  },
  {
   "cell_type": "code",
   "execution_count": 3,
   "id": "637d1c6d",
   "metadata": {},
   "outputs": [
    {
     "name": "stdout",
     "output_type": "stream",
     "text": [
      "naive plan: (run LazyFrame.explain(optimized=True) to see the optimized plan)\n",
      "\n",
      "DF [\"col1\", \"col2\"]; PROJECT */2 COLUMNS\n"
     ]
    }
   ],
   "source": [
    "print(df.lazy())"
   ]
  },
  {
   "cell_type": "markdown",
   "id": "dea88599",
   "metadata": {},
   "source": [
    "## 2. Materialize"
   ]
  },
  {
   "cell_type": "code",
   "execution_count": 4,
   "id": "9d04ae18",
   "metadata": {},
   "outputs": [
    {
     "name": "stdout",
     "output_type": "stream",
     "text": [
      "shape: (3, 2)\n",
      "┌──────┬──────┐\n",
      "│ col1 ┆ col2 │\n",
      "│ ---  ┆ ---  │\n",
      "│ i64  ┆ str  │\n",
      "╞══════╪══════╡\n",
      "│ 1    ┆ x    │\n",
      "│ 2    ┆ y    │\n",
      "│ 3    ┆ z    │\n",
      "└──────┴──────┘\n"
     ]
    }
   ],
   "source": [
    "print(pl.scan_csv(get_csv_text()).collect())"
   ]
  },
  {
   "cell_type": "markdown",
   "id": "fee12834",
   "metadata": {},
   "source": [
    "## 3. Query plan + optimizations + type check"
   ]
  },
  {
   "cell_type": "code",
   "execution_count": 5,
   "id": "57c704e3",
   "metadata": {},
   "outputs": [
    {
     "name": "stdout",
     "output_type": "stream",
     "text": [
      " WITH_COLUMNS:\n",
      " [col(\"col2\").str.uppercase()] \n",
      "  Csv SCAN [22 in-mem bytes]\n",
      "  PROJECT */2 COLUMNS\n",
      "  SELECTION: [(col(\"col1\")) <= (2)]\n"
     ]
    }
   ],
   "source": [
    "q1 = (\n",
    "    pl.scan_csv(get_csv_text())\n",
    "    .with_columns(pl.col(\"col2\").str.to_uppercase())\n",
    "    .filter(pl.col(\"col1\").le(2))\n",
    ")\n",
    "print(q1.explain())"
   ]
  },
  {
   "cell_type": "code",
   "execution_count": 6,
   "id": "7b46855f",
   "metadata": {},
   "outputs": [
    {
     "name": "stdout",
     "output_type": "stream",
     "text": [
      "shape: (2, 2)\n",
      "┌──────┬──────┐\n",
      "│ col1 ┆ col2 │\n",
      "│ ---  ┆ ---  │\n",
      "│ i64  ┆ str  │\n",
      "╞══════╪══════╡\n",
      "│ 1    ┆ X    │\n",
      "│ 2    ┆ Y    │\n",
      "└──────┴──────┘\n"
     ]
    }
   ],
   "source": [
    "print(q1.collect())"
   ]
  },
  {
   "cell_type": "code",
   "execution_count": 7,
   "id": "89171d2a",
   "metadata": {},
   "outputs": [
    {
     "name": "stdout",
     "output_type": "stream",
     "text": [
      "FILTER [(col(\"col1\")) <= (2)]\n",
      "FROM\n",
      "   WITH_COLUMNS:\n",
      "   [col(\"col2\").str.uppercase()] \n",
      "    Csv SCAN [22 in-mem bytes]\n",
      "    PROJECT */2 COLUMNS\n"
     ]
    }
   ],
   "source": [
    "print(q1.explain(optimized=False))"
   ]
  },
  {
   "cell_type": "code",
   "execution_count": 8,
   "id": "2fa7afa9",
   "metadata": {},
   "outputs": [],
   "source": [
    "# ❌\n",
    "# SchemaError: invalid series dtype: expected `String`, got `i64` for series with name `col1`\n",
    "\n",
    "# (\n",
    "#     pl.scan_csv(get_csv_text())\n",
    "#     .with_columns(pl.col(\"col1\").str.to_uppercase())\n",
    "#     .collect()\n",
    "# )"
   ]
  },
  {
   "cell_type": "markdown",
   "id": "e445c6a1",
   "metadata": {},
   "source": [
    "## 4. pl.collect_all()"
   ]
  },
  {
   "cell_type": "code",
   "execution_count": 9,
   "id": "6accacf2",
   "metadata": {},
   "outputs": [
    {
     "name": "stdout",
     "output_type": "stream",
     "text": [
      "[shape: (2, 2)\n",
      "┌──────┬──────┐\n",
      "│ col1 ┆ col2 │\n",
      "│ ---  ┆ ---  │\n",
      "│ i64  ┆ str  │\n",
      "╞══════╪══════╡\n",
      "│ 1    ┆ x    │\n",
      "│ 2    ┆ y    │\n",
      "└──────┴──────┘, shape: (3, 1)\n",
      "┌──────┐\n",
      "│ col2 │\n",
      "│ ---  │\n",
      "│ str  │\n",
      "╞══════╡\n",
      "│ x    │\n",
      "│ y    │\n",
      "│ z    │\n",
      "└──────┘]\n"
     ]
    }
   ],
   "source": [
    "lf1 = pl.scan_csv(get_csv_text())\n",
    "lf1_a = lf1.filter(pl.col(\"col1\").le(2))\n",
    "lf1_b = lf1.select(pl.col(\"col2\"))\n",
    "print(pl.collect_all([lf1_a, lf1_b]))"
   ]
  },
  {
   "cell_type": "markdown",
   "id": "319c2722",
   "metadata": {},
   "source": [
    "## 5. Limitations"
   ]
  },
  {
   "cell_type": "code",
   "execution_count": 10,
   "id": "3d6d4d1c",
   "metadata": {},
   "outputs": [
    {
     "name": "stdout",
     "output_type": "stream",
     "text": [
      "shape: (2, 4)\n",
      "┌─────┬──────┬──────┬──────┐\n",
      "│ id  ┆ jan  ┆ feb  ┆ mar  │\n",
      "│ --- ┆ ---  ┆ ---  ┆ ---  │\n",
      "│ str ┆ i64  ┆ i64  ┆ i64  │\n",
      "╞═════╪══════╪══════╪══════╡\n",
      "│ b   ┆ null ┆ 1    ┆ null │\n",
      "│ c   ┆ null ┆ null ┆ 2    │\n",
      "└─────┴──────┴──────┴──────┘\n"
     ]
    }
   ],
   "source": [
    "print(\n",
    "    pl.LazyFrame({\"id\": [\"a\", \"b\", \"c\"], \"month\": [\"jan\", \"feb\", \"mar\"]})\n",
    "    .with_columns(values=pl.Series([0, 1, 2]))\n",
    "    .collect()\n",
    "    .pivot(\n",
    "        index=\"id\", on=\"month\", values=\"values\", aggregate_function=\"first\"\n",
    "    )\n",
    "    .lazy()\n",
    "    .filter(pl.col(\"jan\").is_null())\n",
    "    .collect()\n",
    ")"
   ]
  },
  {
   "cell_type": "markdown",
   "id": "26a3842e",
   "metadata": {},
   "source": [
    "## 6. Use case"
   ]
  },
  {
   "cell_type": "code",
   "execution_count": 11,
   "id": "b2748655",
   "metadata": {},
   "outputs": [
    {
     "name": "stdout",
     "output_type": "stream",
     "text": [
      "shape: (1, 2)\n",
      "┌──────┬──────┐\n",
      "│ col1 ┆ col2 │\n",
      "│ ---  ┆ ---  │\n",
      "│ i64  ┆ str  │\n",
      "╞══════╪══════╡\n",
      "│ 1    ┆ x    │\n",
      "└──────┴──────┘\n"
     ]
    }
   ],
   "source": [
    "print(pl.read_csv(get_csv_text()).head(1))"
   ]
  },
  {
   "cell_type": "code",
   "execution_count": 12,
   "id": "ddef85dc",
   "metadata": {},
   "outputs": [
    {
     "name": "stdout",
     "output_type": "stream",
     "text": [
      "shape: (1, 2)\n",
      "┌──────┬──────┐\n",
      "│ col1 ┆ col2 │\n",
      "│ ---  ┆ ---  │\n",
      "│ i64  ┆ str  │\n",
      "╞══════╪══════╡\n",
      "│ 1    ┆ x    │\n",
      "└──────┴──────┘\n"
     ]
    }
   ],
   "source": [
    "# better\n",
    "print(pl.scan_csv(get_csv_text()).head(1).collect())"
   ]
  }
 ],
 "metadata": {
  "kernelspec": {
   "display_name": "venv",
   "language": "python",
   "name": "python3"
  },
  "language_info": {
   "codemirror_mode": {
    "name": "ipython",
    "version": 3
   },
   "file_extension": ".py",
   "mimetype": "text/x-python",
   "name": "python",
   "nbconvert_exporter": "python",
   "pygments_lexer": "ipython3",
   "version": "3.13.7"
  }
 },
 "nbformat": 4,
 "nbformat_minor": 5
}
