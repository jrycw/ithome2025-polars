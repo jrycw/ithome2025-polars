{
 "cells": [
  {
   "cell_type": "code",
   "execution_count": 1,
   "id": "74438322",
   "metadata": {},
   "outputs": [
    {
     "name": "stdout",
     "output_type": "stream",
     "text": [
      "shape: (3, 2)\n",
      "┌──────┬──────┐\n",
      "│ col1 ┆ col2 │\n",
      "│ ---  ┆ ---  │\n",
      "│ i64  ┆ str  │\n",
      "╞══════╪══════╡\n",
      "│ 1    ┆ x    │\n",
      "│ 2    ┆ y    │\n",
      "│ 3    ┆ z    │\n",
      "└──────┴──────┘\n"
     ]
    }
   ],
   "source": [
    "from typing import Callable, Literal\n",
    "import pandas as pd\n",
    "import polars as pl\n",
    "\n",
    "df = pl.DataFrame({\"col1\": [1, 2, 3], \"col2\": [\"x\", \"y\", \"z\"]})\n",
    "print(df)"
   ]
  },
  {
   "cell_type": "code",
   "execution_count": 2,
   "id": "ffefd6e1",
   "metadata": {},
   "outputs": [
    {
     "name": "stdout",
     "output_type": "stream",
     "text": [
      "shape: (3, 2)\n",
      "┌───────┬───────┐\n",
      "│ col 1 ┆ col 2 │\n",
      "│ ---   ┆ ---   │\n",
      "│ i64   ┆ str   │\n",
      "╞═══════╪═══════╡\n",
      "│ 1     ┆ x     │\n",
      "│ 2     ┆ y     │\n",
      "│ 3     ┆ z     │\n",
      "└───────┴───────┘\n"
     ]
    }
   ],
   "source": [
    "df2 = pl.DataFrame({\"col 1\": [1, 2, 3], \"col 2\": [\"x\", \"y\", \"z\"]})\n",
    "print(df2)"
   ]
  },
  {
   "cell_type": "markdown",
   "id": "5c0d63f0",
   "metadata": {},
   "source": [
    "## pl.when().then().otherwise()"
   ]
  },
  {
   "cell_type": "code",
   "execution_count": 3,
   "id": "6ee0667d",
   "metadata": {},
   "outputs": [
    {
     "name": "stdout",
     "output_type": "stream",
     "text": [
      "shape: (3, 3)\n",
      "┌──────┬──────┬──────┐\n",
      "│ col1 ┆ col2 ┆ col3 │\n",
      "│ ---  ┆ ---  ┆ ---  │\n",
      "│ i64  ┆ str  ┆ i64  │\n",
      "╞══════╪══════╪══════╡\n",
      "│ 1    ┆ x    ┆ 101  │\n",
      "│ 2    ┆ y    ┆ 202  │\n",
      "│ 3    ┆ z    ┆ 303  │\n",
      "└──────┴──────┴──────┘\n"
     ]
    }
   ],
   "source": [
    "print(\n",
    "    df.with_columns(\n",
    "        pl.when(pl.col(\"col1\").le(1))\n",
    "        .then(pl.col(\"col1\").add(100))\n",
    "        .when(pl.col(\"col1\").ge(3))\n",
    "        .then(pl.col(\"col1\").add(300))\n",
    "        .otherwise(pl.col(\"col1\").add(200))\n",
    "        .alias(\"col3\")\n",
    "    )\n",
    ")"
   ]
  },
  {
   "cell_type": "code",
   "execution_count": 4,
   "id": "075a9857",
   "metadata": {},
   "outputs": [],
   "source": [
    "cond = (\n",
    "    pl.when(pl.col(\"col1\").le(1))\n",
    "    .then(pl.col(\"col1\").add(100))\n",
    "    .when(pl.col(\"col1\").ge(3))\n",
    "    .then(pl.col(\"col1\").add(300))\n",
    "    .otherwise(pl.col(\"col1\").add(200))\n",
    "    .alias(\"col3\")\n",
    ")"
   ]
  },
  {
   "cell_type": "code",
   "execution_count": 5,
   "id": "3888ed00",
   "metadata": {},
   "outputs": [
    {
     "name": "stdout",
     "output_type": "stream",
     "text": [
      "shape: (3, 3)\n",
      "┌──────┬──────┬──────┐\n",
      "│ col1 ┆ col2 ┆ col3 │\n",
      "│ ---  ┆ ---  ┆ ---  │\n",
      "│ i64  ┆ str  ┆ i64  │\n",
      "╞══════╪══════╪══════╡\n",
      "│ 1    ┆ x    ┆ 101  │\n",
      "│ 2    ┆ y    ┆ 202  │\n",
      "│ 3    ┆ z    ┆ 303  │\n",
      "└──────┴──────┴──────┘\n"
     ]
    }
   ],
   "source": [
    "print(df.with_columns(cond))"
   ]
  },
  {
   "cell_type": "code",
   "execution_count": 6,
   "id": "9574a0ad",
   "metadata": {},
   "outputs": [
    {
     "name": "stdout",
     "output_type": "stream",
     "text": [
      "shape: (3, 3)\n",
      "┌──────┬──────┬──────┐\n",
      "│ col1 ┆ col2 ┆ col3 │\n",
      "│ ---  ┆ ---  ┆ ---  │\n",
      "│ i64  ┆ str  ┆ str  │\n",
      "╞══════╪══════╪══════╡\n",
      "│ 1    ┆ x    ┆ a    │\n",
      "│ 2    ┆ y    ┆ b    │\n",
      "│ 3    ┆ z    ┆ c    │\n",
      "└──────┴──────┴──────┘\n"
     ]
    }
   ],
   "source": [
    "print(\n",
    "    df.with_columns(\n",
    "        pl.when(pl.col(\"col1\").eq(1))\n",
    "        .then(pl.lit(\"a\"))\n",
    "        .when(pl.col(\"col1\").eq(2))\n",
    "        .then(pl.lit(\"b\"))\n",
    "        .when(pl.col(\"col1\").eq(3))\n",
    "        .then(pl.lit(\"c\"))\n",
    "        .alias(\"col3\")\n",
    "    )\n",
    ")"
   ]
  },
  {
   "cell_type": "markdown",
   "id": "a52743c7",
   "metadata": {},
   "source": [
    "## replace(), replace_strict()"
   ]
  },
  {
   "cell_type": "code",
   "execution_count": 7,
   "id": "a5a986c9",
   "metadata": {},
   "outputs": [
    {
     "name": "stdout",
     "output_type": "stream",
     "text": [
      "shape: (3, 3)\n",
      "┌──────┬──────┬──────┐\n",
      "│ col1 ┆ col2 ┆ col3 │\n",
      "│ ---  ┆ ---  ┆ ---  │\n",
      "│ i64  ┆ str  ┆ str  │\n",
      "╞══════╪══════╪══════╡\n",
      "│ 1    ┆ x    ┆ a    │\n",
      "│ 2    ┆ y    ┆ b    │\n",
      "│ 3    ┆ z    ┆ c    │\n",
      "└──────┴──────┴──────┘\n"
     ]
    }
   ],
   "source": [
    "# replace\n",
    "print(\n",
    "    df.with_columns(\n",
    "        pl.col(\"col2\")\n",
    "        .replace({\"x\": \"a\", \"y\": \"b\", \"z\": \"c\"})\n",
    "        .alias(\"col3\")\n",
    "    )\n",
    ")"
   ]
  },
  {
   "cell_type": "code",
   "execution_count": 8,
   "id": "21bd95c3",
   "metadata": {},
   "outputs": [
    {
     "name": "stdout",
     "output_type": "stream",
     "text": [
      "shape: (3, 3)\n",
      "┌──────┬──────┬──────┐\n",
      "│ col1 ┆ col2 ┆ col3 │\n",
      "│ ---  ┆ ---  ┆ ---  │\n",
      "│ i64  ┆ str  ┆ i64  │\n",
      "╞══════╪══════╪══════╡\n",
      "│ 1    ┆ x    ┆ 4    │\n",
      "│ 2    ┆ y    ┆ 5    │\n",
      "│ 3    ┆ z    ┆ 6    │\n",
      "└──────┴──────┴──────┘\n"
     ]
    }
   ],
   "source": [
    "# replace_strict\n",
    "print(\n",
    "    df.with_columns(\n",
    "        pl.col(\"col2\")\n",
    "        .replace_strict({\"x\": 4, \"y\": 5}, default=6, return_dtype=pl.Int64)\n",
    "        .alias(\"col3\")\n",
    "    )\n",
    ")"
   ]
  },
  {
   "cell_type": "markdown",
   "id": "be91bef7",
   "metadata": {},
   "source": [
    "## pl.concat_str()"
   ]
  },
  {
   "cell_type": "code",
   "execution_count": 9,
   "id": "acae54e37e7d407bbb7b55eff062a284",
   "metadata": {},
   "outputs": [
    {
     "name": "stdout",
     "output_type": "stream",
     "text": [
      "shape: (3, 3)\n",
      "┌──────┬──────┬──────┐\n",
      "│ col1 ┆ col2 ┆ col3 │\n",
      "│ ---  ┆ ---  ┆ ---  │\n",
      "│ i64  ┆ str  ┆ str  │\n",
      "╞══════╪══════╪══════╡\n",
      "│ 1    ┆ x    ┆ 1x   │\n",
      "│ 2    ┆ y    ┆ 2y   │\n",
      "│ 3    ┆ z    ┆ 3z   │\n",
      "└──────┴──────┴──────┘\n"
     ]
    }
   ],
   "source": [
    "print(df.with_columns(pl.concat_str(pl.all()).alias(\"col3\")))"
   ]
  },
  {
   "cell_type": "markdown",
   "id": "d3d45046",
   "metadata": {},
   "source": [
    "## pl.concat_list()"
   ]
  },
  {
   "cell_type": "code",
   "execution_count": 10,
   "id": "c28ec909",
   "metadata": {},
   "outputs": [
    {
     "name": "stdout",
     "output_type": "stream",
     "text": [
      "shape: (3, 3)\n",
      "┌──────┬──────┬────────────┐\n",
      "│ col1 ┆ col2 ┆ col3       │\n",
      "│ ---  ┆ ---  ┆ ---        │\n",
      "│ i64  ┆ str  ┆ list[str]  │\n",
      "╞══════╪══════╪════════════╡\n",
      "│ 1    ┆ x    ┆ [\"1\", \"x\"] │\n",
      "│ 2    ┆ y    ┆ [\"2\", \"y\"] │\n",
      "│ 3    ┆ z    ┆ [\"3\", \"z\"] │\n",
      "└──────┴──────┴────────────┘\n"
     ]
    }
   ],
   "source": [
    "print(df.with_columns(pl.concat_list(pl.all()).alias(\"col3\")))"
   ]
  },
  {
   "cell_type": "code",
   "execution_count": 11,
   "id": "303af6e6",
   "metadata": {},
   "outputs": [
    {
     "name": "stdout",
     "output_type": "stream",
     "text": [
      "shape: (3, 3)\n",
      "┌───────────┬───────────┬────────────┐\n",
      "│ col1      ┆ col2      ┆ col3       │\n",
      "│ ---       ┆ ---       ┆ ---        │\n",
      "│ list[i64] ┆ list[str] ┆ list[str]  │\n",
      "╞═══════════╪═══════════╪════════════╡\n",
      "│ [1]       ┆ [\"x\"]     ┆ [\"1\", \"x\"] │\n",
      "│ [2]       ┆ [\"y\"]     ┆ [\"2\", \"y\"] │\n",
      "│ [3]       ┆ [\"z\"]     ┆ [\"3\", \"z\"] │\n",
      "└───────────┴───────────┴────────────┘\n"
     ]
    }
   ],
   "source": [
    "print(\n",
    "    df.with_columns(\n",
    "        pl.concat_list(col) for col in df.columns\n",
    "    ).with_columns(pl.concat_list(pl.all()).alias(\"col3\"))\n",
    ")"
   ]
  },
  {
   "cell_type": "code",
   "execution_count": 12,
   "id": "a323570b",
   "metadata": {},
   "outputs": [
    {
     "name": "stdout",
     "output_type": "stream",
     "text": [
      "shape: (3, 2)\n",
      "┌──────┬────────────┐\n",
      "│ col3 ┆ col4       │\n",
      "│ ---  ┆ ---        │\n",
      "│ str  ┆ list[str]  │\n",
      "╞══════╪════════════╡\n",
      "│ 1x   ┆ [\"1\", \"x\"] │\n",
      "│ 2y   ┆ [\"2\", \"y\"] │\n",
      "│ 3z   ┆ [\"3\", \"z\"] │\n",
      "└──────┴────────────┘\n"
     ]
    }
   ],
   "source": [
    "print(\n",
    "    df.select(pl.concat_str(pl.all()).alias(\"col3\")).with_columns(\n",
    "        pl.col(\"col3\").str.split(\"\").alias(\"col4\")\n",
    "    )\n",
    ")"
   ]
  },
  {
   "cell_type": "markdown",
   "id": "5c8a39a4",
   "metadata": {},
   "source": [
    "## df.pipe()"
   ]
  },
  {
   "cell_type": "code",
   "execution_count": 13,
   "id": "24a43189",
   "metadata": {},
   "outputs": [
    {
     "name": "stdout",
     "output_type": "stream",
     "text": [
      "shape: (3, 2)\n",
      "┌──────┬──────┐\n",
      "│ Col1 ┆ Col2 │\n",
      "│ ---  ┆ ---  │\n",
      "│ i64  ┆ str  │\n",
      "╞══════╪══════╡\n",
      "│ 1    ┆ x    │\n",
      "│ 2    ┆ y    │\n",
      "│ 3    ┆ z    │\n",
      "└──────┴──────┘\n"
     ]
    }
   ],
   "source": [
    "def fmt_col(df_: pl.DataFrame) -> pl.DataFrame:\n",
    "    df_.columns = [\"\".join(c.split()).capitalize() for c in df_.columns]\n",
    "    return df_\n",
    "\n",
    "\n",
    "print(df2.pipe(fmt_col))"
   ]
  },
  {
   "cell_type": "code",
   "execution_count": 14,
   "id": "73ee69e3",
   "metadata": {},
   "outputs": [
    {
     "name": "stdout",
     "output_type": "stream",
     "text": [
      "shape: (3, 2)\n",
      "┌──────┬──────┐\n",
      "│ Col1 ┆ Col2 │\n",
      "│ ---  ┆ ---  │\n",
      "│ i64  ┆ str  │\n",
      "╞══════╪══════╡\n",
      "│ 1    ┆ x    │\n",
      "│ 2    ┆ y    │\n",
      "│ 3    ┆ z    │\n",
      "└──────┴──────┘\n"
     ]
    }
   ],
   "source": [
    "def fmt_col2(\n",
    "    df_, fmt_type: Literal[\"upper\", \"lower\", \"capitalize\"] | None = None\n",
    ") -> pl.DataFrame:\n",
    "    fmt_func: Callable[[str], str] = lambda x: x\n",
    "    if fmt_type in {\"upper\", \"lower\", \"capitalize\"}:\n",
    "        fmt_func = getattr(str, fmt_type)\n",
    "\n",
    "    df_.columns = [fmt_func(\"\".join(c.split())) for c in df_.columns]\n",
    "    return df_\n",
    "\n",
    "\n",
    "print(df2.pipe(fmt_col2, fmt_type=\"capitalize\"))"
   ]
  },
  {
   "cell_type": "markdown",
   "id": "d42f586d",
   "metadata": {},
   "source": [
    "## codepanda"
   ]
  },
  {
   "cell_type": "markdown",
   "id": "5f1bea95",
   "metadata": {},
   "source": [
    "### case_when()"
   ]
  },
  {
   "cell_type": "code",
   "execution_count": 15,
   "id": "f55f8b16",
   "metadata": {},
   "outputs": [
    {
     "data": {
      "text/html": [
       "<div><style>\n",
       ".dataframe > thead > tr,\n",
       ".dataframe > tbody > tr {\n",
       "  text-align: right;\n",
       "  white-space: pre-wrap;\n",
       "}\n",
       "</style>\n",
       "<small>shape: (3, 2)</small><table border=\"1\" class=\"dataframe\"><thead><tr><th>col1</th><th>col2</th></tr><tr><td>i64</td><td>str</td></tr></thead><tbody><tr><td>1</td><td>&quot;x&quot;</td></tr><tr><td>2</td><td>&quot;y&quot;</td></tr><tr><td>3</td><td>&quot;z&quot;</td></tr></tbody></table></div>"
      ],
      "text/plain": [
       "shape: (3, 2)\n",
       "┌──────┬──────┐\n",
       "│ col1 ┆ col2 │\n",
       "│ ---  ┆ ---  │\n",
       "│ i64  ┆ str  │\n",
       "╞══════╪══════╡\n",
       "│ 1    ┆ x    │\n",
       "│ 2    ┆ y    │\n",
       "│ 3    ┆ z    │\n",
       "└──────┴──────┘"
      ]
     },
     "execution_count": 15,
     "metadata": {},
     "output_type": "execute_result"
    }
   ],
   "source": [
    "df"
   ]
  },
  {
   "cell_type": "code",
   "execution_count": 16,
   "id": "91b9cdbe",
   "metadata": {},
   "outputs": [
    {
     "name": "stdout",
     "output_type": "stream",
     "text": [
      "shape: (3, 3)\n",
      "┌──────┬──────┬──────┐\n",
      "│ col1 ┆ col2 ┆ col3 │\n",
      "│ ---  ┆ ---  ┆ ---  │\n",
      "│ i64  ┆ str  ┆ i64  │\n",
      "╞══════╪══════╪══════╡\n",
      "│ 1    ┆ x    ┆ 101  │\n",
      "│ 2    ┆ y    ┆ 202  │\n",
      "│ 3    ┆ z    ┆ 303  │\n",
      "└──────┴──────┴──────┘\n"
     ]
    }
   ],
   "source": [
    "print(\n",
    "    df.with_columns(\n",
    "        pl.when(pl.col(\"col1\").le(1))\n",
    "        .then(pl.col(\"col1\").add(100))\n",
    "        .when(pl.col(\"col1\").ge(3))\n",
    "        .then(pl.col(\"col1\").add(300))\n",
    "        .otherwise(pl.col(\"col1\").add(200))\n",
    "        .alias(\"col3\")\n",
    "    )\n",
    ")"
   ]
  },
  {
   "cell_type": "code",
   "execution_count": 17,
   "id": "779788ec",
   "metadata": {},
   "outputs": [
    {
     "name": "stdout",
     "output_type": "stream",
     "text": [
      "   col1 col2  col3\n",
      "0     1    x   101\n",
      "1     2    y   202\n",
      "2     3    z   303\n"
     ]
    }
   ],
   "source": [
    "df_pd = pd.DataFrame({\"col1\": [1, 2, 3], \"col2\": [\"x\", \"y\", \"z\"]})\n",
    "\n",
    "print(\n",
    "    df_pd.assign(\n",
    "        col3=lambda df_: df_.col1.case_when(\n",
    "            [\n",
    "                (df_.col1.le(1), df_.col1.add(100)),\n",
    "                (df_.col1.ge(3), df_.col1.add(300)),\n",
    "                ((~df_.col1.le(1)) & (~df_.col1.ge(3)), df_.col1.add(200)),\n",
    "            ]\n",
    "        )\n",
    "    )\n",
    ")"
   ]
  },
  {
   "cell_type": "markdown",
   "id": "4bd68ba4",
   "metadata": {},
   "source": [
    "## Remarks"
   ]
  },
  {
   "cell_type": "markdown",
   "id": "b6fad162",
   "metadata": {},
   "source": [
    "### Remark1"
   ]
  },
  {
   "cell_type": "code",
   "execution_count": 18,
   "id": "8a645c4c",
   "metadata": {},
   "outputs": [
    {
     "name": "stdout",
     "output_type": "stream",
     "text": [
      "shape: (3, 2)\n",
      "┌──────┬──────┐\n",
      "│ Col1 ┆ Col2 │\n",
      "│ ---  ┆ ---  │\n",
      "│ i64  ┆ str  │\n",
      "╞══════╪══════╡\n",
      "│ 1    ┆ x    │\n",
      "│ 2    ┆ y    │\n",
      "│ 3    ┆ z    │\n",
      "└──────┴──────┘\n"
     ]
    }
   ],
   "source": [
    "print(\n",
    "    df2.select(\n",
    "        pl.all().name.map(lambda c: \"\".join(c.split()).capitalize())\n",
    "    )\n",
    ")"
   ]
  }
 ],
 "metadata": {
  "kernelspec": {
   "display_name": "venv",
   "language": "python",
   "name": "python3"
  },
  "language_info": {
   "codemirror_mode": {
    "name": "ipython",
    "version": 3
   },
   "file_extension": ".py",
   "mimetype": "text/x-python",
   "name": "python",
   "nbconvert_exporter": "python",
   "pygments_lexer": "ipython3",
   "version": "3.13.7"
  }
 },
 "nbformat": 4,
 "nbformat_minor": 5
}
