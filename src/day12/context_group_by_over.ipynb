{
 "cells": [
  {
   "cell_type": "code",
   "execution_count": 1,
   "metadata": {},
   "outputs": [
    {
     "name": "stdout",
     "output_type": "stream",
     "text": [
      "shape: (6, 4)\n",
      "┌──────────┬─────────┬────────┬──────────────┐\n",
      "│ name     ┆ has_pet ┆ gender ┆ lucky_number │\n",
      "│ ---      ┆ ---     ┆ ---    ┆ ---          │\n",
      "│ str      ┆ str     ┆ str    ┆ i64          │\n",
      "╞══════════╪═════════╪════════╪══════════════╡\n",
      "│ Tom      ┆ Y       ┆ M      ┆ 19           │\n",
      "│ Lisa     ┆ N       ┆ F      ┆ 25           │\n",
      "│ John     ┆ Y       ┆ M      ┆ 36           │\n",
      "│ Vincent  ┆ Y       ┆ M      ┆ 7            │\n",
      "│ Mary     ┆ Y       ┆ F      ┆ 2            │\n",
      "│ Caroline ┆ N       ┆ F      ┆ 91           │\n",
      "└──────────┴─────────┴────────┴──────────────┘\n"
     ]
    }
   ],
   "source": [
    "import pandas as pd\n",
    "import polars as pl\n",
    "\n",
    "data = {\n",
    "    \"name\": [\"Tom\", \"Lisa\", \"John\", \"Vincent\", \"Mary\", \"Caroline\"],\n",
    "    \"has_pet\": [\"Y\", \"N\", \"Y\", \"Y\", \"Y\", \"N\"],\n",
    "    \"gender\": [\"M\", \"F\", \"M\", \"M\", \"F\", \"F\"],\n",
    "    \"lucky_number\": [19, 25, 36, 7, 2, 91],\n",
    "}\n",
    "df = pl.DataFrame(data)\n",
    "print(df)"
   ]
  },
  {
   "cell_type": "markdown",
   "metadata": {},
   "source": [
    "## Basic"
   ]
  },
  {
   "cell_type": "code",
   "execution_count": 2,
   "metadata": {},
   "outputs": [
    {
     "name": "stdout",
     "output_type": "stream",
     "text": [
      "shape: (2, 3)\n",
      "┌─────────┬─────┬──────────────┐\n",
      "│ has_pet ┆ len ┆ lucky_number │\n",
      "│ ---     ┆ --- ┆ ---          │\n",
      "│ str     ┆ u32 ┆ i64          │\n",
      "╞═════════╪═════╪══════════════╡\n",
      "│ Y       ┆ 4   ┆ 36           │\n",
      "│ N       ┆ 2   ┆ 91           │\n",
      "└─────────┴─────┴──────────────┘\n"
     ]
    }
   ],
   "source": [
    "print(df.group_by(\"has_pet\").agg(pl.len(), pl.max(\"lucky_number\")))"
   ]
  },
  {
   "cell_type": "code",
   "execution_count": 3,
   "metadata": {},
   "outputs": [
    {
     "name": "stdout",
     "output_type": "stream",
     "text": [
      "shape: (4, 3)\n",
      "┌─────────┬─────┬──────────────────────────┐\n",
      "│ n_chars ┆ len ┆ name                     │\n",
      "│ ---     ┆ --- ┆ ---                      │\n",
      "│ u32     ┆ u32 ┆ list[str]                │\n",
      "╞═════════╪═════╪══════════════════════════╡\n",
      "│ 3       ┆ 1   ┆ [\"Tom\"]                  │\n",
      "│ 4       ┆ 3   ┆ [\"Lisa\", \"John\", \"Mary\"] │\n",
      "│ 7       ┆ 1   ┆ [\"Vincent\"]              │\n",
      "│ 8       ┆ 1   ┆ [\"Caroline\"]             │\n",
      "└─────────┴─────┴──────────────────────────┘\n"
     ]
    }
   ],
   "source": [
    "print(\n",
    "    df.group_by(pl.col(\"name\").str.len_bytes().alias(\"n_chars\"))\n",
    "    .agg(pl.len(), pl.col(\"name\"))\n",
    "    .sort(\"n_chars\")\n",
    ")"
   ]
  },
  {
   "cell_type": "markdown",
   "metadata": {},
   "source": [
    "## Conditional and filter"
   ]
  },
  {
   "cell_type": "code",
   "execution_count": 4,
   "metadata": {},
   "outputs": [
    {
     "name": "stdout",
     "output_type": "stream",
     "text": [
      "shape: (2, 3)\n",
      "┌────────┬──────┬───────┐\n",
      "│ gender ┆ lt20 ┆ ~lt20 │\n",
      "│ ---    ┆ ---  ┆ ---   │\n",
      "│ str    ┆ u32  ┆ u32   │\n",
      "╞════════╪══════╪═══════╡\n",
      "│ M      ┆ 2    ┆ 1     │\n",
      "│ F      ┆ 1    ┆ 2     │\n",
      "└────────┴──────┴───────┘\n"
     ]
    }
   ],
   "source": [
    "lt20 = pl.col(\"lucky_number\").lt(20)\n",
    "\n",
    "print(\n",
    "    df.group_by(\"gender\").agg(\n",
    "        lt20.sum().alias(\"lt20\"), lt20.not_().sum().alias(\"~lt20\")\n",
    "    )\n",
    ")"
   ]
  },
  {
   "cell_type": "code",
   "execution_count": 5,
   "metadata": {},
   "outputs": [
    {
     "name": "stdout",
     "output_type": "stream",
     "text": [
      "shape: (2, 2)\n",
      "┌────────┬────────────────────┐\n",
      "│ gender ┆ name               │\n",
      "│ ---    ┆ ---                │\n",
      "│ str    ┆ list[str]          │\n",
      "╞════════╪════════════════════╡\n",
      "│ F      ┆ [\"Mary\"]           │\n",
      "│ M      ┆ [\"Tom\", \"Vincent\"] │\n",
      "└────────┴────────────────────┘\n"
     ]
    }
   ],
   "source": [
    "print(\n",
    "    df.group_by(\"gender\").agg(\n",
    "        pl.col(\"name\").filter(pl.col(\"lucky_number\").lt(20))\n",
    "    )\n",
    ")"
   ]
  },
  {
   "cell_type": "markdown",
   "metadata": {},
   "source": [
    "## Multiple columns or exprs"
   ]
  },
  {
   "cell_type": "code",
   "execution_count": 6,
   "metadata": {},
   "outputs": [
    {
     "name": "stdout",
     "output_type": "stream",
     "text": [
      "shape: (3, 3)\n",
      "┌─────────┬────────┬────────────────────────────┐\n",
      "│ has_pet ┆ gender ┆ name                       │\n",
      "│ ---     ┆ ---    ┆ ---                        │\n",
      "│ str     ┆ str    ┆ list[str]                  │\n",
      "╞═════════╪════════╪════════════════════════════╡\n",
      "│ Y       ┆ M      ┆ [\"Tom\", \"John\", \"Vincent\"] │\n",
      "│ N       ┆ F      ┆ [\"Lisa\", \"Caroline\"]       │\n",
      "│ Y       ┆ F      ┆ [\"Mary\"]                   │\n",
      "└─────────┴────────┴────────────────────────────┘\n"
     ]
    }
   ],
   "source": [
    "print(\n",
    "    df.group_by(\"has_pet\", \"gender\", maintain_order=True).agg(\n",
    "        pl.col(\"name\")\n",
    "    )\n",
    ")"
   ]
  },
  {
   "cell_type": "markdown",
   "metadata": {},
   "source": [
    "## Shortcut"
   ]
  },
  {
   "cell_type": "code",
   "execution_count": 7,
   "metadata": {},
   "outputs": [
    {
     "name": "stdout",
     "output_type": "stream",
     "text": [
      "shape: (2, 2)\n",
      "┌─────────┬─────┐\n",
      "│ has_pet ┆ len │\n",
      "│ ---     ┆ --- │\n",
      "│ str     ┆ u32 │\n",
      "╞═════════╪═════╡\n",
      "│ Y       ┆ 4   │\n",
      "│ N       ┆ 2   │\n",
      "└─────────┴─────┘\n"
     ]
    }
   ],
   "source": [
    "print(df.group_by(\"has_pet\", maintain_order=True).agg(pl.len()))"
   ]
  },
  {
   "cell_type": "code",
   "execution_count": 8,
   "metadata": {},
   "outputs": [
    {
     "name": "stdout",
     "output_type": "stream",
     "text": [
      "shape: (2, 2)\n",
      "┌─────────┬─────┐\n",
      "│ has_pet ┆ len │\n",
      "│ ---     ┆ --- │\n",
      "│ str     ┆ u32 │\n",
      "╞═════════╪═════╡\n",
      "│ Y       ┆ 4   │\n",
      "│ N       ┆ 2   │\n",
      "└─────────┴─────┘\n"
     ]
    }
   ],
   "source": [
    "print(df.group_by(\"has_pet\", maintain_order=True).len())"
   ]
  },
  {
   "cell_type": "markdown",
   "metadata": {},
   "source": [
    "## Window function: pl.Expr.over()"
   ]
  },
  {
   "cell_type": "code",
   "execution_count": 9,
   "metadata": {},
   "outputs": [
    {
     "name": "stdout",
     "output_type": "stream",
     "text": [
      "shape: (6, 4)\n",
      "┌──────────┬─────────┬────────┬──────────────┐\n",
      "│ name     ┆ has_pet ┆ gender ┆ lucky_number │\n",
      "│ ---      ┆ ---     ┆ ---    ┆ ---          │\n",
      "│ str      ┆ str     ┆ str    ┆ i64          │\n",
      "╞══════════╪═════════╪════════╪══════════════╡\n",
      "│ Tom      ┆ Y       ┆ M      ┆ 19           │\n",
      "│ Lisa     ┆ N       ┆ F      ┆ 25           │\n",
      "│ John     ┆ Y       ┆ M      ┆ 36           │\n",
      "│ Vincent  ┆ Y       ┆ M      ┆ 7            │\n",
      "│ Mary     ┆ Y       ┆ F      ┆ 2            │\n",
      "│ Caroline ┆ N       ┆ F      ┆ 91           │\n",
      "└──────────┴─────────┴────────┴──────────────┘\n"
     ]
    }
   ],
   "source": [
    "print(df)"
   ]
  },
  {
   "cell_type": "code",
   "execution_count": 10,
   "metadata": {},
   "outputs": [
    {
     "name": "stdout",
     "output_type": "stream",
     "text": [
      "shape: (6, 5)\n",
      "┌──────────┬─────────┬────────┬──────────────┬────────────────┐\n",
      "│ name     ┆ has_pet ┆ gender ┆ lucky_number ┆ rank_by_gender │\n",
      "│ ---      ┆ ---     ┆ ---    ┆ ---          ┆ ---            │\n",
      "│ str      ┆ str     ┆ str    ┆ i64          ┆ u32            │\n",
      "╞══════════╪═════════╪════════╪══════════════╪════════════════╡\n",
      "│ Tom      ┆ Y       ┆ M      ┆ 19           ┆ 2              │\n",
      "│ Lisa     ┆ N       ┆ F      ┆ 25           ┆ 2              │\n",
      "│ John     ┆ Y       ┆ M      ┆ 36           ┆ 3              │\n",
      "│ Vincent  ┆ Y       ┆ M      ┆ 7            ┆ 1              │\n",
      "│ Mary     ┆ Y       ┆ F      ┆ 2            ┆ 1              │\n",
      "│ Caroline ┆ N       ┆ F      ┆ 91           ┆ 3              │\n",
      "└──────────┴─────────┴────────┴──────────────┴────────────────┘\n"
     ]
    }
   ],
   "source": [
    "print(\n",
    "    df.with_columns(\n",
    "        pl.col(\"lucky_number\")\n",
    "        .rank(\"ordinal\")\n",
    "        .over(\"gender\")\n",
    "        .alias(\"rank_by_gender\")\n",
    "    )\n",
    ")"
   ]
  },
  {
   "cell_type": "code",
   "execution_count": 11,
   "metadata": {},
   "outputs": [
    {
     "name": "stdout",
     "output_type": "stream",
     "text": [
      "shape: (6, 5)\n",
      "┌──────────┬─────────┬────────┬──────────────┬────────────────┐\n",
      "│ name     ┆ has_pet ┆ gender ┆ lucky_number ┆ rank_by_gender │\n",
      "│ ---      ┆ ---     ┆ ---    ┆ ---          ┆ ---            │\n",
      "│ str      ┆ str     ┆ str    ┆ i64          ┆ u32            │\n",
      "╞══════════╪═════════╪════════╪══════════════╪════════════════╡\n",
      "│ Tom      ┆ Y       ┆ M      ┆ 19           ┆ 2              │\n",
      "│ John     ┆ Y       ┆ M      ┆ 36           ┆ 3              │\n",
      "│ Vincent  ┆ Y       ┆ M      ┆ 7            ┆ 1              │\n",
      "│ Lisa     ┆ N       ┆ F      ┆ 25           ┆ 2              │\n",
      "│ Mary     ┆ Y       ┆ F      ┆ 2            ┆ 1              │\n",
      "│ Caroline ┆ N       ┆ F      ┆ 91           ┆ 3              │\n",
      "└──────────┴─────────┴────────┴──────────────┴────────────────┘\n"
     ]
    }
   ],
   "source": [
    "print(\n",
    "    df.group_by(\"gender\", maintain_order=True)\n",
    "    .agg(\n",
    "        pl.col(\"lucky_number\").rank(\"ordinal\").alias(\"rank_by_gender\"),\n",
    "        pl.all(),\n",
    "    )\n",
    "    .explode(pl.all().exclude(\"gender\"))\n",
    "    .select([*df.columns, \"rank_by_gender\"])\n",
    ")"
   ]
  },
  {
   "cell_type": "code",
   "execution_count": 12,
   "metadata": {},
   "outputs": [
    {
     "name": "stdout",
     "output_type": "stream",
     "text": [
      "shape: (6, 3)\n",
      "┌──────────┬────────┬──────┐\n",
      "│ name     ┆ gender ┆ rank │\n",
      "│ ---      ┆ ---    ┆ ---  │\n",
      "│ str      ┆ str    ┆ u32  │\n",
      "╞══════════╪════════╪══════╡\n",
      "│ Tom      ┆ M      ┆ 5    │\n",
      "│ Lisa     ┆ F      ┆ 6    │\n",
      "│ John     ┆ M      ┆ 4    │\n",
      "│ Vincent  ┆ M      ┆ 1    │\n",
      "│ Mary     ┆ F      ┆ 2    │\n",
      "│ Caroline ┆ F      ┆ 3    │\n",
      "└──────────┴────────┴──────┘\n"
     ]
    }
   ],
   "source": [
    "df2 = df.with_columns(\n",
    "    pl.Series(\"rank\", [5, 6, 4, 1, 2, 3], dtype=pl.UInt32)\n",
    ").select(\"name\", \"gender\", \"rank\")\n",
    "print(df2)"
   ]
  },
  {
   "cell_type": "code",
   "execution_count": 13,
   "metadata": {},
   "outputs": [
    {
     "name": "stdout",
     "output_type": "stream",
     "text": [
      "shape: (6, 3)\n",
      "┌──────────┬────────┬──────┐\n",
      "│ name     ┆ gender ┆ rank │\n",
      "│ ---      ┆ ---    ┆ ---  │\n",
      "│ str      ┆ str    ┆ u32  │\n",
      "╞══════════╪════════╪══════╡\n",
      "│ Vincent  ┆ M      ┆ 1    │\n",
      "│ John     ┆ M      ┆ 4    │\n",
      "│ Tom      ┆ M      ┆ 5    │\n",
      "│ Mary     ┆ F      ┆ 2    │\n",
      "│ Caroline ┆ F      ┆ 3    │\n",
      "│ Lisa     ┆ F      ┆ 6    │\n",
      "└──────────┴────────┴──────┘\n"
     ]
    }
   ],
   "source": [
    "print(\n",
    "    df2.select(\n",
    "        pl.all()\n",
    "        .sort_by(pl.col(\"rank\"))\n",
    "        .over(pl.col(\"gender\"), mapping_strategy=\"explode\")\n",
    "    )\n",
    ")"
   ]
  },
  {
   "cell_type": "code",
   "execution_count": 14,
   "metadata": {},
   "outputs": [
    {
     "name": "stdout",
     "output_type": "stream",
     "text": [
      "shape: (6, 3)\n",
      "┌──────────┬────────┬───────────┐\n",
      "│ name     ┆ gender ┆ rank      │\n",
      "│ ---      ┆ ---    ┆ ---       │\n",
      "│ str      ┆ str    ┆ list[u32] │\n",
      "╞══════════╪════════╪═══════════╡\n",
      "│ Tom      ┆ M      ┆ [1, 4, 5] │\n",
      "│ Lisa     ┆ F      ┆ [2, 3, 6] │\n",
      "│ John     ┆ M      ┆ [1, 4, 5] │\n",
      "│ Vincent  ┆ M      ┆ [1, 4, 5] │\n",
      "│ Mary     ┆ F      ┆ [2, 3, 6] │\n",
      "│ Caroline ┆ F      ┆ [2, 3, 6] │\n",
      "└──────────┴────────┴───────────┘\n"
     ]
    }
   ],
   "source": [
    "print(\n",
    "    df2.with_columns(\n",
    "        pl.col(\"rank\")\n",
    "        .sort()\n",
    "        .over(pl.col(\"gender\"), mapping_strategy=\"join\")\n",
    "    )\n",
    ")"
   ]
  },
  {
   "cell_type": "code",
   "execution_count": 15,
   "metadata": {},
   "outputs": [
    {
     "name": "stdout",
     "output_type": "stream",
     "text": [
      "shape: (2, 3)\n",
      "┌─────────┬────────┬──────┐\n",
      "│ name    ┆ gender ┆ rank │\n",
      "│ ---     ┆ ---    ┆ ---  │\n",
      "│ str     ┆ str    ┆ u32  │\n",
      "╞═════════╪════════╪══════╡\n",
      "│ Vincent ┆ M      ┆ 1    │\n",
      "│ Mary    ┆ F      ┆ 2    │\n",
      "└─────────┴────────┴──────┘\n"
     ]
    }
   ],
   "source": [
    "print(\n",
    "    df2.select(\n",
    "        pl.all()\n",
    "        .sort_by(pl.col(\"rank\"))\n",
    "        # for each gender, get the first row after sorting by \"rank\"\n",
    "        .head(1)\n",
    "        .over(pl.col(\"gender\"), mapping_strategy=\"explode\")\n",
    "    )\n",
    ")"
   ]
  },
  {
   "cell_type": "code",
   "execution_count": 16,
   "metadata": {},
   "outputs": [
    {
     "name": "stdout",
     "output_type": "stream",
     "text": [
      "shape: (1, 3)\n",
      "┌─────────┬────────┬──────┐\n",
      "│ name    ┆ gender ┆ rank │\n",
      "│ ---     ┆ ---    ┆ ---  │\n",
      "│ str     ┆ str    ┆ u32  │\n",
      "╞═════════╪════════╪══════╡\n",
      "│ Vincent ┆ M      ┆ 1    │\n",
      "└─────────┴────────┴──────┘\n"
     ]
    }
   ],
   "source": [
    "print(\n",
    "    df2.select(\n",
    "        pl.all()\n",
    "        .sort_by(pl.col(\"rank\"))\n",
    "        .over(pl.col(\"gender\"), mapping_strategy=\"explode\")\n",
    "        .head(1)\n",
    "    )\n",
    ")"
   ]
  },
  {
   "cell_type": "markdown",
   "metadata": {},
   "source": [
    "## codepanda"
   ]
  },
  {
   "cell_type": "code",
   "execution_count": 17,
   "metadata": {},
   "outputs": [
    {
     "data": {
      "text/html": [
       "<div>\n",
       "<style scoped>\n",
       "    .dataframe tbody tr th:only-of-type {\n",
       "        vertical-align: middle;\n",
       "    }\n",
       "\n",
       "    .dataframe tbody tr th {\n",
       "        vertical-align: top;\n",
       "    }\n",
       "\n",
       "    .dataframe thead th {\n",
       "        text-align: right;\n",
       "    }\n",
       "</style>\n",
       "<table border=\"1\" class=\"dataframe\">\n",
       "  <thead>\n",
       "    <tr style=\"text-align: right;\">\n",
       "      <th></th>\n",
       "      <th>name</th>\n",
       "      <th>has_pet</th>\n",
       "      <th>gender</th>\n",
       "      <th>lucky_number</th>\n",
       "    </tr>\n",
       "  </thead>\n",
       "  <tbody>\n",
       "    <tr>\n",
       "      <th>0</th>\n",
       "      <td>Tom</td>\n",
       "      <td>Y</td>\n",
       "      <td>M</td>\n",
       "      <td>19</td>\n",
       "    </tr>\n",
       "    <tr>\n",
       "      <th>1</th>\n",
       "      <td>Lisa</td>\n",
       "      <td>N</td>\n",
       "      <td>F</td>\n",
       "      <td>25</td>\n",
       "    </tr>\n",
       "    <tr>\n",
       "      <th>2</th>\n",
       "      <td>John</td>\n",
       "      <td>Y</td>\n",
       "      <td>M</td>\n",
       "      <td>36</td>\n",
       "    </tr>\n",
       "    <tr>\n",
       "      <th>3</th>\n",
       "      <td>Vincent</td>\n",
       "      <td>Y</td>\n",
       "      <td>M</td>\n",
       "      <td>7</td>\n",
       "    </tr>\n",
       "    <tr>\n",
       "      <th>4</th>\n",
       "      <td>Mary</td>\n",
       "      <td>Y</td>\n",
       "      <td>F</td>\n",
       "      <td>2</td>\n",
       "    </tr>\n",
       "    <tr>\n",
       "      <th>5</th>\n",
       "      <td>Caroline</td>\n",
       "      <td>N</td>\n",
       "      <td>F</td>\n",
       "      <td>91</td>\n",
       "    </tr>\n",
       "  </tbody>\n",
       "</table>\n",
       "</div>"
      ],
      "text/plain": [
       "       name has_pet gender  lucky_number\n",
       "0       Tom       Y      M            19\n",
       "1      Lisa       N      F            25\n",
       "2      John       Y      M            36\n",
       "3   Vincent       Y      M             7\n",
       "4      Mary       Y      F             2\n",
       "5  Caroline       N      F            91"
      ]
     },
     "execution_count": 17,
     "metadata": {},
     "output_type": "execute_result"
    }
   ],
   "source": [
    "df_pd = pd.DataFrame(data)\n",
    "df_pd"
   ]
  },
  {
   "cell_type": "code",
   "execution_count": 18,
   "metadata": {},
   "outputs": [
    {
     "name": "stdout",
     "output_type": "stream",
     "text": [
      "         len  lucky_number\n",
      "has_pet                   \n",
      "N          2            91\n",
      "Y          4            36\n"
     ]
    }
   ],
   "source": [
    "print(\n",
    "    df_pd.groupby(\"has_pet\").agg(\n",
    "        len=(\"has_pet\", \"size\"),\n",
    "        lucky_number=(\"lucky_number\", \"max\"),\n",
    "    )\n",
    ")"
   ]
  },
  {
   "cell_type": "code",
   "execution_count": 19,
   "metadata": {},
   "outputs": [
    {
     "name": "stdout",
     "output_type": "stream",
     "text": [
      "         len                name\n",
      "n_chars                         \n",
      "3          1               [Tom]\n",
      "4          3  [Lisa, John, Mary]\n",
      "7          1           [Vincent]\n",
      "8          1          [Caroline]\n"
     ]
    }
   ],
   "source": [
    "print(\n",
    "    df_pd.assign(n_chars=df_pd[\"name\"].str.len())\n",
    "    .groupby(\"n_chars\")\n",
    "    .agg(len=(\"name\", \"size\"), name=(\"name\", list))\n",
    ")"
   ]
  },
  {
   "cell_type": "code",
   "execution_count": 20,
   "metadata": {},
   "outputs": [
    {
     "name": "stdout",
     "output_type": "stream",
     "text": [
      "       name has_pet gender  lucky_number  rank_by_gender\n",
      "0       Tom       Y      M            19               2\n",
      "1      Lisa       N      F            25               2\n",
      "2      John       Y      M            36               3\n",
      "3   Vincent       Y      M             7               1\n",
      "4      Mary       Y      F             2               1\n",
      "5  Caroline       N      F            91               3\n"
     ]
    }
   ],
   "source": [
    "print(\n",
    "    df_pd.assign(\n",
    "        rank_by_gender=lambda df_: df_.groupby(\"gender\")\n",
    "        .lucky_number.transform(lambda s_: s_.rank())\n",
    "        .astype(int)\n",
    "    )\n",
    ")"
   ]
  },
  {
   "cell_type": "markdown",
   "metadata": {},
   "source": [
    "## Remarks"
   ]
  },
  {
   "cell_type": "markdown",
   "metadata": {},
   "source": [
    "### Remark2"
   ]
  },
  {
   "cell_type": "code",
   "execution_count": 21,
   "metadata": {},
   "outputs": [
    {
     "name": "stdout",
     "output_type": "stream",
     "text": [
      "shape: (2, 3)\n",
      "┌────────┬──────┬──────┐\n",
      "│ gender ┆ lt20 ┆ ge20 │\n",
      "│ ---    ┆ ---  ┆ ---  │\n",
      "│ str    ┆ u32  ┆ u32  │\n",
      "╞════════╪══════╪══════╡\n",
      "│ F      ┆ 1    ┆ 2    │\n",
      "│ M      ┆ 2    ┆ 1    │\n",
      "└────────┴──────┴──────┘\n"
     ]
    }
   ],
   "source": [
    "lt20 = pl.col(\"lucky_number\").lt(20)\n",
    "ge20 = pl.col(\"lucky_number\").ge(20)\n",
    "\n",
    "\n",
    "print(\n",
    "    df.group_by(\"gender\").agg(\n",
    "        lt20.sum().alias(\"lt20\"), ge20.sum().alias(\"ge20\")\n",
    "    )\n",
    ")"
   ]
  }
 ],
 "metadata": {
  "kernelspec": {
   "display_name": "venv",
   "language": "python",
   "name": "python3"
  },
  "language_info": {
   "codemirror_mode": {
    "name": "ipython",
    "version": 3
   },
   "file_extension": ".py",
   "mimetype": "text/x-python",
   "name": "python",
   "nbconvert_exporter": "python",
   "pygments_lexer": "ipython3",
   "version": "3.13.7"
  }
 },
 "nbformat": 4,
 "nbformat_minor": 2
}
