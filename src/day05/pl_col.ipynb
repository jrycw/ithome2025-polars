{
 "cells": [
  {
   "cell_type": "code",
   "execution_count": 1,
   "metadata": {},
   "outputs": [],
   "source": [
    "import pandas as pd\n",
    "import polars as pl\n",
    "\n",
    "data = {\"col1\": [1, 2, 3], \"col2\": [\"x\", \"y\", \"z\"]}\n",
    "df = pl.DataFrame(data)"
   ]
  },
  {
   "cell_type": "code",
   "execution_count": 2,
   "metadata": {},
   "outputs": [
    {
     "data": {
      "text/html": [
       "col(\"col1\")"
      ],
      "text/plain": [
       "<Expr ['col(\"col1\")'] at 0x161230A4650>"
      ]
     },
     "execution_count": 2,
     "metadata": {},
     "output_type": "execute_result"
    }
   ],
   "source": [
    "pl.col(\"col1\")"
   ]
  },
  {
   "cell_type": "markdown",
   "metadata": {},
   "source": [
    "## Single column"
   ]
  },
  {
   "cell_type": "code",
   "execution_count": 3,
   "metadata": {},
   "outputs": [
    {
     "name": "stdout",
     "output_type": "stream",
     "text": [
      "shape: (3, 1)\n",
      "┌──────┐\n",
      "│ col1 │\n",
      "│ ---  │\n",
      "│ i64  │\n",
      "╞══════╡\n",
      "│ 1    │\n",
      "│ 2    │\n",
      "│ 3    │\n",
      "└──────┘\n"
     ]
    }
   ],
   "source": [
    "print(df.select(pl.col(\"col1\")))"
   ]
  },
  {
   "cell_type": "markdown",
   "metadata": {},
   "source": [
    "## Multiple columns"
   ]
  },
  {
   "cell_type": "code",
   "execution_count": 4,
   "metadata": {},
   "outputs": [
    {
     "name": "stdout",
     "output_type": "stream",
     "text": [
      "shape: (3, 2)\n",
      "┌──────┬──────┐\n",
      "│ col1 ┆ col2 │\n",
      "│ ---  ┆ ---  │\n",
      "│ i64  ┆ str  │\n",
      "╞══════╪══════╡\n",
      "│ 1    ┆ x    │\n",
      "│ 2    ┆ y    │\n",
      "│ 3    ┆ z    │\n",
      "└──────┴──────┘\n"
     ]
    }
   ],
   "source": [
    "print(df.select(pl.col(\"col1\", \"col2\")))"
   ]
  },
  {
   "cell_type": "code",
   "execution_count": 5,
   "metadata": {},
   "outputs": [
    {
     "name": "stdout",
     "output_type": "stream",
     "text": [
      "shape: (3, 2)\n",
      "┌──────┬──────┐\n",
      "│ col1 ┆ col2 │\n",
      "│ ---  ┆ ---  │\n",
      "│ i64  ┆ str  │\n",
      "╞══════╪══════╡\n",
      "│ 1    ┆ x    │\n",
      "│ 2    ┆ y    │\n",
      "│ 3    ┆ z    │\n",
      "└──────┴──────┘\n"
     ]
    }
   ],
   "source": [
    "print(df.select(pl.col([\"col1\", \"col2\"])))"
   ]
  },
  {
   "cell_type": "code",
   "execution_count": 6,
   "metadata": {},
   "outputs": [],
   "source": [
    "# TypeError\n",
    "# print(df.select(pl.col(\"col1\", [\"col2\"])))"
   ]
  },
  {
   "cell_type": "markdown",
   "metadata": {},
   "source": [
    "## All columns"
   ]
  },
  {
   "cell_type": "code",
   "execution_count": 7,
   "metadata": {},
   "outputs": [
    {
     "name": "stdout",
     "output_type": "stream",
     "text": [
      "shape: (3, 2)\n",
      "┌──────┬──────┐\n",
      "│ col1 ┆ col2 │\n",
      "│ ---  ┆ ---  │\n",
      "│ i64  ┆ str  │\n",
      "╞══════╪══════╡\n",
      "│ 1    ┆ x    │\n",
      "│ 2    ┆ y    │\n",
      "│ 3    ┆ z    │\n",
      "└──────┴──────┘\n"
     ]
    }
   ],
   "source": [
    "print(df.select(pl.col(\"*\")))"
   ]
  },
  {
   "cell_type": "code",
   "execution_count": 8,
   "metadata": {},
   "outputs": [
    {
     "name": "stdout",
     "output_type": "stream",
     "text": [
      "shape: (3, 2)\n",
      "┌──────┬──────┐\n",
      "│ col1 ┆ col2 │\n",
      "│ ---  ┆ ---  │\n",
      "│ i64  ┆ str  │\n",
      "╞══════╪══════╡\n",
      "│ 1    ┆ x    │\n",
      "│ 2    ┆ y    │\n",
      "│ 3    ┆ z    │\n",
      "└──────┴──────┘\n"
     ]
    }
   ],
   "source": [
    "print(df.select(pl.all()))"
   ]
  },
  {
   "cell_type": "markdown",
   "metadata": {},
   "source": [
    "## By regular expression"
   ]
  },
  {
   "cell_type": "code",
   "execution_count": 9,
   "metadata": {},
   "outputs": [
    {
     "name": "stdout",
     "output_type": "stream",
     "text": [
      "shape: (3, 2)\n",
      "┌──────┬──────┐\n",
      "│ col1 ┆ col2 │\n",
      "│ ---  ┆ ---  │\n",
      "│ i64  ┆ str  │\n",
      "╞══════╪══════╡\n",
      "│ 1    ┆ x    │\n",
      "│ 2    ┆ y    │\n",
      "│ 3    ┆ z    │\n",
      "└──────┴──────┘\n"
     ]
    }
   ],
   "source": [
    "print(df.select(pl.col(\"^col.*$\")))"
   ]
  },
  {
   "cell_type": "markdown",
   "metadata": {},
   "source": [
    "## By type"
   ]
  },
  {
   "cell_type": "code",
   "execution_count": 10,
   "metadata": {},
   "outputs": [
    {
     "name": "stdout",
     "output_type": "stream",
     "text": [
      "shape: (3, 1)\n",
      "┌──────┐\n",
      "│ col2 │\n",
      "│ ---  │\n",
      "│ str  │\n",
      "╞══════╡\n",
      "│ x    │\n",
      "│ y    │\n",
      "│ z    │\n",
      "└──────┘\n"
     ]
    }
   ],
   "source": [
    "print(df.select(pl.col(pl.String)))"
   ]
  },
  {
   "cell_type": "code",
   "execution_count": 11,
   "metadata": {},
   "outputs": [
    {
     "name": "stdout",
     "output_type": "stream",
     "text": [
      "shape: (3, 2)\n",
      "┌──────┬──────┐\n",
      "│ col1 ┆ col2 │\n",
      "│ ---  ┆ ---  │\n",
      "│ i64  ┆ str  │\n",
      "╞══════╪══════╡\n",
      "│ 1    ┆ x    │\n",
      "│ 2    ┆ y    │\n",
      "│ 3    ┆ z    │\n",
      "└──────┴──────┘\n"
     ]
    }
   ],
   "source": [
    "print(df.select(pl.col(pl.String, pl.Int64)))"
   ]
  },
  {
   "cell_type": "markdown",
   "metadata": {},
   "source": [
    "## By attribute"
   ]
  },
  {
   "cell_type": "code",
   "execution_count": 12,
   "metadata": {},
   "outputs": [
    {
     "name": "stdout",
     "output_type": "stream",
     "text": [
      "shape: (3, 1)\n",
      "┌──────┐\n",
      "│ col1 │\n",
      "│ ---  │\n",
      "│ i64  │\n",
      "╞══════╡\n",
      "│ 1    │\n",
      "│ 2    │\n",
      "│ 3    │\n",
      "└──────┘\n"
     ]
    }
   ],
   "source": [
    "print(df.select(pl.col.col1))"
   ]
  },
  {
   "cell_type": "code",
   "execution_count": 13,
   "metadata": {},
   "outputs": [
    {
     "name": "stdout",
     "output_type": "stream",
     "text": [
      "shape: (3, 2)\n",
      "┌──────┬──────┐\n",
      "│ col1 ┆ col2 │\n",
      "│ ---  ┆ ---  │\n",
      "│ i64  ┆ str  │\n",
      "╞══════╪══════╡\n",
      "│ 1    ┆ x    │\n",
      "│ 2    ┆ y    │\n",
      "│ 3    ┆ z    │\n",
      "└──────┴──────┘\n"
     ]
    }
   ],
   "source": [
    "print(df.select(pl.col.col1, pl.col.col2))"
   ]
  },
  {
   "cell_type": "code",
   "execution_count": 14,
   "metadata": {},
   "outputs": [
    {
     "name": "stdout",
     "output_type": "stream",
     "text": [
      "shape: (3, 2)\n",
      "┌──────┬──────┐\n",
      "│ col1 ┆ col2 │\n",
      "│ ---  ┆ ---  │\n",
      "│ i64  ┆ str  │\n",
      "╞══════╪══════╡\n",
      "│ 1    ┆ x    │\n",
      "│ 2    ┆ y    │\n",
      "│ 3    ┆ z    │\n",
      "└──────┴──────┘\n"
     ]
    }
   ],
   "source": [
    "print(df.select([pl.col.col1, pl.col.col2]))"
   ]
  },
  {
   "cell_type": "markdown",
   "metadata": {},
   "source": [
    "## Remark"
   ]
  },
  {
   "cell_type": "markdown",
   "metadata": {},
   "source": [
    "### Remark1"
   ]
  },
  {
   "cell_type": "code",
   "execution_count": 15,
   "metadata": {},
   "outputs": [
    {
     "name": "stdout",
     "output_type": "stream",
     "text": [
      "shape: (1, 2)\n",
      "┌────────────┬────────┐\n",
      "│ pl_col_sum ┆ pl_sum │\n",
      "│ ---        ┆ ---    │\n",
      "│ i64        ┆ i64    │\n",
      "╞════════════╪════════╡\n",
      "│ 6          ┆ 6      │\n",
      "└────────────┴────────┘\n"
     ]
    }
   ],
   "source": [
    "print(\n",
    "    df.select(\n",
    "        pl.col(\"col1\").sum().alias(\"pl_col_sum\"),\n",
    "        pl.sum(\"col1\").alias(\"pl_sum\"),\n",
    "    )\n",
    ")"
   ]
  },
  {
   "cell_type": "markdown",
   "metadata": {},
   "source": [
    "## codepanda"
   ]
  },
  {
   "cell_type": "code",
   "execution_count": 16,
   "metadata": {},
   "outputs": [
    {
     "name": "stdout",
     "output_type": "stream",
     "text": [
      "   col1 col2\n",
      "0     2    x\n",
      "1     3    y\n",
      "2     4    z\n"
     ]
    }
   ],
   "source": [
    "df_pd = pd.DataFrame(data)\n",
    "\n",
    "print(df_pd.assign(col1=lambda df_: df_.col1.add(1)))"
   ]
  }
 ],
 "metadata": {
  "kernelspec": {
   "display_name": "venv",
   "language": "python",
   "name": "python3"
  },
  "language_info": {
   "codemirror_mode": {
    "name": "ipython",
    "version": 3
   },
   "file_extension": ".py",
   "mimetype": "text/x-python",
   "name": "python",
   "nbconvert_exporter": "python",
   "pygments_lexer": "ipython3",
   "version": "3.13.7"
  }
 },
 "nbformat": 4,
 "nbformat_minor": 2
}
