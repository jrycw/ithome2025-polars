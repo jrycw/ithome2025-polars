{
 "cells": [
  {
   "cell_type": "code",
   "execution_count": 1,
   "metadata": {},
   "outputs": [
    {
     "name": "stdout",
     "output_type": "stream",
     "text": [
      "shape: (5, 5)\n",
      "┌───────┬─────────┬───────┬──────┬──────┐\n",
      "│ int64 ┆ float64 ┆ bool  ┆ null ┆ nan  │\n",
      "│ ---   ┆ ---     ┆ ---   ┆ ---  ┆ ---  │\n",
      "│ i64   ┆ f64     ┆ bool  ┆ i64  ┆ f64  │\n",
      "╞═══════╪═════════╪═══════╪══════╪══════╡\n",
      "│ 0     ┆ 6.1     ┆ true  ┆ 5    ┆ 11.1 │\n",
      "│ 1     ┆ 7.2     ┆ false ┆ 10   ┆ NaN  │\n",
      "│ 2     ┆ 8.3     ┆ false ┆ null ┆ NaN  │\n",
      "│ 3     ┆ 9.4     ┆ true  ┆ null ┆ 33.3 │\n",
      "│ 500   ┆ 10.5    ┆ true  ┆ 30   ┆ 22.2 │\n",
      "└───────┴─────────┴───────┴──────┴──────┘\n"
     ]
    }
   ],
   "source": [
    "import numpy as np\n",
    "import pandas as pd\n",
    "import polars as pl\n",
    "\n",
    "\n",
    "data = {\n",
    "    \"int64\": [0, 1, 2, 3, 500],\n",
    "    \"float64\": [6.1, 7.2, 8.3, 9.4, 10.5],\n",
    "    \"bool\": [True, False, False, True, True],\n",
    "    \"null\": [5, 10, None, None, 30],\n",
    "    \"nan\": [11.1, np.nan, float(\"nan\"), 33.3, 22.2],\n",
    "}\n",
    "df = pl.DataFrame(data)\n",
    "print(df)"
   ]
  },
  {
   "cell_type": "markdown",
   "metadata": {},
   "source": [
    "## pl.Int & pl.UInt"
   ]
  },
  {
   "cell_type": "code",
   "execution_count": 2,
   "metadata": {},
   "outputs": [
    {
     "name": "stdout",
     "output_type": "stream",
     "text": [
      "shape: (5, 3)\n",
      "┌───────┬───────┬────────┐\n",
      "│ int64 ┆ Int32 ┆ UInt32 │\n",
      "│ ---   ┆ ---   ┆ ---    │\n",
      "│ i64   ┆ i32   ┆ u32    │\n",
      "╞═══════╪═══════╪════════╡\n",
      "│ 0     ┆ 0     ┆ 0      │\n",
      "│ 1     ┆ 1     ┆ 1      │\n",
      "│ 2     ┆ 2     ┆ 2      │\n",
      "│ 3     ┆ 3     ┆ 3      │\n",
      "│ 500   ┆ 500   ┆ 500    │\n",
      "└───────┴───────┴────────┘\n"
     ]
    }
   ],
   "source": [
    "print(\n",
    "    df.select(\n",
    "        \"int64\",\n",
    "        pl.col(\"int64\").cast(pl.Int32).alias(\"Int32\"),\n",
    "        pl.col(\"int64\").cast(pl.UInt32).alias(\"UInt32\"),\n",
    "    )\n",
    ")"
   ]
  },
  {
   "cell_type": "code",
   "execution_count": 3,
   "metadata": {},
   "outputs": [],
   "source": [
    "# InvalidOperationError: conversion from `i64` to `i8` failed in column 'int64' for 1 out of 5 values: [500]\n",
    "# print(df.select(\"int64\", pl.col(\"int64\").cast(pl.Int8).alias(\"Int8\")))"
   ]
  },
  {
   "cell_type": "code",
   "execution_count": 4,
   "metadata": {},
   "outputs": [
    {
     "name": "stdout",
     "output_type": "stream",
     "text": [
      "shape: (5, 2)\n",
      "┌───────┬────────────┐\n",
      "│ int64 ┆ date       │\n",
      "│ ---   ┆ ---        │\n",
      "│ i64   ┆ date       │\n",
      "╞═══════╪════════════╡\n",
      "│ 0     ┆ 1970-01-01 │\n",
      "│ 1     ┆ 1970-01-02 │\n",
      "│ 2     ┆ 1970-01-03 │\n",
      "│ 3     ┆ 1970-01-04 │\n",
      "│ 500   ┆ 1971-05-16 │\n",
      "└───────┴────────────┘\n"
     ]
    }
   ],
   "source": [
    "print(df.select(\"int64\", pl.col(\"int64\").cast(pl.Date).alias(\"date\")))"
   ]
  },
  {
   "cell_type": "markdown",
   "metadata": {},
   "source": [
    "## pl.Float"
   ]
  },
  {
   "cell_type": "code",
   "execution_count": 5,
   "metadata": {},
   "outputs": [
    {
     "name": "stdout",
     "output_type": "stream",
     "text": [
      "shape: (5, 2)\n",
      "┌─────────┬─────────┐\n",
      "│ float64 ┆ float32 │\n",
      "│ ---     ┆ ---     │\n",
      "│ f64     ┆ f32     │\n",
      "╞═════════╪═════════╡\n",
      "│ 6.1     ┆ 6.1     │\n",
      "│ 7.2     ┆ 7.2     │\n",
      "│ 8.3     ┆ 8.3     │\n",
      "│ 9.4     ┆ 9.4     │\n",
      "│ 10.5    ┆ 10.5    │\n",
      "└─────────┴─────────┘\n"
     ]
    }
   ],
   "source": [
    "print(\n",
    "    df.select(\n",
    "        \"float64\",\n",
    "        pl.col(\"float64\").cast(pl.Float32).alias(\"float32\"),\n",
    "    )\n",
    ")"
   ]
  },
  {
   "cell_type": "code",
   "execution_count": 6,
   "metadata": {},
   "outputs": [
    {
     "name": "stdout",
     "output_type": "stream",
     "text": [
      "shape: (5, 2)\n",
      "┌───────┬───────────────┐\n",
      "│ int64 ┆ int64 / int64 │\n",
      "│ ---   ┆ ---           │\n",
      "│ i64   ┆ f64           │\n",
      "╞═══════╪═══════════════╡\n",
      "│ 0     ┆ NaN           │\n",
      "│ 1     ┆ 1.0           │\n",
      "│ 2     ┆ 1.0           │\n",
      "│ 3     ┆ 1.0           │\n",
      "│ 500   ┆ 1.0           │\n",
      "└───────┴───────────────┘\n"
     ]
    }
   ],
   "source": [
    "print(\n",
    "    df.select(\n",
    "        \"int64\",\n",
    "        pl.col(\"int64\").truediv(pl.col(\"int64\")).alias(\"int64 / int64\"),\n",
    "    )\n",
    ")"
   ]
  },
  {
   "cell_type": "markdown",
   "metadata": {},
   "source": [
    "### NaN"
   ]
  },
  {
   "cell_type": "code",
   "execution_count": 7,
   "metadata": {},
   "outputs": [
    {
     "name": "stdout",
     "output_type": "stream",
     "text": [
      "shape: (5, 4)\n",
      "┌──────┬────────┬─────────┬───────────┐\n",
      "│ nan  ┆ is_nan ┆ fill_10 ┆ fill_expr │\n",
      "│ ---  ┆ ---    ┆ ---     ┆ ---       │\n",
      "│ f64  ┆ bool   ┆ f64     ┆ f64       │\n",
      "╞══════╪════════╪═════════╪═══════════╡\n",
      "│ 11.1 ┆ false  ┆ 11.1    ┆ 11.1      │\n",
      "│ NaN  ┆ true   ┆ 10.0    ┆ 100.0     │\n",
      "│ NaN  ┆ true   ┆ 10.0    ┆ 200.0     │\n",
      "│ 33.3 ┆ false  ┆ 33.3    ┆ 33.3      │\n",
      "│ 22.2 ┆ false  ┆ 22.2    ┆ 22.2      │\n",
      "└──────┴────────┴─────────┴───────────┘\n"
     ]
    }
   ],
   "source": [
    "print(\n",
    "    df.select(\n",
    "        \"nan\",\n",
    "        pl.col(\"nan\").is_nan().alias(\"is_nan\"),\n",
    "        pl.col(\"nan\").fill_nan(10).alias(\"fill_10\"),\n",
    "        pl.col(\"nan\")\n",
    "        .fill_nan(pl.col(\"int64\").mul(100))\n",
    "        .alias(\"fill_expr\"),\n",
    "    )\n",
    ")"
   ]
  },
  {
   "cell_type": "markdown",
   "metadata": {},
   "source": [
    "## pl.Bool"
   ]
  },
  {
   "cell_type": "code",
   "execution_count": 8,
   "metadata": {},
   "outputs": [
    {
     "name": "stdout",
     "output_type": "stream",
     "text": [
      "shape: (5, 4)\n",
      "┌───────┬───────┬───────────────┬─────┐\n",
      "│ bool  ┆ ~bool ┆ bool_to_uint8 ┆ sum │\n",
      "│ ---   ┆ ---   ┆ ---           ┆ --- │\n",
      "│ bool  ┆ bool  ┆ u8            ┆ u32 │\n",
      "╞═══════╪═══════╪═══════════════╪═════╡\n",
      "│ true  ┆ false ┆ 1             ┆ 3   │\n",
      "│ false ┆ true  ┆ 0             ┆ 3   │\n",
      "│ false ┆ true  ┆ 0             ┆ 3   │\n",
      "│ true  ┆ false ┆ 1             ┆ 3   │\n",
      "│ true  ┆ false ┆ 1             ┆ 3   │\n",
      "└───────┴───────┴───────────────┴─────┘\n"
     ]
    }
   ],
   "source": [
    "print(\n",
    "    df.select(\n",
    "        \"bool\",\n",
    "        pl.col(\"bool\").not_().alias(\"~bool\"),\n",
    "        pl.col(\"bool\").cast(pl.UInt8).alias(\"bool_to_uint8\"),\n",
    "        pl.col(\"bool\").sum().alias(\"sum\"),\n",
    "    )\n",
    ")"
   ]
  },
  {
   "cell_type": "markdown",
   "metadata": {},
   "source": [
    "## pl.null"
   ]
  },
  {
   "cell_type": "code",
   "execution_count": 9,
   "metadata": {},
   "outputs": [
    {
     "name": "stdout",
     "output_type": "stream",
     "text": [
      "shape: (5, 7)\n",
      "┌──────┬─────────┬─────────┬──────────────┬─────────┬──────────┬─────────────┐\n",
      "│ null ┆ float64 ┆ fill_10 ┆ from_float64 ┆ forward ┆ backward ┆ interpolate │\n",
      "│ ---  ┆ ---     ┆ ---     ┆ ---          ┆ ---     ┆ ---      ┆ ---         │\n",
      "│ i64  ┆ f64     ┆ i64     ┆ f64          ┆ i64     ┆ i64      ┆ f64         │\n",
      "╞══════╪═════════╪═════════╪══════════════╪═════════╪══════════╪═════════════╡\n",
      "│ 5    ┆ 6.1     ┆ 5       ┆ 5.0          ┆ 5       ┆ 5        ┆ 5.0         │\n",
      "│ 10   ┆ 7.2     ┆ 10      ┆ 10.0         ┆ 10      ┆ 10       ┆ 10.0        │\n",
      "│ null ┆ 8.3     ┆ 10      ┆ 8.3          ┆ 10      ┆ 30       ┆ 16.666667   │\n",
      "│ null ┆ 9.4     ┆ 10      ┆ 9.4          ┆ 10      ┆ 30       ┆ 23.333333   │\n",
      "│ 30   ┆ 10.5    ┆ 30      ┆ 30.0         ┆ 30      ┆ 30       ┆ 30.0        │\n",
      "└──────┴─────────┴─────────┴──────────────┴─────────┴──────────┴─────────────┘\n"
     ]
    }
   ],
   "source": [
    "print(\n",
    "    df.select(\n",
    "        pl.col(\"null\", \"float64\"),\n",
    "        pl.col(\"null\").fill_null(10).alias(\"fill_10\"),\n",
    "        pl.col(\"null\").fill_null(pl.col(\"float64\")).alias(\"from_float64\"),\n",
    "        pl.col(\"null\").fill_null(strategy=\"forward\").alias(\"forward\"),\n",
    "        pl.col(\"null\").fill_null(strategy=\"backward\").alias(\"backward\"),\n",
    "        pl.col(\"null\").interpolate().alias(\"interpolate\"),\n",
    "    )\n",
    ")"
   ]
  },
  {
   "cell_type": "markdown",
   "metadata": {},
   "source": [
    "## pl.nan"
   ]
  },
  {
   "cell_type": "code",
   "execution_count": 10,
   "metadata": {},
   "outputs": [
    {
     "name": "stdout",
     "output_type": "stream",
     "text": [
      "shape: (1, 2)\n",
      "┌──────┬─────┐\n",
      "│ null ┆ nan │\n",
      "│ ---  ┆ --- │\n",
      "│ f64  ┆ f64 │\n",
      "╞══════╪═════╡\n",
      "│ 15.0 ┆ NaN │\n",
      "└──────┴─────┘\n"
     ]
    }
   ],
   "source": [
    "print(df.select(pl.col(\"null\", \"nan\").mean()))"
   ]
  },
  {
   "cell_type": "code",
   "execution_count": 11,
   "metadata": {},
   "outputs": [
    {
     "name": "stdout",
     "output_type": "stream",
     "text": [
      "shape: (1, 2)\n",
      "┌──────┬──────┐\n",
      "│ null ┆ nan  │\n",
      "│ ---  ┆ ---  │\n",
      "│ f64  ┆ f64  │\n",
      "╞══════╪══════╡\n",
      "│ 15.0 ┆ 22.2 │\n",
      "└──────┴──────┘\n"
     ]
    }
   ],
   "source": [
    "print(\n",
    "    df.with_columns(pl.col(\"nan\").fill_nan(None)).select(\n",
    "        pl.col(\"null\", \"nan\").mean()\n",
    "    )\n",
    ")"
   ]
  },
  {
   "cell_type": "code",
   "execution_count": 12,
   "metadata": {},
   "outputs": [
    {
     "data": {
      "text/html": [
       "<div><style>\n",
       ".dataframe > thead > tr,\n",
       ".dataframe > tbody > tr {\n",
       "  text-align: right;\n",
       "  white-space: pre-wrap;\n",
       "}\n",
       "</style>\n",
       "<small>shape: (5, 5)</small><table border=\"1\" class=\"dataframe\"><thead><tr><th>int64</th><th>float64</th><th>bool</th><th>null</th><th>nan</th></tr><tr><td>i64</td><td>f64</td><td>bool</td><td>i64</td><td>f64</td></tr></thead><tbody><tr><td>0</td><td>6.1</td><td>true</td><td>5</td><td>11.1</td></tr><tr><td>1</td><td>7.2</td><td>false</td><td>10</td><td>NaN</td></tr><tr><td>2</td><td>8.3</td><td>false</td><td>null</td><td>NaN</td></tr><tr><td>3</td><td>9.4</td><td>true</td><td>null</td><td>33.3</td></tr><tr><td>500</td><td>10.5</td><td>true</td><td>30</td><td>22.2</td></tr></tbody></table></div>"
      ],
      "text/plain": [
       "shape: (5, 5)\n",
       "┌───────┬─────────┬───────┬──────┬──────┐\n",
       "│ int64 ┆ float64 ┆ bool  ┆ null ┆ nan  │\n",
       "│ ---   ┆ ---     ┆ ---   ┆ ---  ┆ ---  │\n",
       "│ i64   ┆ f64     ┆ bool  ┆ i64  ┆ f64  │\n",
       "╞═══════╪═════════╪═══════╪══════╪══════╡\n",
       "│ 0     ┆ 6.1     ┆ true  ┆ 5    ┆ 11.1 │\n",
       "│ 1     ┆ 7.2     ┆ false ┆ 10   ┆ NaN  │\n",
       "│ 2     ┆ 8.3     ┆ false ┆ null ┆ NaN  │\n",
       "│ 3     ┆ 9.4     ┆ true  ┆ null ┆ 33.3 │\n",
       "│ 500   ┆ 10.5    ┆ true  ┆ 30   ┆ 22.2 │\n",
       "└───────┴─────────┴───────┴──────┴──────┘"
      ]
     },
     "execution_count": 12,
     "metadata": {},
     "output_type": "execute_result"
    }
   ],
   "source": [
    "df"
   ]
  },
  {
   "cell_type": "code",
   "execution_count": 13,
   "metadata": {},
   "outputs": [],
   "source": [
    "# InvalidOperationError: conversion from `f64` to `i32` failed in column 'nan' for 2 out of 5 values: [NaN, NaN]\n",
    "# df.select(pl.col(\"nan\").cast(pl.Int32))"
   ]
  },
  {
   "cell_type": "markdown",
   "metadata": {},
   "source": [
    "## codepanda"
   ]
  },
  {
   "cell_type": "code",
   "execution_count": 14,
   "metadata": {},
   "outputs": [
    {
     "name": "stdout",
     "output_type": "stream",
     "text": [
      "v0_int64                    int64\n",
      "v1_Int64                    Int64\n",
      "v2_int64pyarrow    int64[pyarrow]\n",
      "dtype: object\n"
     ]
    }
   ],
   "source": [
    "df_pd = pd.DataFrame({\"v0_int64\": [0]}, dtype=\"int64\").assign(\n",
    "    v1_Int64=lambda df_: df_.v0_int64.astype({\"v0_int64\": \"Int64\"}),\n",
    "    v2_int64pyarrow=lambda df_: df_.v0_int64.astype(\n",
    "        {\"v0_int64\": \"int64[pyarrow]\"}\n",
    "    ),\n",
    ")\n",
    "\n",
    "print(df_pd.dtypes)"
   ]
  }
 ],
 "metadata": {
  "kernelspec": {
   "display_name": "venv",
   "language": "python",
   "name": "python3"
  },
  "language_info": {
   "codemirror_mode": {
    "name": "ipython",
    "version": 3
   },
   "file_extension": ".py",
   "mimetype": "text/x-python",
   "name": "python",
   "nbconvert_exporter": "python",
   "pygments_lexer": "ipython3",
   "version": "3.13.7"
  }
 },
 "nbformat": 4,
 "nbformat_minor": 2
}
