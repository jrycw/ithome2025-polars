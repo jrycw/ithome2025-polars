{
 "cells": [
  {
   "cell_type": "code",
   "execution_count": 1,
   "metadata": {},
   "outputs": [],
   "source": [
    "from typing import Callable, Literal\n",
    "\n",
    "import numpy as np\n",
    "import polars as pl\n",
    "from polars.testing import (assert_frame_equal, assert_series_equal,\n",
    "                            assert_series_not_equal)\n"
   ]
  },
  {
   "cell_type": "markdown",
   "metadata": {},
   "source": [
    "## pl.Series"
   ]
  },
  {
   "cell_type": "code",
   "execution_count": 2,
   "metadata": {},
   "outputs": [
    {
     "name": "stdout",
     "output_type": "stream",
     "text": [
      "shape: (3,)\n",
      "Series: 's' [i64]\n",
      "[\n",
      "\t1\n",
      "\t2\n",
      "\t3\n",
      "]\n"
     ]
    }
   ],
   "source": [
    "s1 = pl.Series(\"s\", [1, 2, 3])\n",
    "# s1 = pl.Series(\"s\", np.array([1, 2, 3]))\n",
    "print(s1)"
   ]
  },
  {
   "cell_type": "code",
   "execution_count": 3,
   "metadata": {},
   "outputs": [
    {
     "name": "stdout",
     "output_type": "stream",
     "text": [
      "shape: (3,)\n",
      "Series: 's' [i64]\n",
      "[\n",
      "\t1\n",
      "\t2\n",
      "\t3\n",
      "]\n"
     ]
    }
   ],
   "source": [
    "s2 = pl.Series(\"s\", [1, 2, 3], dtype=pl.Int64)\n",
    "print(s2)"
   ]
  },
  {
   "cell_type": "code",
   "execution_count": 4,
   "metadata": {},
   "outputs": [],
   "source": [
    "assert_series_equal(s1, s2)"
   ]
  },
  {
   "cell_type": "code",
   "execution_count": 5,
   "metadata": {},
   "outputs": [
    {
     "name": "stdout",
     "output_type": "stream",
     "text": [
      "shape: (3,)\n",
      "Series: 's' [f64]\n",
      "[\n",
      "\t1.0\n",
      "\t2.0\n",
      "\t3.0\n",
      "]\n"
     ]
    }
   ],
   "source": [
    "s3 = pl.Series(\"s\", [1, 2, 3], dtype=pl.Float64)\n",
    "print(s3)"
   ]
  },
  {
   "cell_type": "code",
   "execution_count": 6,
   "metadata": {},
   "outputs": [
    {
     "name": "stdout",
     "output_type": "stream",
     "text": [
      "shape: (3,)\n",
      "Series: '' [f64]\n",
      "[\n",
      "\t1.0\n",
      "\t2.0\n",
      "\t3.0\n",
      "]\n"
     ]
    }
   ],
   "source": [
    "s4 = pl.Series([1, 2, 3], dtype=pl.Float64)\n",
    "print(s4)"
   ]
  },
  {
   "cell_type": "code",
   "execution_count": 7,
   "metadata": {},
   "outputs": [],
   "source": [
    "assert_series_not_equal(s3, s4)  # name mismatch (\"s\" vs. \"\")"
   ]
  },
  {
   "cell_type": "code",
   "execution_count": 8,
   "metadata": {},
   "outputs": [
    {
     "name": "stdout",
     "output_type": "stream",
     "text": [
      "shape: (3,)\n",
      "Series: '' [str]\n",
      "[\n",
      "\t\"1\"\n",
      "\tnull\n",
      "\t\"3\"\n",
      "]\n"
     ]
    }
   ],
   "source": [
    "s5 = pl.Series([1, None, \"3\"], strict=False)\n",
    "print(s5)"
   ]
  },
  {
   "cell_type": "markdown",
   "metadata": {},
   "source": [
    "### Attributes and methods"
   ]
  },
  {
   "cell_type": "code",
   "execution_count": 9,
   "metadata": {},
   "outputs": [
    {
     "name": "stdout",
     "output_type": "stream",
     "text": [
      "(3,)\n"
     ]
    }
   ],
   "source": [
    "print(s1.shape)"
   ]
  },
  {
   "cell_type": "code",
   "execution_count": 10,
   "metadata": {},
   "outputs": [
    {
     "name": "stdout",
     "output_type": "stream",
     "text": [
      "1\n"
     ]
    }
   ],
   "source": [
    "print(s1.item(0))"
   ]
  },
  {
   "cell_type": "code",
   "execution_count": 11,
   "metadata": {},
   "outputs": [
    {
     "name": "stdout",
     "output_type": "stream",
     "text": [
      "3\n"
     ]
    }
   ],
   "source": [
    "print(s1.item(-1))"
   ]
  },
  {
   "cell_type": "code",
   "execution_count": 12,
   "metadata": {},
   "outputs": [
    {
     "name": "stdout",
     "output_type": "stream",
     "text": [
      "shape: (2,)\n",
      "Series: 's' [i64]\n",
      "[\n",
      "\t3\n",
      "\t2\n",
      "]\n"
     ]
    }
   ],
   "source": [
    "print(s1.top_k(2))"
   ]
  },
  {
   "cell_type": "code",
   "execution_count": 13,
   "metadata": {},
   "outputs": [
    {
     "name": "stdout",
     "output_type": "stream",
     "text": [
      "shape: (2,)\n",
      "Series: 's' [i64]\n",
      "[\n",
      "\t2\n",
      "\t3\n",
      "]\n"
     ]
    }
   ],
   "source": [
    "print(s1.top_k(2).sort())"
   ]
  },
  {
   "cell_type": "code",
   "execution_count": 14,
   "metadata": {},
   "outputs": [
    {
     "name": "stdout",
     "output_type": "stream",
     "text": [
      "shape: (3,)\n",
      "Series: 's' [i64]\n",
      "[\n",
      "\t1\n",
      "\t0\n",
      "\t3\n",
      "]\n"
     ]
    }
   ],
   "source": [
    "s6 = pl.Series([5, 0, 6])  # [True, False, True]\n",
    "print(s1.zip_with(s1 < s6, s6))"
   ]
  },
  {
   "cell_type": "code",
   "execution_count": 15,
   "metadata": {},
   "outputs": [
    {
     "name": "stdout",
     "output_type": "stream",
     "text": [
      "shape: (3,)\n",
      "Series: 's' [i64]\n",
      "[\n",
      "\t1\n",
      "\t0\n",
      "\t3\n",
      "]\n"
     ]
    }
   ],
   "source": [
    "print(s1.zip_with(pl.Series([True, False, True]), s6))"
   ]
  },
  {
   "cell_type": "markdown",
   "metadata": {},
   "source": [
    "## pl.DataFrame"
   ]
  },
  {
   "cell_type": "code",
   "execution_count": 16,
   "metadata": {},
   "outputs": [
    {
     "name": "stdout",
     "output_type": "stream",
     "text": [
      "shape: (3, 2)\n",
      "┌──────┬──────┐\n",
      "│ col1 ┆ col2 │\n",
      "│ ---  ┆ ---  │\n",
      "│ i64  ┆ str  │\n",
      "╞══════╪══════╡\n",
      "│ 1    ┆ x    │\n",
      "│ 2    ┆ y    │\n",
      "│ 3    ┆ z    │\n",
      "└──────┴──────┘\n"
     ]
    }
   ],
   "source": [
    "df1 = pl.DataFrame({\"col1\": [1, 2, 3], \"col2\": [\"x\", \"y\", \"z\"]})\n",
    "print(df1)"
   ]
  },
  {
   "cell_type": "code",
   "execution_count": 17,
   "metadata": {},
   "outputs": [
    {
     "name": "stdout",
     "output_type": "stream",
     "text": [
      "shape: (3, 2)\n",
      "┌──────┬──────┐\n",
      "│ col1 ┆ col2 │\n",
      "│ ---  ┆ ---  │\n",
      "│ i64  ┆ str  │\n",
      "╞══════╪══════╡\n",
      "│ 1    ┆ x    │\n",
      "│ 2    ┆ y    │\n",
      "│ 3    ┆ z    │\n",
      "└──────┴──────┘\n"
     ]
    }
   ],
   "source": [
    "df2 = pl.DataFrame(\n",
    "    {\"col1\": [1, 2, 3], \"col2\": [\"x\", \"y\", \"z\"]},\n",
    "    schema={\"col1\": pl.Int64, \"col2\": pl.String},\n",
    ")\n",
    "print(df2)"
   ]
  },
  {
   "cell_type": "code",
   "execution_count": 18,
   "metadata": {},
   "outputs": [],
   "source": [
    "assert_frame_equal(df1, df2)"
   ]
  },
  {
   "cell_type": "code",
   "execution_count": 19,
   "metadata": {},
   "outputs": [],
   "source": [
    "# ValueError: the given column-schema names do not match the data dictionary\n",
    "# pl.DataFrame({\"col1\": [1, 2, 3], \"col2\": [\"x\", \"y\", \"z\"]}, schema={\"col1\": pl.Int64})\n"
   ]
  },
  {
   "cell_type": "code",
   "execution_count": 20,
   "metadata": {},
   "outputs": [
    {
     "name": "stdout",
     "output_type": "stream",
     "text": [
      "shape: (3, 2)\n",
      "┌──────┬──────┐\n",
      "│ col1 ┆ col2 │\n",
      "│ ---  ┆ ---  │\n",
      "│ i64  ┆ str  │\n",
      "╞══════╪══════╡\n",
      "│ 1    ┆ x    │\n",
      "│ 2    ┆ y    │\n",
      "│ 3    ┆ z    │\n",
      "└──────┴──────┘\n"
     ]
    }
   ],
   "source": [
    "df3 = pl.DataFrame(\n",
    "    {\"col1\": [1, 2, 3], \"col2\": [\"x\", \"y\", \"z\"]},\n",
    "    schema_overrides={\"col1\": pl.Int64},\n",
    ")\n",
    "print(df3)"
   ]
  },
  {
   "cell_type": "code",
   "execution_count": 21,
   "metadata": {},
   "outputs": [],
   "source": [
    "assert_frame_equal(df1, df3)"
   ]
  },
  {
   "cell_type": "code",
   "execution_count": 22,
   "metadata": {},
   "outputs": [
    {
     "name": "stdout",
     "output_type": "stream",
     "text": [
      "shape: (3, 2)\n",
      "┌──────┬──────┐\n",
      "│ col1 ┆ col2 │\n",
      "│ ---  ┆ ---  │\n",
      "│ i64  ┆ str  │\n",
      "╞══════╪══════╡\n",
      "│ 1    ┆ x    │\n",
      "│ 2    ┆ y    │\n",
      "│ 3    ┆ z    │\n",
      "└──────┴──────┘\n"
     ]
    }
   ],
   "source": [
    "df4 = pl.DataFrame([[1, 2, 3], [\"x\", \"y\", \"z\"]], schema=[\"col1\", \"col2\"])\n",
    "print(df4)"
   ]
  },
  {
   "cell_type": "code",
   "execution_count": 23,
   "metadata": {},
   "outputs": [
    {
     "name": "stdout",
     "output_type": "stream",
     "text": [
      "shape: (3, 2)\n",
      "┌──────┬──────┐\n",
      "│ col1 ┆ col2 │\n",
      "│ ---  ┆ ---  │\n",
      "│ i64  ┆ str  │\n",
      "╞══════╪══════╡\n",
      "│ 1    ┆ x    │\n",
      "│ 2    ┆ y    │\n",
      "│ 3    ┆ z    │\n",
      "└──────┴──────┘\n"
     ]
    }
   ],
   "source": [
    "df5 = pl.from_dict({\"col1\": [1, 2, 3], \"col2\": [\"x\", \"y\", \"z\"]})\n",
    "print(df5)"
   ]
  },
  {
   "cell_type": "code",
   "execution_count": 24,
   "metadata": {},
   "outputs": [],
   "source": [
    "assert_frame_equal(df1, df5)"
   ]
  },
  {
   "cell_type": "code",
   "execution_count": 25,
   "metadata": {},
   "outputs": [
    {
     "name": "stdout",
     "output_type": "stream",
     "text": [
      "shape: (3, 2)\n",
      "┌──────┬──────┐\n",
      "│ col1 ┆ col2 │\n",
      "│ ---  ┆ ---  │\n",
      "│ i64  ┆ str  │\n",
      "╞══════╪══════╡\n",
      "│ 1    ┆ x    │\n",
      "│ 2    ┆ y    │\n",
      "│ 3    ┆ z    │\n",
      "└──────┴──────┘\n"
     ]
    }
   ],
   "source": [
    "df6 = pl.from_repr(\n",
    "    \"\"\"\n",
    "    shape: (3, 2)\n",
    "    ┌──────┬──────┐\n",
    "    │ col1 ┆ col2 │\n",
    "    │ ---  ┆ ---  │\n",
    "    │ i64  ┆ str  │\n",
    "    ╞══════╪══════╡\n",
    "    │ 1    ┆ x    │\n",
    "    │ 2    ┆ y    │\n",
    "    │ 3    ┆ z    │\n",
    "    └──────┴──────┘\n",
    "    \"\"\"\n",
    ")\n",
    "print(df6)"
   ]
  },
  {
   "cell_type": "code",
   "execution_count": 26,
   "metadata": {},
   "outputs": [],
   "source": [
    "assert_frame_equal(df1, df6)"
   ]
  },
  {
   "cell_type": "markdown",
   "metadata": {},
   "source": [
    "### Attributes and methods"
   ]
  },
  {
   "cell_type": "code",
   "execution_count": 27,
   "metadata": {},
   "outputs": [
    {
     "data": {
      "text/plain": [
       "(3, 2)"
      ]
     },
     "execution_count": 27,
     "metadata": {},
     "output_type": "execute_result"
    }
   ],
   "source": [
    "df1.shape"
   ]
  },
  {
   "cell_type": "code",
   "execution_count": 28,
   "metadata": {},
   "outputs": [
    {
     "name": "stdout",
     "output_type": "stream",
     "text": [
      "df1.height=3\n",
      "df1.width=2\n"
     ]
    }
   ],
   "source": [
    "print(f\"{df1.height=}\\n{df1.width=}\")"
   ]
  },
  {
   "cell_type": "code",
   "execution_count": 29,
   "metadata": {},
   "outputs": [
    {
     "name": "stdout",
     "output_type": "stream",
     "text": [
      "['col1', 'col2']\n"
     ]
    }
   ],
   "source": [
    "print(df1.columns)"
   ]
  },
  {
   "cell_type": "code",
   "execution_count": 30,
   "metadata": {},
   "outputs": [
    {
     "name": "stdout",
     "output_type": "stream",
     "text": [
      "shape: (3, 3)\n",
      "┌───────┬──────┬──────┐\n",
      "│ index ┆ col1 ┆ col2 │\n",
      "│ ---   ┆ ---  ┆ ---  │\n",
      "│ u32   ┆ i64  ┆ str  │\n",
      "╞═══════╪══════╪══════╡\n",
      "│ 0     ┆ 1    ┆ x    │\n",
      "│ 1     ┆ 2    ┆ y    │\n",
      "│ 2     ┆ 3    ┆ z    │\n",
      "└───────┴──────┴──────┘\n"
     ]
    }
   ],
   "source": [
    "print(df1.with_row_index())"
   ]
  },
  {
   "cell_type": "code",
   "execution_count": 31,
   "metadata": {},
   "outputs": [
    {
     "name": "stdout",
     "output_type": "stream",
     "text": [
      "shape: (3, 2)\n",
      "┌──────┬──────┐\n",
      "│ col1 ┆ col2 │\n",
      "│ ---  ┆ ---  │\n",
      "│ i64  ┆ str  │\n",
      "╞══════╪══════╡\n",
      "│ 1    ┆ x    │\n",
      "│ 2    ┆ y    │\n",
      "│ 3    ┆ z    │\n",
      "└──────┴──────┘\n"
     ]
    }
   ],
   "source": [
    "print(df1.head())"
   ]
  },
  {
   "cell_type": "code",
   "execution_count": 32,
   "metadata": {},
   "outputs": [
    {
     "name": "stdout",
     "output_type": "stream",
     "text": [
      "Rows: 3\n",
      "Columns: 2\n",
      "$ col1 <i64> 1, 2, 3\n",
      "$ col2 <str> 'x', 'y', 'z'\n",
      "\n",
      "None\n"
     ]
    }
   ],
   "source": [
    "print(df1.glimpse())"
   ]
  },
  {
   "cell_type": "markdown",
   "metadata": {},
   "source": [
    "## iter columns"
   ]
  },
  {
   "cell_type": "code",
   "execution_count": 33,
   "metadata": {},
   "outputs": [
    {
     "name": "stdout",
     "output_type": "stream",
     "text": [
      "shape: (3,)\n",
      "Series: 'col1' [i64]\n",
      "[\n",
      "\t1\n",
      "\t2\n",
      "\t3\n",
      "]\n",
      "\n",
      "shape: (3,)\n",
      "Series: 'col2' [str]\n",
      "[\n",
      "\t\"x\"\n",
      "\t\"y\"\n",
      "\t\"z\"\n",
      "]\n",
      "\n"
     ]
    }
   ],
   "source": [
    "for ser in df1.iter_columns():\n",
    "    print(ser, end=\"\\n\\n\")"
   ]
  },
  {
   "cell_type": "code",
   "execution_count": 34,
   "metadata": {},
   "outputs": [
    {
     "data": {
      "text/plain": [
       "[shape: (3,)\n",
       " Series: 'col1' [i64]\n",
       " [\n",
       " \t1\n",
       " \t2\n",
       " \t3\n",
       " ],\n",
       " shape: (3,)\n",
       " Series: 'col2' [str]\n",
       " [\n",
       " \t\"x\"\n",
       " \t\"y\"\n",
       " \t\"z\"\n",
       " ]]"
      ]
     },
     "execution_count": 34,
     "metadata": {},
     "output_type": "execute_result"
    }
   ],
   "source": [
    "df1.get_columns()"
   ]
  },
  {
   "cell_type": "markdown",
   "metadata": {},
   "source": [
    "## iter rows"
   ]
  },
  {
   "cell_type": "code",
   "execution_count": 35,
   "metadata": {},
   "outputs": [
    {
     "name": "stdout",
     "output_type": "stream",
     "text": [
      "(1, 'x')\n",
      "(2, 'y')\n",
      "(3, 'z')\n"
     ]
    }
   ],
   "source": [
    "for row in df1.iter_rows():\n",
    "    print(row)"
   ]
  },
  {
   "cell_type": "code",
   "execution_count": 36,
   "metadata": {},
   "outputs": [
    {
     "name": "stdout",
     "output_type": "stream",
     "text": [
      "1 x\n",
      "2 y\n",
      "3 z\n"
     ]
    }
   ],
   "source": [
    "for row in df1.iter_rows(named=True):\n",
    "    print(row[\"col1\"], row[\"col2\"])"
   ]
  },
  {
   "cell_type": "markdown",
   "metadata": {},
   "source": [
    "## Conversions"
   ]
  },
  {
   "cell_type": "code",
   "execution_count": 37,
   "metadata": {},
   "outputs": [
    {
     "name": "stdout",
     "output_type": "stream",
     "text": [
      "shape: (3, 1)\n",
      "┌─────┐\n",
      "│ s   │\n",
      "│ --- │\n",
      "│ i64 │\n",
      "╞═════╡\n",
      "│ 1   │\n",
      "│ 2   │\n",
      "│ 3   │\n",
      "└─────┘\n"
     ]
    }
   ],
   "source": [
    "print(s1.to_frame())"
   ]
  },
  {
   "cell_type": "code",
   "execution_count": 38,
   "metadata": {},
   "outputs": [
    {
     "name": "stdout",
     "output_type": "stream",
     "text": [
      "shape: (3,)\n",
      "Series: 'col1' [i64]\n",
      "[\n",
      "\t1\n",
      "\t2\n",
      "\t3\n",
      "]\n"
     ]
    }
   ],
   "source": [
    "print(df1.to_series())"
   ]
  },
  {
   "cell_type": "markdown",
   "metadata": {},
   "source": [
    "## add pl.Series to pl.DataFrame"
   ]
  },
  {
   "cell_type": "code",
   "execution_count": 39,
   "metadata": {},
   "outputs": [
    {
     "name": "stdout",
     "output_type": "stream",
     "text": [
      "shape: (3, 3)\n",
      "┌──────┬──────┬─────┐\n",
      "│ col1 ┆ col2 ┆ s   │\n",
      "│ ---  ┆ ---  ┆ --- │\n",
      "│ i64  ┆ str  ┆ i64 │\n",
      "╞══════╪══════╪═════╡\n",
      "│ 1    ┆ x    ┆ 1   │\n",
      "│ 2    ┆ y    ┆ 2   │\n",
      "│ 3    ┆ z    ┆ 3   │\n",
      "└──────┴──────┴─────┘\n"
     ]
    }
   ],
   "source": [
    "print(df1.with_columns(s1))"
   ]
  },
  {
   "cell_type": "markdown",
   "metadata": {},
   "source": [
    "## pl.concat()"
   ]
  },
  {
   "cell_type": "code",
   "execution_count": 40,
   "metadata": {},
   "outputs": [
    {
     "name": "stdout",
     "output_type": "stream",
     "text": [
      "shape: (6,)\n",
      "Series: 's_v1' [i64]\n",
      "[\n",
      "\t1\n",
      "\t2\n",
      "\t3\n",
      "\t4\n",
      "\t5\n",
      "\t6\n",
      "]\n"
     ]
    }
   ],
   "source": [
    "s_v1 = pl.Series(\"s_v1\", [1, 2, 3])\n",
    "s_v2 = pl.Series(\"s_v2\", [4, 5, 6])\n",
    "print(pl.concat([s_v1, s_v2]))"
   ]
  },
  {
   "cell_type": "code",
   "execution_count": 41,
   "metadata": {},
   "outputs": [
    {
     "name": "stdout",
     "output_type": "stream",
     "text": [
      "shape: (6, 2)\n",
      "┌──────┬──────┐\n",
      "│ col1 ┆ col2 │\n",
      "│ ---  ┆ ---  │\n",
      "│ i64  ┆ i64  │\n",
      "╞══════╪══════╡\n",
      "│ 1    ┆ 4    │\n",
      "│ 2    ┆ 5    │\n",
      "│ 3    ┆ 6    │\n",
      "│ 7    ┆ 10   │\n",
      "│ 8    ┆ 11   │\n",
      "│ 9    ┆ 12   │\n",
      "└──────┴──────┘\n"
     ]
    }
   ],
   "source": [
    "df_v1 = pl.DataFrame({\"col1\": [1, 2, 3], \"col2\": [4, 5, 6]})\n",
    "df_v2 = pl.DataFrame({\"col1\": [7, 8, 9], \"col2\": [10, 11, 12]})\n",
    "print(pl.concat([df_v1, df_v2], how=\"vertical\"))"
   ]
  },
  {
   "cell_type": "code",
   "execution_count": 42,
   "metadata": {},
   "outputs": [
    {
     "name": "stdout",
     "output_type": "stream",
     "text": [
      "shape: (3, 4)\n",
      "┌──────┬──────┬──────┬──────┐\n",
      "│ col1 ┆ col2 ┆ col3 ┆ col4 │\n",
      "│ ---  ┆ ---  ┆ ---  ┆ ---  │\n",
      "│ i64  ┆ i64  ┆ i64  ┆ i64  │\n",
      "╞══════╪══════╪══════╪══════╡\n",
      "│ 1    ┆ 4    ┆ 7    ┆ 10   │\n",
      "│ 2    ┆ 5    ┆ 8    ┆ 11   │\n",
      "│ 3    ┆ 6    ┆ 9    ┆ 12   │\n",
      "└──────┴──────┴──────┴──────┘\n"
     ]
    }
   ],
   "source": [
    "df_h1 = pl.DataFrame({\"col1\": [1, 2, 3], \"col2\": [4, 5, 6]})\n",
    "df_h2 = pl.DataFrame({\"col3\": [7, 8, 9], \"col4\": [10, 11, 12]})\n",
    "print(pl.concat([df_h1, df_h2], how=\"horizontal\"))"
   ]
  }
 ],
 "metadata": {
  "kernelspec": {
   "display_name": "venv",
   "language": "python",
   "name": "python3"
  },
  "language_info": {
   "codemirror_mode": {
    "name": "ipython",
    "version": 3
   },
   "file_extension": ".py",
   "mimetype": "text/x-python",
   "name": "python",
   "nbconvert_exporter": "python",
   "pygments_lexer": "ipython3",
   "version": "3.13.7"
  }
 },
 "nbformat": 4,
 "nbformat_minor": 2
}
